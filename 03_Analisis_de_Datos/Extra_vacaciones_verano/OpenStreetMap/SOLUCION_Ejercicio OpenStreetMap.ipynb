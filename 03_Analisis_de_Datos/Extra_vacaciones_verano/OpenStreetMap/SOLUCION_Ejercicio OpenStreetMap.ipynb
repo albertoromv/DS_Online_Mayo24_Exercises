{
 "cells": [
  {
   "attachments": {},
   "cell_type": "markdown",
   "metadata": {},
   "source": [
    "# Ejercicio OpenStreetMap\n",
    "Para este ejercicio vas a trabar con Overpass, que es la API que utiliza los datos de OpenStreetMap. Tras obtener datos geográficos mediante la API, tendrás que representarlos con Plotly.\n",
    "\n",
    "Hay que obtener los siguientes datos de cada ubicación conseguida en OpenStreetMap\n",
    "* tipo de amenity\n",
    "* latitud\n",
    "* longitud\n",
    "* nombre\n",
    "* direccion\n",
    "\n",
    "**NOTA**: En este Notebook utilizarás gráficas de Plotly, y JupyterLab de momento no lo soporta, a no ser que instales una extensión. Para solucionar esto, abre el Notebook desde Jupyter normal:\n",
    "\n",
    "![imagen](./img/jupyter.png)\n",
    "\n",
    "Tienes en [este enlace](https://wiki.openstreetmap.org/wiki/Key:amenity#Healthcare) la lista de *amenities* que vas a usar en el notebook."
   ]
  },
  {
   "cell_type": "code",
   "execution_count": 1,
   "metadata": {},
   "outputs": [],
   "source": [
    "#!pip install plotly"
   ]
  },
  {
   "attachments": {},
   "cell_type": "markdown",
   "metadata": {},
   "source": [
    "## Instalación\n",
    "Si no tienes instalado Plotly, abre un terminal y escribe:\n",
    "```\n",
    "pip install plotly\n",
    "```\n",
    "\n",
    "Importa las librerias que vamos a usar en el Notebook"
   ]
  },
  {
   "cell_type": "code",
   "execution_count": 2,
   "metadata": {},
   "outputs": [],
   "source": [
    "import requests\n",
    "import json\n",
    "import pandas as pd"
   ]
  },
  {
   "attachments": {},
   "cell_type": "markdown",
   "metadata": {},
   "source": [
    "Ataca a la API de OpenStreetmap con el siguiente código de ejemplo"
   ]
  },
  {
   "cell_type": "code",
   "execution_count": 3,
   "metadata": {},
   "outputs": [
    {
     "name": "stdout",
     "output_type": "stream",
     "text": [
      "<Response [200]>\n"
     ]
    }
   ],
   "source": [
    "overpass_url = \"http://overpass-api.de/api/interpreter\"\n",
    "overpass_query = \"\"\"\n",
    "[out:json];\n",
    "node[\"amenity\"=\"ice_cream\"]\n",
    "  (40.420801, -3.694702,40.423754, -3.688167); \n",
    "out;\n",
    "\"\"\"\n",
    "response = requests.get(overpass_url, \n",
    "                        params={'data': overpass_query})\n",
    "print(response)\n",
    "data = response.json()"
   ]
  },
  {
   "attachments": {},
   "cell_type": "markdown",
   "metadata": {},
   "source": [
    "Con el siguiente código podrás adaptar el JSON que devuelve la API, a un formato DataFrame más amigable"
   ]
  },
  {
   "cell_type": "code",
   "execution_count": 4,
   "metadata": {},
   "outputs": [],
   "source": [
    "def json_to_df(data):\n",
    "    elements = data['elements']\n",
    "    places = {'tipo': [], 'lat': [], 'lon': [], 'name': [], 'address': []}\n",
    "    \n",
    "    for i in elements:\n",
    "        \n",
    "        tipo = i.get('tags', None).get('amenity', None)\n",
    "        latitude = i.get('lat', None)\n",
    "        longitude = i.get('lon', None)\n",
    "        name = i.get('tags', {}).get('name', \"NO NAME\")\n",
    "        street = i.get('tags', {}).get('addr:street', \"NO STREET\")\n",
    "        number = i.get('tags', {}).get('addr:housenumber', 9999)\n",
    "\n",
    "        places['tipo'].append(tipo)\n",
    "        places['lat'].append(latitude)\n",
    "        places['lon'].append(longitude)\n",
    "        places['name'].append(name)\n",
    "        places['address'].append(street + ' ' + str(number))\n",
    "\n",
    "            \n",
    "    return pd.DataFrame(places)"
   ]
  },
  {
   "attachments": {},
   "cell_type": "markdown",
   "metadata": {},
   "source": [
    "Utilizarás esta función para representar los datos en un mapa de Matplotlib"
   ]
  },
  {
   "cell_type": "code",
   "execution_count": 5,
   "metadata": {},
   "outputs": [],
   "source": [
    "import plotly.express as px\n",
    "\n",
    "mapbox_access_token = \"xxxx\"\n",
    "\n",
    "def pinta_mapa(df):\n",
    "    fig = px.scatter_mapbox(df,\n",
    "                            lat=\"lat\",\n",
    "                            lon=\"lon\",\n",
    "                            color = \"tipo\",\n",
    "                      color_continuous_scale=px.colors.cyclical.IceFire, size_max=15, zoom=11)\n",
    "    fig.update_layout(\n",
    "        mapbox=dict(\n",
    "            accesstoken=mapbox_access_token\n",
    "        )\n",
    "    )\n",
    "\n",
    "    fig.show()"
   ]
  },
  {
   "attachments": {},
   "cell_type": "markdown",
   "metadata": {},
   "source": [
    "Como ejemplo, si quiero ver cuántos restaurantes tengo cerca de The Bridge:"
   ]
  },
  {
   "cell_type": "code",
   "execution_count": 6,
   "metadata": {},
   "outputs": [
    {
     "name": "stdout",
     "output_type": "stream",
     "text": [
      "<Response [200]>\n"
     ]
    },
    {
     "data": {
      "text/html": [
       "<div>\n",
       "<style scoped>\n",
       "    .dataframe tbody tr th:only-of-type {\n",
       "        vertical-align: middle;\n",
       "    }\n",
       "\n",
       "    .dataframe tbody tr th {\n",
       "        vertical-align: top;\n",
       "    }\n",
       "\n",
       "    .dataframe thead th {\n",
       "        text-align: right;\n",
       "    }\n",
       "</style>\n",
       "<table border=\"1\" class=\"dataframe\">\n",
       "  <thead>\n",
       "    <tr style=\"text-align: right;\">\n",
       "      <th></th>\n",
       "      <th>tipo</th>\n",
       "      <th>lat</th>\n",
       "      <th>lon</th>\n",
       "      <th>name</th>\n",
       "      <th>address</th>\n",
       "    </tr>\n",
       "  </thead>\n",
       "  <tbody>\n",
       "    <tr>\n",
       "      <th>0</th>\n",
       "      <td>restaurant</td>\n",
       "      <td>40.423086</td>\n",
       "      <td>-3.693547</td>\n",
       "      <td>La Castafiore</td>\n",
       "      <td>NO STREET 9999</td>\n",
       "    </tr>\n",
       "    <tr>\n",
       "      <th>1</th>\n",
       "      <td>restaurant</td>\n",
       "      <td>40.422607</td>\n",
       "      <td>-3.693256</td>\n",
       "      <td>Sake Dining Himawari</td>\n",
       "      <td>NO STREET 9999</td>\n",
       "    </tr>\n",
       "    <tr>\n",
       "      <th>2</th>\n",
       "      <td>restaurant</td>\n",
       "      <td>40.423315</td>\n",
       "      <td>-3.692506</td>\n",
       "      <td>Ainhoa</td>\n",
       "      <td>Calle de Doña Bárbara de Braganza 12</td>\n",
       "    </tr>\n",
       "    <tr>\n",
       "      <th>3</th>\n",
       "      <td>restaurant</td>\n",
       "      <td>40.421960</td>\n",
       "      <td>-3.694270</td>\n",
       "      <td>La Kitchen</td>\n",
       "      <td>NO STREET 9999</td>\n",
       "    </tr>\n",
       "    <tr>\n",
       "      <th>4</th>\n",
       "      <td>restaurant</td>\n",
       "      <td>40.422427</td>\n",
       "      <td>-3.693028</td>\n",
       "      <td>Regañadientes</td>\n",
       "      <td>Calle del Almirante 24</td>\n",
       "    </tr>\n",
       "    <tr>\n",
       "      <th>5</th>\n",
       "      <td>restaurant</td>\n",
       "      <td>40.421951</td>\n",
       "      <td>-3.693535</td>\n",
       "      <td>Tampu</td>\n",
       "      <td>Calle de Prim 13</td>\n",
       "    </tr>\n",
       "    <tr>\n",
       "      <th>6</th>\n",
       "      <td>restaurant</td>\n",
       "      <td>40.423132</td>\n",
       "      <td>-3.694039</td>\n",
       "      <td>Taqueria La Lupita</td>\n",
       "      <td>Calle del Conde de Xiquena 9999</td>\n",
       "    </tr>\n",
       "    <tr>\n",
       "      <th>7</th>\n",
       "      <td>restaurant</td>\n",
       "      <td>40.423345</td>\n",
       "      <td>-3.692632</td>\n",
       "      <td>El Gato Persa</td>\n",
       "      <td>Calle de Doña Bárbara de Braganza 10</td>\n",
       "    </tr>\n",
       "    <tr>\n",
       "      <th>8</th>\n",
       "      <td>restaurant</td>\n",
       "      <td>40.423386</td>\n",
       "      <td>-3.694036</td>\n",
       "      <td>Shuwa Shuwa</td>\n",
       "      <td>Calle del Conde de Xiquena 12</td>\n",
       "    </tr>\n",
       "    <tr>\n",
       "      <th>9</th>\n",
       "      <td>restaurant</td>\n",
       "      <td>40.421872</td>\n",
       "      <td>-3.690240</td>\n",
       "      <td>Banzai</td>\n",
       "      <td>NO STREET 9999</td>\n",
       "    </tr>\n",
       "    <tr>\n",
       "      <th>10</th>\n",
       "      <td>restaurant</td>\n",
       "      <td>40.421948</td>\n",
       "      <td>-3.690353</td>\n",
       "      <td>mama chico</td>\n",
       "      <td>NO STREET 9999</td>\n",
       "    </tr>\n",
       "    <tr>\n",
       "      <th>11</th>\n",
       "      <td>restaurant</td>\n",
       "      <td>40.421130</td>\n",
       "      <td>-3.689796</td>\n",
       "      <td>dokidoki</td>\n",
       "      <td>NO STREET 9999</td>\n",
       "    </tr>\n",
       "    <tr>\n",
       "      <th>12</th>\n",
       "      <td>restaurant</td>\n",
       "      <td>40.423600</td>\n",
       "      <td>-3.693725</td>\n",
       "      <td>Luke</td>\n",
       "      <td>Calle de Doña Bárbara de Braganza 2</td>\n",
       "    </tr>\n",
       "    <tr>\n",
       "      <th>13</th>\n",
       "      <td>restaurant</td>\n",
       "      <td>40.422141</td>\n",
       "      <td>-3.690864</td>\n",
       "      <td>Taberna Pedraza</td>\n",
       "      <td>Calle de Recoletos 4</td>\n",
       "    </tr>\n",
       "    <tr>\n",
       "      <th>14</th>\n",
       "      <td>restaurant</td>\n",
       "      <td>40.422379</td>\n",
       "      <td>-3.689518</td>\n",
       "      <td>Flavia</td>\n",
       "      <td>Calle de Gil de Santivañes 2</td>\n",
       "    </tr>\n",
       "    <tr>\n",
       "      <th>15</th>\n",
       "      <td>restaurant</td>\n",
       "      <td>40.422151</td>\n",
       "      <td>-3.690570</td>\n",
       "      <td>Al-Mounia</td>\n",
       "      <td>NO STREET 9999</td>\n",
       "    </tr>\n",
       "    <tr>\n",
       "      <th>16</th>\n",
       "      <td>restaurant</td>\n",
       "      <td>40.422777</td>\n",
       "      <td>-3.689781</td>\n",
       "      <td>Baan</td>\n",
       "      <td>Calle de Villanueva 2</td>\n",
       "    </tr>\n",
       "    <tr>\n",
       "      <th>17</th>\n",
       "      <td>restaurant</td>\n",
       "      <td>40.422255</td>\n",
       "      <td>-3.694251</td>\n",
       "      <td>Merci</td>\n",
       "      <td>Calle del Conde de Xiquena 3</td>\n",
       "    </tr>\n",
       "    <tr>\n",
       "      <th>18</th>\n",
       "      <td>restaurant</td>\n",
       "      <td>40.422576</td>\n",
       "      <td>-3.694493</td>\n",
       "      <td>Mortadella</td>\n",
       "      <td>Calle del Almirante 11</td>\n",
       "    </tr>\n",
       "    <tr>\n",
       "      <th>19</th>\n",
       "      <td>restaurant</td>\n",
       "      <td>40.422081</td>\n",
       "      <td>-3.690748</td>\n",
       "      <td>New York Burger</td>\n",
       "      <td>Calle de Recoletos 4</td>\n",
       "    </tr>\n",
       "    <tr>\n",
       "      <th>20</th>\n",
       "      <td>restaurant</td>\n",
       "      <td>40.422941</td>\n",
       "      <td>-3.694051</td>\n",
       "      <td>Restaurante la Buena Vida</td>\n",
       "      <td>NO STREET 9999</td>\n",
       "    </tr>\n",
       "    <tr>\n",
       "      <th>21</th>\n",
       "      <td>restaurant</td>\n",
       "      <td>40.422211</td>\n",
       "      <td>-3.690702</td>\n",
       "      <td>Pelotari</td>\n",
       "      <td>NO STREET 9999</td>\n",
       "    </tr>\n",
       "    <tr>\n",
       "      <th>22</th>\n",
       "      <td>restaurant</td>\n",
       "      <td>40.422235</td>\n",
       "      <td>-3.690743</td>\n",
       "      <td>El Pelotari</td>\n",
       "      <td>NO STREET 9999</td>\n",
       "    </tr>\n",
       "    <tr>\n",
       "      <th>23</th>\n",
       "      <td>restaurant</td>\n",
       "      <td>40.423695</td>\n",
       "      <td>-3.691651</td>\n",
       "      <td>Gran Café El Espejo</td>\n",
       "      <td>Paseo de Recoletos 31</td>\n",
       "    </tr>\n",
       "    <tr>\n",
       "      <th>24</th>\n",
       "      <td>restaurant</td>\n",
       "      <td>40.422441</td>\n",
       "      <td>-3.694220</td>\n",
       "      <td>Cannibal Raw Bar</td>\n",
       "      <td>Calle del Almirante 12</td>\n",
       "    </tr>\n",
       "    <tr>\n",
       "      <th>25</th>\n",
       "      <td>restaurant</td>\n",
       "      <td>40.422266</td>\n",
       "      <td>-3.694091</td>\n",
       "      <td>Casa Gades</td>\n",
       "      <td>Calle del Conde de Xiquena 4</td>\n",
       "    </tr>\n",
       "    <tr>\n",
       "      <th>26</th>\n",
       "      <td>restaurant</td>\n",
       "      <td>40.423572</td>\n",
       "      <td>-3.692729</td>\n",
       "      <td>Nomo</td>\n",
       "      <td>Calle de Doña Bárbara de Braganza 9999</td>\n",
       "    </tr>\n",
       "    <tr>\n",
       "      <th>27</th>\n",
       "      <td>restaurant</td>\n",
       "      <td>40.422014</td>\n",
       "      <td>-3.690600</td>\n",
       "      <td>NOI</td>\n",
       "      <td>Calle de Recoletos 6</td>\n",
       "    </tr>\n",
       "    <tr>\n",
       "      <th>28</th>\n",
       "      <td>restaurant</td>\n",
       "      <td>40.421977</td>\n",
       "      <td>-3.690127</td>\n",
       "      <td>Sky Sushi &amp; Ramen</td>\n",
       "      <td>NO STREET 9999</td>\n",
       "    </tr>\n",
       "    <tr>\n",
       "      <th>29</th>\n",
       "      <td>restaurant</td>\n",
       "      <td>40.422045</td>\n",
       "      <td>-3.690293</td>\n",
       "      <td>El Barril del Recoletos</td>\n",
       "      <td>NO STREET 9999</td>\n",
       "    </tr>\n",
       "    <tr>\n",
       "      <th>30</th>\n",
       "      <td>restaurant</td>\n",
       "      <td>40.421708</td>\n",
       "      <td>-3.689900</td>\n",
       "      <td>Madrid Oyster Bar</td>\n",
       "      <td>NO STREET 9999</td>\n",
       "    </tr>\n",
       "    <tr>\n",
       "      <th>31</th>\n",
       "      <td>restaurant</td>\n",
       "      <td>40.421667</td>\n",
       "      <td>-3.689821</td>\n",
       "      <td>Las Columnas</td>\n",
       "      <td>NO STREET 9999</td>\n",
       "    </tr>\n",
       "    <tr>\n",
       "      <th>32</th>\n",
       "      <td>restaurant</td>\n",
       "      <td>40.421183</td>\n",
       "      <td>-3.689933</td>\n",
       "      <td>Red Project</td>\n",
       "      <td>NO STREET 9999</td>\n",
       "    </tr>\n",
       "    <tr>\n",
       "      <th>33</th>\n",
       "      <td>restaurant</td>\n",
       "      <td>40.422346</td>\n",
       "      <td>-3.693968</td>\n",
       "      <td>Charrua Nadrid</td>\n",
       "      <td>Calle del Conde de Xiquena 4</td>\n",
       "    </tr>\n",
       "    <tr>\n",
       "      <th>34</th>\n",
       "      <td>restaurant</td>\n",
       "      <td>40.421837</td>\n",
       "      <td>-3.689824</td>\n",
       "      <td>Mudrá Plant Based Food</td>\n",
       "      <td>Calle de Recoletos 13</td>\n",
       "    </tr>\n",
       "  </tbody>\n",
       "</table>\n",
       "</div>"
      ],
      "text/plain": [
       "          tipo        lat       lon                       name  \\\n",
       "0   restaurant  40.423086 -3.693547              La Castafiore   \n",
       "1   restaurant  40.422607 -3.693256       Sake Dining Himawari   \n",
       "2   restaurant  40.423315 -3.692506                     Ainhoa   \n",
       "3   restaurant  40.421960 -3.694270                 La Kitchen   \n",
       "4   restaurant  40.422427 -3.693028              Regañadientes   \n",
       "5   restaurant  40.421951 -3.693535                      Tampu   \n",
       "6   restaurant  40.423132 -3.694039         Taqueria La Lupita   \n",
       "7   restaurant  40.423345 -3.692632              El Gato Persa   \n",
       "8   restaurant  40.423386 -3.694036                Shuwa Shuwa   \n",
       "9   restaurant  40.421872 -3.690240                     Banzai   \n",
       "10  restaurant  40.421948 -3.690353                 mama chico   \n",
       "11  restaurant  40.421130 -3.689796                   dokidoki   \n",
       "12  restaurant  40.423600 -3.693725                       Luke   \n",
       "13  restaurant  40.422141 -3.690864            Taberna Pedraza   \n",
       "14  restaurant  40.422379 -3.689518                     Flavia   \n",
       "15  restaurant  40.422151 -3.690570                  Al-Mounia   \n",
       "16  restaurant  40.422777 -3.689781                       Baan   \n",
       "17  restaurant  40.422255 -3.694251                      Merci   \n",
       "18  restaurant  40.422576 -3.694493                 Mortadella   \n",
       "19  restaurant  40.422081 -3.690748            New York Burger   \n",
       "20  restaurant  40.422941 -3.694051  Restaurante la Buena Vida   \n",
       "21  restaurant  40.422211 -3.690702                   Pelotari   \n",
       "22  restaurant  40.422235 -3.690743                El Pelotari   \n",
       "23  restaurant  40.423695 -3.691651        Gran Café El Espejo   \n",
       "24  restaurant  40.422441 -3.694220           Cannibal Raw Bar   \n",
       "25  restaurant  40.422266 -3.694091                 Casa Gades   \n",
       "26  restaurant  40.423572 -3.692729                       Nomo   \n",
       "27  restaurant  40.422014 -3.690600                        NOI   \n",
       "28  restaurant  40.421977 -3.690127          Sky Sushi & Ramen   \n",
       "29  restaurant  40.422045 -3.690293    El Barril del Recoletos   \n",
       "30  restaurant  40.421708 -3.689900          Madrid Oyster Bar   \n",
       "31  restaurant  40.421667 -3.689821               Las Columnas   \n",
       "32  restaurant  40.421183 -3.689933                Red Project   \n",
       "33  restaurant  40.422346 -3.693968             Charrua Nadrid   \n",
       "34  restaurant  40.421837 -3.689824     Mudrá Plant Based Food   \n",
       "\n",
       "                                   address  \n",
       "0                           NO STREET 9999  \n",
       "1                           NO STREET 9999  \n",
       "2     Calle de Doña Bárbara de Braganza 12  \n",
       "3                           NO STREET 9999  \n",
       "4                   Calle del Almirante 24  \n",
       "5                         Calle de Prim 13  \n",
       "6          Calle del Conde de Xiquena 9999  \n",
       "7     Calle de Doña Bárbara de Braganza 10  \n",
       "8            Calle del Conde de Xiquena 12  \n",
       "9                           NO STREET 9999  \n",
       "10                          NO STREET 9999  \n",
       "11                          NO STREET 9999  \n",
       "12     Calle de Doña Bárbara de Braganza 2  \n",
       "13                    Calle de Recoletos 4  \n",
       "14            Calle de Gil de Santivañes 2  \n",
       "15                          NO STREET 9999  \n",
       "16                   Calle de Villanueva 2  \n",
       "17            Calle del Conde de Xiquena 3  \n",
       "18                  Calle del Almirante 11  \n",
       "19                    Calle de Recoletos 4  \n",
       "20                          NO STREET 9999  \n",
       "21                          NO STREET 9999  \n",
       "22                          NO STREET 9999  \n",
       "23                   Paseo de Recoletos 31  \n",
       "24                  Calle del Almirante 12  \n",
       "25            Calle del Conde de Xiquena 4  \n",
       "26  Calle de Doña Bárbara de Braganza 9999  \n",
       "27                    Calle de Recoletos 6  \n",
       "28                          NO STREET 9999  \n",
       "29                          NO STREET 9999  \n",
       "30                          NO STREET 9999  \n",
       "31                          NO STREET 9999  \n",
       "32                          NO STREET 9999  \n",
       "33            Calle del Conde de Xiquena 4  \n",
       "34                   Calle de Recoletos 13  "
      ]
     },
     "execution_count": 6,
     "metadata": {},
     "output_type": "execute_result"
    }
   ],
   "source": [
    "overpass_url = \"http://overpass-api.de/api/interpreter\"\n",
    "overpass_query = \"\"\"\n",
    "[out:json];\n",
    "node[\"amenity\"=\"restaurant\"]\n",
    "  (40.420801, -3.694702,40.423754, -3.688167); \n",
    "out;\n",
    "\"\"\"\n",
    "response = requests.get(overpass_url, \n",
    "                        params={'data': overpass_query})\n",
    "print(response)\n",
    "data = response.json()\n",
    "df = json_to_df(data)\n",
    "df"
   ]
  },
  {
   "cell_type": "code",
   "execution_count": 7,
   "metadata": {
    "tags": []
   },
   "outputs": [
    {
     "data": {
      "application/vnd.plotly.v1+json": {
       "config": {
        "plotlyServerURL": "https://plot.ly"
       },
       "data": [
        {
         "hovertemplate": "tipo=restaurant<br>lat=%{lat}<br>lon=%{lon}<extra></extra>",
         "lat": [
          40.4230858,
          40.4226068,
          40.4233148,
          40.4219603,
          40.4224275,
          40.4219515,
          40.4231323,
          40.4233452,
          40.4233863,
          40.4218723,
          40.4219475,
          40.4211297,
          40.4236005,
          40.4221408,
          40.4223791,
          40.4221513,
          40.4227772,
          40.4222548,
          40.422576,
          40.4220813,
          40.4229408,
          40.422211,
          40.4222351,
          40.4236949,
          40.4224409,
          40.4222664,
          40.4235715,
          40.4220139,
          40.4219768,
          40.4220452,
          40.4217083,
          40.4216666,
          40.4211825,
          40.4223458,
          40.4218371
         ],
         "legendgroup": "restaurant",
         "lon": [
          -3.6935468,
          -3.6932565,
          -3.6925055,
          -3.6942702,
          -3.6930284,
          -3.6935347,
          -3.6940393,
          -3.6926318,
          -3.6940364,
          -3.6902405,
          -3.6903531,
          -3.6897958,
          -3.6937246,
          -3.6908645,
          -3.6895175,
          -3.6905695,
          -3.6897814,
          -3.6942512,
          -3.694493,
          -3.6907483,
          -3.6940512,
          -3.6907019,
          -3.6907431,
          -3.6916509,
          -3.6942202,
          -3.6940914,
          -3.6927293,
          -3.6906004,
          -3.6901268,
          -3.6902931,
          -3.6898996,
          -3.6898211,
          -3.6899329,
          -3.6939684,
          -3.6898237
         ],
         "marker": {
          "color": "#636efa"
         },
         "mode": "markers",
         "name": "restaurant",
         "showlegend": true,
         "subplot": "mapbox",
         "type": "scattermapbox"
        }
       ],
       "layout": {
        "legend": {
         "title": {
          "text": "tipo"
         },
         "tracegroupgap": 0
        },
        "mapbox": {
         "accesstoken": "pk.eyJ1IjoiZGFvcnRpIiwiYSI6ImNrZnF6M3FlczA3cDEyem16YTNzZmV4M2EifQ.846iF0sMSAXv0kwkwUTYjg",
         "center": {
          "lat": 40.42240736571428,
          "lon": -3.691938371428571
         },
         "domain": {
          "x": [
           0,
           1
          ],
          "y": [
           0,
           1
          ]
         },
         "zoom": 11
        },
        "margin": {
         "t": 60
        },
        "template": {
         "data": {
          "bar": [
           {
            "error_x": {
             "color": "#2a3f5f"
            },
            "error_y": {
             "color": "#2a3f5f"
            },
            "marker": {
             "line": {
              "color": "#E5ECF6",
              "width": 0.5
             },
             "pattern": {
              "fillmode": "overlay",
              "size": 10,
              "solidity": 0.2
             }
            },
            "type": "bar"
           }
          ],
          "barpolar": [
           {
            "marker": {
             "line": {
              "color": "#E5ECF6",
              "width": 0.5
             },
             "pattern": {
              "fillmode": "overlay",
              "size": 10,
              "solidity": 0.2
             }
            },
            "type": "barpolar"
           }
          ],
          "carpet": [
           {
            "aaxis": {
             "endlinecolor": "#2a3f5f",
             "gridcolor": "white",
             "linecolor": "white",
             "minorgridcolor": "white",
             "startlinecolor": "#2a3f5f"
            },
            "baxis": {
             "endlinecolor": "#2a3f5f",
             "gridcolor": "white",
             "linecolor": "white",
             "minorgridcolor": "white",
             "startlinecolor": "#2a3f5f"
            },
            "type": "carpet"
           }
          ],
          "choropleth": [
           {
            "colorbar": {
             "outlinewidth": 0,
             "ticks": ""
            },
            "type": "choropleth"
           }
          ],
          "contour": [
           {
            "colorbar": {
             "outlinewidth": 0,
             "ticks": ""
            },
            "colorscale": [
             [
              0,
              "#0d0887"
             ],
             [
              0.1111111111111111,
              "#46039f"
             ],
             [
              0.2222222222222222,
              "#7201a8"
             ],
             [
              0.3333333333333333,
              "#9c179e"
             ],
             [
              0.4444444444444444,
              "#bd3786"
             ],
             [
              0.5555555555555556,
              "#d8576b"
             ],
             [
              0.6666666666666666,
              "#ed7953"
             ],
             [
              0.7777777777777778,
              "#fb9f3a"
             ],
             [
              0.8888888888888888,
              "#fdca26"
             ],
             [
              1,
              "#f0f921"
             ]
            ],
            "type": "contour"
           }
          ],
          "contourcarpet": [
           {
            "colorbar": {
             "outlinewidth": 0,
             "ticks": ""
            },
            "type": "contourcarpet"
           }
          ],
          "heatmap": [
           {
            "colorbar": {
             "outlinewidth": 0,
             "ticks": ""
            },
            "colorscale": [
             [
              0,
              "#0d0887"
             ],
             [
              0.1111111111111111,
              "#46039f"
             ],
             [
              0.2222222222222222,
              "#7201a8"
             ],
             [
              0.3333333333333333,
              "#9c179e"
             ],
             [
              0.4444444444444444,
              "#bd3786"
             ],
             [
              0.5555555555555556,
              "#d8576b"
             ],
             [
              0.6666666666666666,
              "#ed7953"
             ],
             [
              0.7777777777777778,
              "#fb9f3a"
             ],
             [
              0.8888888888888888,
              "#fdca26"
             ],
             [
              1,
              "#f0f921"
             ]
            ],
            "type": "heatmap"
           }
          ],
          "heatmapgl": [
           {
            "colorbar": {
             "outlinewidth": 0,
             "ticks": ""
            },
            "colorscale": [
             [
              0,
              "#0d0887"
             ],
             [
              0.1111111111111111,
              "#46039f"
             ],
             [
              0.2222222222222222,
              "#7201a8"
             ],
             [
              0.3333333333333333,
              "#9c179e"
             ],
             [
              0.4444444444444444,
              "#bd3786"
             ],
             [
              0.5555555555555556,
              "#d8576b"
             ],
             [
              0.6666666666666666,
              "#ed7953"
             ],
             [
              0.7777777777777778,
              "#fb9f3a"
             ],
             [
              0.8888888888888888,
              "#fdca26"
             ],
             [
              1,
              "#f0f921"
             ]
            ],
            "type": "heatmapgl"
           }
          ],
          "histogram": [
           {
            "marker": {
             "pattern": {
              "fillmode": "overlay",
              "size": 10,
              "solidity": 0.2
             }
            },
            "type": "histogram"
           }
          ],
          "histogram2d": [
           {
            "colorbar": {
             "outlinewidth": 0,
             "ticks": ""
            },
            "colorscale": [
             [
              0,
              "#0d0887"
             ],
             [
              0.1111111111111111,
              "#46039f"
             ],
             [
              0.2222222222222222,
              "#7201a8"
             ],
             [
              0.3333333333333333,
              "#9c179e"
             ],
             [
              0.4444444444444444,
              "#bd3786"
             ],
             [
              0.5555555555555556,
              "#d8576b"
             ],
             [
              0.6666666666666666,
              "#ed7953"
             ],
             [
              0.7777777777777778,
              "#fb9f3a"
             ],
             [
              0.8888888888888888,
              "#fdca26"
             ],
             [
              1,
              "#f0f921"
             ]
            ],
            "type": "histogram2d"
           }
          ],
          "histogram2dcontour": [
           {
            "colorbar": {
             "outlinewidth": 0,
             "ticks": ""
            },
            "colorscale": [
             [
              0,
              "#0d0887"
             ],
             [
              0.1111111111111111,
              "#46039f"
             ],
             [
              0.2222222222222222,
              "#7201a8"
             ],
             [
              0.3333333333333333,
              "#9c179e"
             ],
             [
              0.4444444444444444,
              "#bd3786"
             ],
             [
              0.5555555555555556,
              "#d8576b"
             ],
             [
              0.6666666666666666,
              "#ed7953"
             ],
             [
              0.7777777777777778,
              "#fb9f3a"
             ],
             [
              0.8888888888888888,
              "#fdca26"
             ],
             [
              1,
              "#f0f921"
             ]
            ],
            "type": "histogram2dcontour"
           }
          ],
          "mesh3d": [
           {
            "colorbar": {
             "outlinewidth": 0,
             "ticks": ""
            },
            "type": "mesh3d"
           }
          ],
          "parcoords": [
           {
            "line": {
             "colorbar": {
              "outlinewidth": 0,
              "ticks": ""
             }
            },
            "type": "parcoords"
           }
          ],
          "pie": [
           {
            "automargin": true,
            "type": "pie"
           }
          ],
          "scatter": [
           {
            "fillpattern": {
             "fillmode": "overlay",
             "size": 10,
             "solidity": 0.2
            },
            "type": "scatter"
           }
          ],
          "scatter3d": [
           {
            "line": {
             "colorbar": {
              "outlinewidth": 0,
              "ticks": ""
             }
            },
            "marker": {
             "colorbar": {
              "outlinewidth": 0,
              "ticks": ""
             }
            },
            "type": "scatter3d"
           }
          ],
          "scattercarpet": [
           {
            "marker": {
             "colorbar": {
              "outlinewidth": 0,
              "ticks": ""
             }
            },
            "type": "scattercarpet"
           }
          ],
          "scattergeo": [
           {
            "marker": {
             "colorbar": {
              "outlinewidth": 0,
              "ticks": ""
             }
            },
            "type": "scattergeo"
           }
          ],
          "scattergl": [
           {
            "marker": {
             "colorbar": {
              "outlinewidth": 0,
              "ticks": ""
             }
            },
            "type": "scattergl"
           }
          ],
          "scattermapbox": [
           {
            "marker": {
             "colorbar": {
              "outlinewidth": 0,
              "ticks": ""
             }
            },
            "type": "scattermapbox"
           }
          ],
          "scatterpolar": [
           {
            "marker": {
             "colorbar": {
              "outlinewidth": 0,
              "ticks": ""
             }
            },
            "type": "scatterpolar"
           }
          ],
          "scatterpolargl": [
           {
            "marker": {
             "colorbar": {
              "outlinewidth": 0,
              "ticks": ""
             }
            },
            "type": "scatterpolargl"
           }
          ],
          "scatterternary": [
           {
            "marker": {
             "colorbar": {
              "outlinewidth": 0,
              "ticks": ""
             }
            },
            "type": "scatterternary"
           }
          ],
          "surface": [
           {
            "colorbar": {
             "outlinewidth": 0,
             "ticks": ""
            },
            "colorscale": [
             [
              0,
              "#0d0887"
             ],
             [
              0.1111111111111111,
              "#46039f"
             ],
             [
              0.2222222222222222,
              "#7201a8"
             ],
             [
              0.3333333333333333,
              "#9c179e"
             ],
             [
              0.4444444444444444,
              "#bd3786"
             ],
             [
              0.5555555555555556,
              "#d8576b"
             ],
             [
              0.6666666666666666,
              "#ed7953"
             ],
             [
              0.7777777777777778,
              "#fb9f3a"
             ],
             [
              0.8888888888888888,
              "#fdca26"
             ],
             [
              1,
              "#f0f921"
             ]
            ],
            "type": "surface"
           }
          ],
          "table": [
           {
            "cells": {
             "fill": {
              "color": "#EBF0F8"
             },
             "line": {
              "color": "white"
             }
            },
            "header": {
             "fill": {
              "color": "#C8D4E3"
             },
             "line": {
              "color": "white"
             }
            },
            "type": "table"
           }
          ]
         },
         "layout": {
          "annotationdefaults": {
           "arrowcolor": "#2a3f5f",
           "arrowhead": 0,
           "arrowwidth": 1
          },
          "autotypenumbers": "strict",
          "coloraxis": {
           "colorbar": {
            "outlinewidth": 0,
            "ticks": ""
           }
          },
          "colorscale": {
           "diverging": [
            [
             0,
             "#8e0152"
            ],
            [
             0.1,
             "#c51b7d"
            ],
            [
             0.2,
             "#de77ae"
            ],
            [
             0.3,
             "#f1b6da"
            ],
            [
             0.4,
             "#fde0ef"
            ],
            [
             0.5,
             "#f7f7f7"
            ],
            [
             0.6,
             "#e6f5d0"
            ],
            [
             0.7,
             "#b8e186"
            ],
            [
             0.8,
             "#7fbc41"
            ],
            [
             0.9,
             "#4d9221"
            ],
            [
             1,
             "#276419"
            ]
           ],
           "sequential": [
            [
             0,
             "#0d0887"
            ],
            [
             0.1111111111111111,
             "#46039f"
            ],
            [
             0.2222222222222222,
             "#7201a8"
            ],
            [
             0.3333333333333333,
             "#9c179e"
            ],
            [
             0.4444444444444444,
             "#bd3786"
            ],
            [
             0.5555555555555556,
             "#d8576b"
            ],
            [
             0.6666666666666666,
             "#ed7953"
            ],
            [
             0.7777777777777778,
             "#fb9f3a"
            ],
            [
             0.8888888888888888,
             "#fdca26"
            ],
            [
             1,
             "#f0f921"
            ]
           ],
           "sequentialminus": [
            [
             0,
             "#0d0887"
            ],
            [
             0.1111111111111111,
             "#46039f"
            ],
            [
             0.2222222222222222,
             "#7201a8"
            ],
            [
             0.3333333333333333,
             "#9c179e"
            ],
            [
             0.4444444444444444,
             "#bd3786"
            ],
            [
             0.5555555555555556,
             "#d8576b"
            ],
            [
             0.6666666666666666,
             "#ed7953"
            ],
            [
             0.7777777777777778,
             "#fb9f3a"
            ],
            [
             0.8888888888888888,
             "#fdca26"
            ],
            [
             1,
             "#f0f921"
            ]
           ]
          },
          "colorway": [
           "#636efa",
           "#EF553B",
           "#00cc96",
           "#ab63fa",
           "#FFA15A",
           "#19d3f3",
           "#FF6692",
           "#B6E880",
           "#FF97FF",
           "#FECB52"
          ],
          "font": {
           "color": "#2a3f5f"
          },
          "geo": {
           "bgcolor": "white",
           "lakecolor": "white",
           "landcolor": "#E5ECF6",
           "showlakes": true,
           "showland": true,
           "subunitcolor": "white"
          },
          "hoverlabel": {
           "align": "left"
          },
          "hovermode": "closest",
          "mapbox": {
           "style": "light"
          },
          "paper_bgcolor": "white",
          "plot_bgcolor": "#E5ECF6",
          "polar": {
           "angularaxis": {
            "gridcolor": "white",
            "linecolor": "white",
            "ticks": ""
           },
           "bgcolor": "#E5ECF6",
           "radialaxis": {
            "gridcolor": "white",
            "linecolor": "white",
            "ticks": ""
           }
          },
          "scene": {
           "xaxis": {
            "backgroundcolor": "#E5ECF6",
            "gridcolor": "white",
            "gridwidth": 2,
            "linecolor": "white",
            "showbackground": true,
            "ticks": "",
            "zerolinecolor": "white"
           },
           "yaxis": {
            "backgroundcolor": "#E5ECF6",
            "gridcolor": "white",
            "gridwidth": 2,
            "linecolor": "white",
            "showbackground": true,
            "ticks": "",
            "zerolinecolor": "white"
           },
           "zaxis": {
            "backgroundcolor": "#E5ECF6",
            "gridcolor": "white",
            "gridwidth": 2,
            "linecolor": "white",
            "showbackground": true,
            "ticks": "",
            "zerolinecolor": "white"
           }
          },
          "shapedefaults": {
           "line": {
            "color": "#2a3f5f"
           }
          },
          "ternary": {
           "aaxis": {
            "gridcolor": "white",
            "linecolor": "white",
            "ticks": ""
           },
           "baxis": {
            "gridcolor": "white",
            "linecolor": "white",
            "ticks": ""
           },
           "bgcolor": "#E5ECF6",
           "caxis": {
            "gridcolor": "white",
            "linecolor": "white",
            "ticks": ""
           }
          },
          "title": {
           "x": 0.05
          },
          "xaxis": {
           "automargin": true,
           "gridcolor": "white",
           "linecolor": "white",
           "ticks": "",
           "title": {
            "standoff": 15
           },
           "zerolinecolor": "white",
           "zerolinewidth": 2
          },
          "yaxis": {
           "automargin": true,
           "gridcolor": "white",
           "linecolor": "white",
           "ticks": "",
           "title": {
            "standoff": 15
           },
           "zerolinecolor": "white",
           "zerolinewidth": 2
          }
         }
        }
       }
      }
     },
     "metadata": {},
     "output_type": "display_data"
    }
   ],
   "source": [
    "pinta_mapa(df)"
   ]
  },
  {
   "attachments": {},
   "cell_type": "markdown",
   "metadata": {},
   "source": [
    "## Ejercicio 1\n",
    "### Búsqueda de aparcamiento\n",
    "Para este caso de uso imagina que vas a Madrid de viaje y estás buscando posibles parkings donde dejar el coche, crea un DataFrame con todos los parkings (de OpenStreetMap) de la ciudad de Madrid. Para ello define una cuadrícula con dos coordenadas sobre Madrid.\n",
    "\n",
    "Representa en un mapa los resultados"
   ]
  },
  {
   "cell_type": "code",
   "execution_count": 8,
   "metadata": {},
   "outputs": [
    {
     "name": "stdout",
     "output_type": "stream",
     "text": [
      "<Response [200]>\n"
     ]
    },
    {
     "data": {
      "text/html": [
       "<div>\n",
       "<style scoped>\n",
       "    .dataframe tbody tr th:only-of-type {\n",
       "        vertical-align: middle;\n",
       "    }\n",
       "\n",
       "    .dataframe tbody tr th {\n",
       "        vertical-align: top;\n",
       "    }\n",
       "\n",
       "    .dataframe thead th {\n",
       "        text-align: right;\n",
       "    }\n",
       "</style>\n",
       "<table border=\"1\" class=\"dataframe\">\n",
       "  <thead>\n",
       "    <tr style=\"text-align: right;\">\n",
       "      <th></th>\n",
       "      <th>tipo</th>\n",
       "      <th>lat</th>\n",
       "      <th>lon</th>\n",
       "      <th>name</th>\n",
       "      <th>address</th>\n",
       "    </tr>\n",
       "  </thead>\n",
       "  <tbody>\n",
       "    <tr>\n",
       "      <th>0</th>\n",
       "      <td>parking</td>\n",
       "      <td>40.426712</td>\n",
       "      <td>-3.714370</td>\n",
       "      <td>Princesa 25</td>\n",
       "      <td>NO STREET 9999</td>\n",
       "    </tr>\n",
       "    <tr>\n",
       "      <th>1</th>\n",
       "      <td>parking</td>\n",
       "      <td>40.414469</td>\n",
       "      <td>-3.703549</td>\n",
       "      <td>Parking Benavente</td>\n",
       "      <td>NO STREET 9999</td>\n",
       "    </tr>\n",
       "    <tr>\n",
       "      <th>2</th>\n",
       "      <td>parking</td>\n",
       "      <td>40.406444</td>\n",
       "      <td>-3.708171</td>\n",
       "      <td>NO NAME</td>\n",
       "      <td>NO STREET 9999</td>\n",
       "    </tr>\n",
       "    <tr>\n",
       "      <th>3</th>\n",
       "      <td>parking</td>\n",
       "      <td>40.447447</td>\n",
       "      <td>-3.627856</td>\n",
       "      <td>NO NAME</td>\n",
       "      <td>NO STREET 9999</td>\n",
       "    </tr>\n",
       "    <tr>\n",
       "      <th>4</th>\n",
       "      <td>parking</td>\n",
       "      <td>40.425182</td>\n",
       "      <td>-3.712927</td>\n",
       "      <td>Princesa</td>\n",
       "      <td>NO STREET 9999</td>\n",
       "    </tr>\n",
       "    <tr>\n",
       "      <th>...</th>\n",
       "      <td>...</td>\n",
       "      <td>...</td>\n",
       "      <td>...</td>\n",
       "      <td>...</td>\n",
       "      <td>...</td>\n",
       "    </tr>\n",
       "    <tr>\n",
       "      <th>239</th>\n",
       "      <td>parking</td>\n",
       "      <td>40.399212</td>\n",
       "      <td>-3.690897</td>\n",
       "      <td>NO NAME</td>\n",
       "      <td>NO STREET 9999</td>\n",
       "    </tr>\n",
       "    <tr>\n",
       "      <th>240</th>\n",
       "      <td>parking</td>\n",
       "      <td>40.399082</td>\n",
       "      <td>-3.691076</td>\n",
       "      <td>NO NAME</td>\n",
       "      <td>NO STREET 9999</td>\n",
       "    </tr>\n",
       "    <tr>\n",
       "      <th>241</th>\n",
       "      <td>parking</td>\n",
       "      <td>40.459477</td>\n",
       "      <td>-3.686302</td>\n",
       "      <td>Parking Mundial 24</td>\n",
       "      <td>Avenida de Alberto Alcocer 11</td>\n",
       "    </tr>\n",
       "    <tr>\n",
       "      <th>242</th>\n",
       "      <td>parking</td>\n",
       "      <td>40.453936</td>\n",
       "      <td>-3.702721</td>\n",
       "      <td>Edificio Tecnus</td>\n",
       "      <td>NO STREET 9999</td>\n",
       "    </tr>\n",
       "    <tr>\n",
       "      <th>243</th>\n",
       "      <td>parking</td>\n",
       "      <td>40.420468</td>\n",
       "      <td>-3.717626</td>\n",
       "      <td>NO NAME</td>\n",
       "      <td>NO STREET 9999</td>\n",
       "    </tr>\n",
       "  </tbody>\n",
       "</table>\n",
       "<p>244 rows × 5 columns</p>\n",
       "</div>"
      ],
      "text/plain": [
       "        tipo        lat       lon                name  \\\n",
       "0    parking  40.426712 -3.714370         Princesa 25   \n",
       "1    parking  40.414469 -3.703549   Parking Benavente   \n",
       "2    parking  40.406444 -3.708171             NO NAME   \n",
       "3    parking  40.447447 -3.627856             NO NAME   \n",
       "4    parking  40.425182 -3.712927            Princesa   \n",
       "..       ...        ...       ...                 ...   \n",
       "239  parking  40.399212 -3.690897             NO NAME   \n",
       "240  parking  40.399082 -3.691076             NO NAME   \n",
       "241  parking  40.459477 -3.686302  Parking Mundial 24   \n",
       "242  parking  40.453936 -3.702721     Edificio Tecnus   \n",
       "243  parking  40.420468 -3.717626             NO NAME   \n",
       "\n",
       "                           address  \n",
       "0                   NO STREET 9999  \n",
       "1                   NO STREET 9999  \n",
       "2                   NO STREET 9999  \n",
       "3                   NO STREET 9999  \n",
       "4                   NO STREET 9999  \n",
       "..                             ...  \n",
       "239                 NO STREET 9999  \n",
       "240                 NO STREET 9999  \n",
       "241  Avenida de Alberto Alcocer 11  \n",
       "242                 NO STREET 9999  \n",
       "243                 NO STREET 9999  \n",
       "\n",
       "[244 rows x 5 columns]"
      ]
     },
     "execution_count": 8,
     "metadata": {},
     "output_type": "execute_result"
    }
   ],
   "source": [
    "overpass_query = \"\"\"\n",
    "[out:json];\n",
    "node[\"amenity\"=\"parking\"]\n",
    "  (40.396013, -3.746999, 40.480011, -3.625910); \n",
    "out;\n",
    "\"\"\"\n",
    "response = requests.get(overpass_url, \n",
    "                        params={'data': overpass_query})\n",
    "print(response)\n",
    "data = response.json()\n",
    "df = json_to_df(data)\n",
    "df"
   ]
  },
  {
   "cell_type": "code",
   "execution_count": 9,
   "metadata": {},
   "outputs": [
    {
     "data": {
      "application/vnd.plotly.v1+json": {
       "config": {
        "plotlyServerURL": "https://plot.ly"
       },
       "data": [
        {
         "hovertemplate": "tipo=parking<br>lat=%{lat}<br>lon=%{lon}<extra></extra>",
         "lat": [
          40.4267119,
          40.4144691,
          40.4064435,
          40.447447,
          40.4251815,
          40.4181784,
          40.4254701,
          40.429999,
          40.4369215,
          40.4238355,
          40.4115397,
          40.4488857,
          40.4186092,
          40.4184039,
          40.414601,
          40.4151678,
          40.4213614,
          40.4225045,
          40.4251093,
          40.4249207,
          40.4159676,
          40.4182133,
          40.4235936,
          40.4704451,
          40.4438769,
          40.4146724,
          40.4372482,
          40.4313898,
          40.4572456,
          40.4737197,
          40.4296089,
          40.4443858,
          40.4392759,
          40.4215869,
          40.4232971,
          40.424383,
          40.426279,
          40.4281139,
          40.4238369,
          40.4302255,
          40.424334,
          40.4331999,
          40.4236326,
          40.4242164,
          40.4302749,
          40.4178386,
          40.4218833,
          40.4054695,
          40.4749383,
          40.4752941,
          40.4234469,
          40.4253781,
          40.4223326,
          40.4575187,
          40.4021464,
          40.4341725,
          40.4187841,
          40.3963102,
          40.4354542,
          40.4589254,
          40.4497032,
          40.4104738,
          40.4351473,
          40.40685,
          40.4286309,
          40.4082765,
          40.4110793,
          40.4089332,
          40.4575854,
          40.457962,
          40.4226229,
          40.442213,
          40.3965405,
          40.4256169,
          40.4714418,
          40.4251733,
          40.4290523,
          40.429501,
          40.4306021,
          40.4298603,
          40.4051769,
          40.45536,
          40.4125009,
          40.4116583,
          40.4123953,
          40.4132474,
          40.417317,
          40.4165286,
          40.4205859,
          40.4189272,
          40.4357478,
          40.4461985,
          40.4590003,
          40.422962,
          40.4679906,
          40.4588682,
          40.4351363,
          40.4603486,
          40.4034571,
          40.4218195,
          40.4386118,
          40.4114189,
          40.4557805,
          40.4232022,
          40.4234038,
          40.4240876,
          40.4249357,
          40.4258426,
          40.4278736,
          40.420073,
          40.4208966,
          40.4213423,
          40.420223,
          40.4219367,
          40.4225746,
          40.4251922,
          40.4274338,
          40.4096841,
          40.4319183,
          40.4311342,
          40.4289017,
          40.4296481,
          40.4279522,
          40.4242126,
          40.4530785,
          40.4531797,
          40.4122844,
          40.4247321,
          40.3969179,
          40.413135,
          40.4148227,
          40.4209259,
          40.4219305,
          40.4600984,
          40.4082524,
          40.4227531,
          40.401681,
          40.4560081,
          40.4425404,
          40.4416726,
          40.4421902,
          40.4425143,
          40.4757223,
          40.4108305,
          40.4088834,
          40.4573585,
          40.4689091,
          40.4372977,
          40.4734774,
          40.4045062,
          40.4293318,
          40.4632024,
          40.4272235,
          40.4285326,
          40.4354093,
          40.437242,
          40.4265474,
          40.432954,
          40.4634719,
          40.4769086,
          40.4772544,
          40.4040522,
          40.4034608,
          40.437818,
          40.4244219,
          40.4115442,
          40.4770338,
          40.4019737,
          40.3980961,
          40.4576427,
          40.4372369,
          40.4577833,
          40.4722906,
          40.430327,
          40.4154442,
          40.4280878,
          40.4316672,
          40.4328747,
          40.4294136,
          40.4525273,
          40.4299457,
          40.4052293,
          40.463368,
          40.461952,
          40.4633315,
          40.4481631,
          40.4470285,
          40.4289322,
          40.4487931,
          40.4314155,
          40.4344546,
          40.4068226,
          40.4172562,
          40.4540292,
          40.4050094,
          40.4069256,
          40.4021188,
          40.40363,
          40.4086595,
          40.4054937,
          40.4344726,
          40.4020976,
          40.4074447,
          40.428078,
          40.4074727,
          40.4070442,
          40.4211164,
          40.4722232,
          40.4329449,
          40.4085627,
          40.407339,
          40.4059789,
          40.4554156,
          40.4130223,
          40.4457404,
          40.4323016,
          40.4541562,
          40.4304748,
          40.4305846,
          40.4326702,
          40.4304182,
          40.4306002,
          40.4330187,
          40.4274984,
          40.4360565,
          40.4143312,
          40.4268838,
          40.4601536,
          40.4141394,
          40.4320445,
          40.399884,
          40.4248551,
          40.4490279,
          40.4368608,
          40.4009485,
          40.3997723,
          40.3997964,
          40.3997182,
          40.4014898,
          40.399212,
          40.3990815,
          40.4594766,
          40.453936,
          40.4204681
         ],
         "legendgroup": "parking",
         "lon": [
          -3.7143698,
          -3.7035492,
          -3.7081711,
          -3.6278558,
          -3.7129265,
          -3.6912509,
          -3.6890623,
          -3.6885639,
          -3.6893064,
          -3.674871,
          -3.6651231,
          -3.7021028,
          -3.7031858,
          -3.7113577,
          -3.710864,
          -3.7072429,
          -3.7053475,
          -3.7089812,
          -3.6924042,
          -3.6921427,
          -3.7033376,
          -3.7066603,
          -3.6759304,
          -3.6589792,
          -3.7269026,
          -3.7007342,
          -3.675782,
          -3.7000104,
          -3.6913445,
          -3.6371498,
          -3.7027388,
          -3.6669736,
          -3.7335048,
          -3.7090555,
          -3.6719385,
          -3.6714637,
          -3.7003811,
          -3.7027219,
          -3.6992877,
          -3.7057628,
          -3.6893101,
          -3.7010438,
          -3.673465,
          -3.6734211,
          -3.7146864,
          -3.670412,
          -3.6973754,
          -3.6876209,
          -3.6509315,
          -3.6487096,
          -3.7000809,
          -3.6938042,
          -3.7209506,
          -3.6931553,
          -3.705415,
          -3.6704777,
          -3.6747216,
          -3.6921004,
          -3.6867638,
          -3.6765599,
          -3.7023081,
          -3.7385885,
          -3.71802,
          -3.7041761,
          -3.6622388,
          -3.7233934,
          -3.6936166,
          -3.6937217,
          -3.6784512,
          -3.6785277,
          -3.6842342,
          -3.6774507,
          -3.6754196,
          -3.678704,
          -3.6826004,
          -3.6613603,
          -3.6618136,
          -3.6617879,
          -3.6675198,
          -3.6679102,
          -3.6977579,
          -3.7043864,
          -3.671032,
          -3.669277,
          -3.6684172,
          -3.6683936,
          -3.6650739,
          -3.6583748,
          -3.67052,
          -3.6739351,
          -3.6870285,
          -3.7041122,
          -3.6716519,
          -3.7061009,
          -3.6894782,
          -3.6789669,
          -3.6766073,
          -3.6872682,
          -3.6905523,
          -3.6564014,
          -3.7051274,
          -3.667968,
          -3.6896791,
          -3.6578232,
          -3.657541,
          -3.6577798,
          -3.6566211,
          -3.6570385,
          -3.6633116,
          -3.6622001,
          -3.6622635,
          -3.6553731,
          -3.6537688,
          -3.650523,
          -3.6533718,
          -3.6510568,
          -3.6491947,
          -3.7031838,
          -3.6834365,
          -3.6578476,
          -3.6596222,
          -3.6596216,
          -3.6578858,
          -3.6756743,
          -3.7349548,
          -3.7340106,
          -3.6711705,
          -3.6717969,
          -3.684188,
          -3.675961,
          -3.668156,
          -3.6301979,
          -3.6312675,
          -3.6961801,
          -3.7035647,
          -3.7120686,
          -3.6861455,
          -3.7036345,
          -3.6649609,
          -3.6662663,
          -3.7267861,
          -3.7268452,
          -3.6491079,
          -3.709685,
          -3.7060845,
          -3.6724653,
          -3.6864593,
          -3.6915252,
          -3.7010499,
          -3.7143927,
          -3.6722959,
          -3.696544,
          -3.6989699,
          -3.6971401,
          -3.7136863,
          -3.7128671,
          -3.6879804,
          -3.6863475,
          -3.6863605,
          -3.6482399,
          -3.6484867,
          -3.676206,
          -3.6761316,
          -3.6508978,
          -3.7154758,
          -3.6977507,
          -3.6715207,
          -3.7009771,
          -3.6944514,
          -3.7042912,
          -3.7101802,
          -3.6943843,
          -3.6789958,
          -3.6794221,
          -3.7274399,
          -3.6824481,
          -3.6498864,
          -3.7344075,
          -3.7200726,
          -3.6916703,
          -3.7185756,
          -3.6788362,
          -3.6434195,
          -3.6448544,
          -3.6403161,
          -3.6976002,
          -3.7139406,
          -3.7097642,
          -3.7118017,
          -3.7358731,
          -3.6924381,
          -3.6733194,
          -3.6730636,
          -3.6842016,
          -3.7469523,
          -3.6962837,
          -3.6478765,
          -3.6508099,
          -3.714725,
          -3.6691453,
          -3.6710468,
          -3.6779064,
          -3.6687736,
          -3.6709517,
          -3.6393107,
          -3.6391564,
          -3.6919151,
          -3.6682098,
          -3.6758434,
          -3.6696638,
          -3.669269,
          -3.6666557,
          -3.6787065,
          -3.6632446,
          -3.7050601,
          -3.7194099,
          -3.6946556,
          -3.7077785,
          -3.6722055,
          -3.7214086,
          -3.6764669,
          -3.6754146,
          -3.6739384,
          -3.6807742,
          -3.7033725,
          -3.730119,
          -3.6546054,
          -3.6961866,
          -3.6640748,
          -3.6589119,
          -3.6740223,
          -3.7073213,
          -3.7168825,
          -3.70406,
          -3.6849098,
          -3.6978896,
          -3.6973778,
          -3.6969836,
          -3.6858323,
          -3.6908967,
          -3.691076,
          -3.6863024,
          -3.7027215,
          -3.717626
         ],
         "marker": {
          "color": "#636efa"
         },
         "mode": "markers",
         "name": "parking",
         "showlegend": true,
         "subplot": "mapbox",
         "type": "scattermapbox"
        }
       ],
       "layout": {
        "legend": {
         "title": {
          "text": "tipo"
         },
         "tracegroupgap": 0
        },
        "mapbox": {
         "accesstoken": "pk.eyJ1IjoiZGFvcnRpIiwiYSI6ImNrZnF6M3FlczA3cDEyem16YTNzZmV4M2EifQ.846iF0sMSAXv0kwkwUTYjg",
         "center": {
          "lat": 40.42937826106557,
          "lon": -3.685338617622951
         },
         "domain": {
          "x": [
           0,
           1
          ],
          "y": [
           0,
           1
          ]
         },
         "zoom": 11
        },
        "margin": {
         "t": 60
        },
        "template": {
         "data": {
          "bar": [
           {
            "error_x": {
             "color": "#2a3f5f"
            },
            "error_y": {
             "color": "#2a3f5f"
            },
            "marker": {
             "line": {
              "color": "#E5ECF6",
              "width": 0.5
             },
             "pattern": {
              "fillmode": "overlay",
              "size": 10,
              "solidity": 0.2
             }
            },
            "type": "bar"
           }
          ],
          "barpolar": [
           {
            "marker": {
             "line": {
              "color": "#E5ECF6",
              "width": 0.5
             },
             "pattern": {
              "fillmode": "overlay",
              "size": 10,
              "solidity": 0.2
             }
            },
            "type": "barpolar"
           }
          ],
          "carpet": [
           {
            "aaxis": {
             "endlinecolor": "#2a3f5f",
             "gridcolor": "white",
             "linecolor": "white",
             "minorgridcolor": "white",
             "startlinecolor": "#2a3f5f"
            },
            "baxis": {
             "endlinecolor": "#2a3f5f",
             "gridcolor": "white",
             "linecolor": "white",
             "minorgridcolor": "white",
             "startlinecolor": "#2a3f5f"
            },
            "type": "carpet"
           }
          ],
          "choropleth": [
           {
            "colorbar": {
             "outlinewidth": 0,
             "ticks": ""
            },
            "type": "choropleth"
           }
          ],
          "contour": [
           {
            "colorbar": {
             "outlinewidth": 0,
             "ticks": ""
            },
            "colorscale": [
             [
              0,
              "#0d0887"
             ],
             [
              0.1111111111111111,
              "#46039f"
             ],
             [
              0.2222222222222222,
              "#7201a8"
             ],
             [
              0.3333333333333333,
              "#9c179e"
             ],
             [
              0.4444444444444444,
              "#bd3786"
             ],
             [
              0.5555555555555556,
              "#d8576b"
             ],
             [
              0.6666666666666666,
              "#ed7953"
             ],
             [
              0.7777777777777778,
              "#fb9f3a"
             ],
             [
              0.8888888888888888,
              "#fdca26"
             ],
             [
              1,
              "#f0f921"
             ]
            ],
            "type": "contour"
           }
          ],
          "contourcarpet": [
           {
            "colorbar": {
             "outlinewidth": 0,
             "ticks": ""
            },
            "type": "contourcarpet"
           }
          ],
          "heatmap": [
           {
            "colorbar": {
             "outlinewidth": 0,
             "ticks": ""
            },
            "colorscale": [
             [
              0,
              "#0d0887"
             ],
             [
              0.1111111111111111,
              "#46039f"
             ],
             [
              0.2222222222222222,
              "#7201a8"
             ],
             [
              0.3333333333333333,
              "#9c179e"
             ],
             [
              0.4444444444444444,
              "#bd3786"
             ],
             [
              0.5555555555555556,
              "#d8576b"
             ],
             [
              0.6666666666666666,
              "#ed7953"
             ],
             [
              0.7777777777777778,
              "#fb9f3a"
             ],
             [
              0.8888888888888888,
              "#fdca26"
             ],
             [
              1,
              "#f0f921"
             ]
            ],
            "type": "heatmap"
           }
          ],
          "heatmapgl": [
           {
            "colorbar": {
             "outlinewidth": 0,
             "ticks": ""
            },
            "colorscale": [
             [
              0,
              "#0d0887"
             ],
             [
              0.1111111111111111,
              "#46039f"
             ],
             [
              0.2222222222222222,
              "#7201a8"
             ],
             [
              0.3333333333333333,
              "#9c179e"
             ],
             [
              0.4444444444444444,
              "#bd3786"
             ],
             [
              0.5555555555555556,
              "#d8576b"
             ],
             [
              0.6666666666666666,
              "#ed7953"
             ],
             [
              0.7777777777777778,
              "#fb9f3a"
             ],
             [
              0.8888888888888888,
              "#fdca26"
             ],
             [
              1,
              "#f0f921"
             ]
            ],
            "type": "heatmapgl"
           }
          ],
          "histogram": [
           {
            "marker": {
             "pattern": {
              "fillmode": "overlay",
              "size": 10,
              "solidity": 0.2
             }
            },
            "type": "histogram"
           }
          ],
          "histogram2d": [
           {
            "colorbar": {
             "outlinewidth": 0,
             "ticks": ""
            },
            "colorscale": [
             [
              0,
              "#0d0887"
             ],
             [
              0.1111111111111111,
              "#46039f"
             ],
             [
              0.2222222222222222,
              "#7201a8"
             ],
             [
              0.3333333333333333,
              "#9c179e"
             ],
             [
              0.4444444444444444,
              "#bd3786"
             ],
             [
              0.5555555555555556,
              "#d8576b"
             ],
             [
              0.6666666666666666,
              "#ed7953"
             ],
             [
              0.7777777777777778,
              "#fb9f3a"
             ],
             [
              0.8888888888888888,
              "#fdca26"
             ],
             [
              1,
              "#f0f921"
             ]
            ],
            "type": "histogram2d"
           }
          ],
          "histogram2dcontour": [
           {
            "colorbar": {
             "outlinewidth": 0,
             "ticks": ""
            },
            "colorscale": [
             [
              0,
              "#0d0887"
             ],
             [
              0.1111111111111111,
              "#46039f"
             ],
             [
              0.2222222222222222,
              "#7201a8"
             ],
             [
              0.3333333333333333,
              "#9c179e"
             ],
             [
              0.4444444444444444,
              "#bd3786"
             ],
             [
              0.5555555555555556,
              "#d8576b"
             ],
             [
              0.6666666666666666,
              "#ed7953"
             ],
             [
              0.7777777777777778,
              "#fb9f3a"
             ],
             [
              0.8888888888888888,
              "#fdca26"
             ],
             [
              1,
              "#f0f921"
             ]
            ],
            "type": "histogram2dcontour"
           }
          ],
          "mesh3d": [
           {
            "colorbar": {
             "outlinewidth": 0,
             "ticks": ""
            },
            "type": "mesh3d"
           }
          ],
          "parcoords": [
           {
            "line": {
             "colorbar": {
              "outlinewidth": 0,
              "ticks": ""
             }
            },
            "type": "parcoords"
           }
          ],
          "pie": [
           {
            "automargin": true,
            "type": "pie"
           }
          ],
          "scatter": [
           {
            "fillpattern": {
             "fillmode": "overlay",
             "size": 10,
             "solidity": 0.2
            },
            "type": "scatter"
           }
          ],
          "scatter3d": [
           {
            "line": {
             "colorbar": {
              "outlinewidth": 0,
              "ticks": ""
             }
            },
            "marker": {
             "colorbar": {
              "outlinewidth": 0,
              "ticks": ""
             }
            },
            "type": "scatter3d"
           }
          ],
          "scattercarpet": [
           {
            "marker": {
             "colorbar": {
              "outlinewidth": 0,
              "ticks": ""
             }
            },
            "type": "scattercarpet"
           }
          ],
          "scattergeo": [
           {
            "marker": {
             "colorbar": {
              "outlinewidth": 0,
              "ticks": ""
             }
            },
            "type": "scattergeo"
           }
          ],
          "scattergl": [
           {
            "marker": {
             "colorbar": {
              "outlinewidth": 0,
              "ticks": ""
             }
            },
            "type": "scattergl"
           }
          ],
          "scattermapbox": [
           {
            "marker": {
             "colorbar": {
              "outlinewidth": 0,
              "ticks": ""
             }
            },
            "type": "scattermapbox"
           }
          ],
          "scatterpolar": [
           {
            "marker": {
             "colorbar": {
              "outlinewidth": 0,
              "ticks": ""
             }
            },
            "type": "scatterpolar"
           }
          ],
          "scatterpolargl": [
           {
            "marker": {
             "colorbar": {
              "outlinewidth": 0,
              "ticks": ""
             }
            },
            "type": "scatterpolargl"
           }
          ],
          "scatterternary": [
           {
            "marker": {
             "colorbar": {
              "outlinewidth": 0,
              "ticks": ""
             }
            },
            "type": "scatterternary"
           }
          ],
          "surface": [
           {
            "colorbar": {
             "outlinewidth": 0,
             "ticks": ""
            },
            "colorscale": [
             [
              0,
              "#0d0887"
             ],
             [
              0.1111111111111111,
              "#46039f"
             ],
             [
              0.2222222222222222,
              "#7201a8"
             ],
             [
              0.3333333333333333,
              "#9c179e"
             ],
             [
              0.4444444444444444,
              "#bd3786"
             ],
             [
              0.5555555555555556,
              "#d8576b"
             ],
             [
              0.6666666666666666,
              "#ed7953"
             ],
             [
              0.7777777777777778,
              "#fb9f3a"
             ],
             [
              0.8888888888888888,
              "#fdca26"
             ],
             [
              1,
              "#f0f921"
             ]
            ],
            "type": "surface"
           }
          ],
          "table": [
           {
            "cells": {
             "fill": {
              "color": "#EBF0F8"
             },
             "line": {
              "color": "white"
             }
            },
            "header": {
             "fill": {
              "color": "#C8D4E3"
             },
             "line": {
              "color": "white"
             }
            },
            "type": "table"
           }
          ]
         },
         "layout": {
          "annotationdefaults": {
           "arrowcolor": "#2a3f5f",
           "arrowhead": 0,
           "arrowwidth": 1
          },
          "autotypenumbers": "strict",
          "coloraxis": {
           "colorbar": {
            "outlinewidth": 0,
            "ticks": ""
           }
          },
          "colorscale": {
           "diverging": [
            [
             0,
             "#8e0152"
            ],
            [
             0.1,
             "#c51b7d"
            ],
            [
             0.2,
             "#de77ae"
            ],
            [
             0.3,
             "#f1b6da"
            ],
            [
             0.4,
             "#fde0ef"
            ],
            [
             0.5,
             "#f7f7f7"
            ],
            [
             0.6,
             "#e6f5d0"
            ],
            [
             0.7,
             "#b8e186"
            ],
            [
             0.8,
             "#7fbc41"
            ],
            [
             0.9,
             "#4d9221"
            ],
            [
             1,
             "#276419"
            ]
           ],
           "sequential": [
            [
             0,
             "#0d0887"
            ],
            [
             0.1111111111111111,
             "#46039f"
            ],
            [
             0.2222222222222222,
             "#7201a8"
            ],
            [
             0.3333333333333333,
             "#9c179e"
            ],
            [
             0.4444444444444444,
             "#bd3786"
            ],
            [
             0.5555555555555556,
             "#d8576b"
            ],
            [
             0.6666666666666666,
             "#ed7953"
            ],
            [
             0.7777777777777778,
             "#fb9f3a"
            ],
            [
             0.8888888888888888,
             "#fdca26"
            ],
            [
             1,
             "#f0f921"
            ]
           ],
           "sequentialminus": [
            [
             0,
             "#0d0887"
            ],
            [
             0.1111111111111111,
             "#46039f"
            ],
            [
             0.2222222222222222,
             "#7201a8"
            ],
            [
             0.3333333333333333,
             "#9c179e"
            ],
            [
             0.4444444444444444,
             "#bd3786"
            ],
            [
             0.5555555555555556,
             "#d8576b"
            ],
            [
             0.6666666666666666,
             "#ed7953"
            ],
            [
             0.7777777777777778,
             "#fb9f3a"
            ],
            [
             0.8888888888888888,
             "#fdca26"
            ],
            [
             1,
             "#f0f921"
            ]
           ]
          },
          "colorway": [
           "#636efa",
           "#EF553B",
           "#00cc96",
           "#ab63fa",
           "#FFA15A",
           "#19d3f3",
           "#FF6692",
           "#B6E880",
           "#FF97FF",
           "#FECB52"
          ],
          "font": {
           "color": "#2a3f5f"
          },
          "geo": {
           "bgcolor": "white",
           "lakecolor": "white",
           "landcolor": "#E5ECF6",
           "showlakes": true,
           "showland": true,
           "subunitcolor": "white"
          },
          "hoverlabel": {
           "align": "left"
          },
          "hovermode": "closest",
          "mapbox": {
           "style": "light"
          },
          "paper_bgcolor": "white",
          "plot_bgcolor": "#E5ECF6",
          "polar": {
           "angularaxis": {
            "gridcolor": "white",
            "linecolor": "white",
            "ticks": ""
           },
           "bgcolor": "#E5ECF6",
           "radialaxis": {
            "gridcolor": "white",
            "linecolor": "white",
            "ticks": ""
           }
          },
          "scene": {
           "xaxis": {
            "backgroundcolor": "#E5ECF6",
            "gridcolor": "white",
            "gridwidth": 2,
            "linecolor": "white",
            "showbackground": true,
            "ticks": "",
            "zerolinecolor": "white"
           },
           "yaxis": {
            "backgroundcolor": "#E5ECF6",
            "gridcolor": "white",
            "gridwidth": 2,
            "linecolor": "white",
            "showbackground": true,
            "ticks": "",
            "zerolinecolor": "white"
           },
           "zaxis": {
            "backgroundcolor": "#E5ECF6",
            "gridcolor": "white",
            "gridwidth": 2,
            "linecolor": "white",
            "showbackground": true,
            "ticks": "",
            "zerolinecolor": "white"
           }
          },
          "shapedefaults": {
           "line": {
            "color": "#2a3f5f"
           }
          },
          "ternary": {
           "aaxis": {
            "gridcolor": "white",
            "linecolor": "white",
            "ticks": ""
           },
           "baxis": {
            "gridcolor": "white",
            "linecolor": "white",
            "ticks": ""
           },
           "bgcolor": "#E5ECF6",
           "caxis": {
            "gridcolor": "white",
            "linecolor": "white",
            "ticks": ""
           }
          },
          "title": {
           "x": 0.05
          },
          "xaxis": {
           "automargin": true,
           "gridcolor": "white",
           "linecolor": "white",
           "ticks": "",
           "title": {
            "standoff": 15
           },
           "zerolinecolor": "white",
           "zerolinewidth": 2
          },
          "yaxis": {
           "automargin": true,
           "gridcolor": "white",
           "linecolor": "white",
           "ticks": "",
           "title": {
            "standoff": 15
           },
           "zerolinecolor": "white",
           "zerolinewidth": 2
          }
         }
        }
       }
      }
     },
     "metadata": {},
     "output_type": "display_data"
    }
   ],
   "source": [
    "pinta_mapa(df)"
   ]
  },
  {
   "attachments": {},
   "cell_type": "markdown",
   "metadata": {},
   "source": [
    "## Mudanza\n",
    "Imagina que te quieres mudar al Berrueco, pero antes te gustaría obtener algún indicador de si hay civilización por esa zona. Mira a ver si existe gasolineras y/o colegios por la zona. Define, al igual que en el caso anterior, un rectángulo mediante dos coordenadas. Busca la manera de realizar una única petición a la API.\n",
    "\n",
    "Representa después en un mapa, por color los colegios y gasolineras"
   ]
  },
  {
   "cell_type": "code",
   "execution_count": 10,
   "metadata": {},
   "outputs": [],
   "source": [
    "overpass_query = \"\"\"\n",
    "[out:json];\n",
    "node[\"amenity\"=\"fuel\"]\n",
    "  (40.851838, -3.627774, 40.941457, -3.481755);\n",
    "out;\n",
    "node[\"amenity\"=\"school\"]\n",
    "  (40.851838, -3.627774, 40.941457, -3.481755);\n",
    "out;\n",
    "\"\"\""
   ]
  },
  {
   "cell_type": "code",
   "execution_count": 11,
   "metadata": {},
   "outputs": [],
   "source": [
    "overpass_query = \"\"\"\n",
    "[out:json];\n",
    "node[\"amenity\"~\"fuel|shool\"]\n",
    "  (40.851838, -3.627774, 40.941457, -3.481755);\n",
    "out;\n",
    "\"\"\""
   ]
  },
  {
   "cell_type": "code",
   "execution_count": 12,
   "metadata": {
    "tags": []
   },
   "outputs": [
    {
     "name": "stdout",
     "output_type": "stream",
     "text": [
      "<Response [200]>\n"
     ]
    },
    {
     "data": {
      "text/html": [
       "<div>\n",
       "<style scoped>\n",
       "    .dataframe tbody tr th:only-of-type {\n",
       "        vertical-align: middle;\n",
       "    }\n",
       "\n",
       "    .dataframe tbody tr th {\n",
       "        vertical-align: top;\n",
       "    }\n",
       "\n",
       "    .dataframe thead th {\n",
       "        text-align: right;\n",
       "    }\n",
       "</style>\n",
       "<table border=\"1\" class=\"dataframe\">\n",
       "  <thead>\n",
       "    <tr style=\"text-align: right;\">\n",
       "      <th></th>\n",
       "      <th>tipo</th>\n",
       "      <th>lat</th>\n",
       "      <th>lon</th>\n",
       "      <th>name</th>\n",
       "      <th>address</th>\n",
       "    </tr>\n",
       "  </thead>\n",
       "  <tbody>\n",
       "    <tr>\n",
       "      <th>0</th>\n",
       "      <td>fuel</td>\n",
       "      <td>40.905376</td>\n",
       "      <td>-3.607588</td>\n",
       "      <td>Repsol</td>\n",
       "      <td>NO STREET 9999</td>\n",
       "    </tr>\n",
       "    <tr>\n",
       "      <th>1</th>\n",
       "      <td>fuel</td>\n",
       "      <td>40.906677</td>\n",
       "      <td>-3.610172</td>\n",
       "      <td>Shell</td>\n",
       "      <td>CTRA. N-I KM 64.650 9999</td>\n",
       "    </tr>\n",
       "    <tr>\n",
       "      <th>2</th>\n",
       "      <td>fuel</td>\n",
       "      <td>40.856872</td>\n",
       "      <td>-3.612894</td>\n",
       "      <td>Shell</td>\n",
       "      <td>AVDA. GENERALISIMO,12 9999</td>\n",
       "    </tr>\n",
       "    <tr>\n",
       "      <th>3</th>\n",
       "      <td>fuel</td>\n",
       "      <td>40.875833</td>\n",
       "      <td>-3.602389</td>\n",
       "      <td>Shell</td>\n",
       "      <td>Avenida de La Cabrera 9999</td>\n",
       "    </tr>\n",
       "  </tbody>\n",
       "</table>\n",
       "</div>"
      ],
      "text/plain": [
       "   tipo        lat       lon    name                     address\n",
       "0  fuel  40.905376 -3.607588  Repsol              NO STREET 9999\n",
       "1  fuel  40.906677 -3.610172   Shell    CTRA. N-I KM 64.650 9999\n",
       "2  fuel  40.856872 -3.612894   Shell  AVDA. GENERALISIMO,12 9999\n",
       "3  fuel  40.875833 -3.602389   Shell  Avenida de La Cabrera 9999"
      ]
     },
     "execution_count": 12,
     "metadata": {},
     "output_type": "execute_result"
    }
   ],
   "source": [
    "response = requests.get(overpass_url, \n",
    "                        params={'data': overpass_query})\n",
    "print(response)\n",
    "data = response.json()\n",
    "df = json_to_df(data)\n",
    "df"
   ]
  },
  {
   "cell_type": "code",
   "execution_count": 13,
   "metadata": {},
   "outputs": [
    {
     "data": {
      "application/vnd.plotly.v1+json": {
       "config": {
        "plotlyServerURL": "https://plot.ly"
       },
       "data": [
        {
         "hovertemplate": "tipo=fuel<br>lat=%{lat}<br>lon=%{lon}<extra></extra>",
         "lat": [
          40.9053756,
          40.906677,
          40.856872,
          40.8758331
         ],
         "legendgroup": "fuel",
         "lon": [
          -3.6075875,
          -3.610172,
          -3.6128941,
          -3.602389
         ],
         "marker": {
          "color": "#636efa"
         },
         "mode": "markers",
         "name": "fuel",
         "showlegend": true,
         "subplot": "mapbox",
         "type": "scattermapbox"
        }
       ],
       "layout": {
        "legend": {
         "title": {
          "text": "tipo"
         },
         "tracegroupgap": 0
        },
        "mapbox": {
         "accesstoken": "pk.eyJ1IjoiZGFvcnRpIiwiYSI6ImNrZnF6M3FlczA3cDEyem16YTNzZmV4M2EifQ.846iF0sMSAXv0kwkwUTYjg",
         "center": {
          "lat": 40.886189425,
          "lon": -3.60826065
         },
         "domain": {
          "x": [
           0,
           1
          ],
          "y": [
           0,
           1
          ]
         },
         "zoom": 11
        },
        "margin": {
         "t": 60
        },
        "template": {
         "data": {
          "bar": [
           {
            "error_x": {
             "color": "#2a3f5f"
            },
            "error_y": {
             "color": "#2a3f5f"
            },
            "marker": {
             "line": {
              "color": "#E5ECF6",
              "width": 0.5
             },
             "pattern": {
              "fillmode": "overlay",
              "size": 10,
              "solidity": 0.2
             }
            },
            "type": "bar"
           }
          ],
          "barpolar": [
           {
            "marker": {
             "line": {
              "color": "#E5ECF6",
              "width": 0.5
             },
             "pattern": {
              "fillmode": "overlay",
              "size": 10,
              "solidity": 0.2
             }
            },
            "type": "barpolar"
           }
          ],
          "carpet": [
           {
            "aaxis": {
             "endlinecolor": "#2a3f5f",
             "gridcolor": "white",
             "linecolor": "white",
             "minorgridcolor": "white",
             "startlinecolor": "#2a3f5f"
            },
            "baxis": {
             "endlinecolor": "#2a3f5f",
             "gridcolor": "white",
             "linecolor": "white",
             "minorgridcolor": "white",
             "startlinecolor": "#2a3f5f"
            },
            "type": "carpet"
           }
          ],
          "choropleth": [
           {
            "colorbar": {
             "outlinewidth": 0,
             "ticks": ""
            },
            "type": "choropleth"
           }
          ],
          "contour": [
           {
            "colorbar": {
             "outlinewidth": 0,
             "ticks": ""
            },
            "colorscale": [
             [
              0,
              "#0d0887"
             ],
             [
              0.1111111111111111,
              "#46039f"
             ],
             [
              0.2222222222222222,
              "#7201a8"
             ],
             [
              0.3333333333333333,
              "#9c179e"
             ],
             [
              0.4444444444444444,
              "#bd3786"
             ],
             [
              0.5555555555555556,
              "#d8576b"
             ],
             [
              0.6666666666666666,
              "#ed7953"
             ],
             [
              0.7777777777777778,
              "#fb9f3a"
             ],
             [
              0.8888888888888888,
              "#fdca26"
             ],
             [
              1,
              "#f0f921"
             ]
            ],
            "type": "contour"
           }
          ],
          "contourcarpet": [
           {
            "colorbar": {
             "outlinewidth": 0,
             "ticks": ""
            },
            "type": "contourcarpet"
           }
          ],
          "heatmap": [
           {
            "colorbar": {
             "outlinewidth": 0,
             "ticks": ""
            },
            "colorscale": [
             [
              0,
              "#0d0887"
             ],
             [
              0.1111111111111111,
              "#46039f"
             ],
             [
              0.2222222222222222,
              "#7201a8"
             ],
             [
              0.3333333333333333,
              "#9c179e"
             ],
             [
              0.4444444444444444,
              "#bd3786"
             ],
             [
              0.5555555555555556,
              "#d8576b"
             ],
             [
              0.6666666666666666,
              "#ed7953"
             ],
             [
              0.7777777777777778,
              "#fb9f3a"
             ],
             [
              0.8888888888888888,
              "#fdca26"
             ],
             [
              1,
              "#f0f921"
             ]
            ],
            "type": "heatmap"
           }
          ],
          "heatmapgl": [
           {
            "colorbar": {
             "outlinewidth": 0,
             "ticks": ""
            },
            "colorscale": [
             [
              0,
              "#0d0887"
             ],
             [
              0.1111111111111111,
              "#46039f"
             ],
             [
              0.2222222222222222,
              "#7201a8"
             ],
             [
              0.3333333333333333,
              "#9c179e"
             ],
             [
              0.4444444444444444,
              "#bd3786"
             ],
             [
              0.5555555555555556,
              "#d8576b"
             ],
             [
              0.6666666666666666,
              "#ed7953"
             ],
             [
              0.7777777777777778,
              "#fb9f3a"
             ],
             [
              0.8888888888888888,
              "#fdca26"
             ],
             [
              1,
              "#f0f921"
             ]
            ],
            "type": "heatmapgl"
           }
          ],
          "histogram": [
           {
            "marker": {
             "pattern": {
              "fillmode": "overlay",
              "size": 10,
              "solidity": 0.2
             }
            },
            "type": "histogram"
           }
          ],
          "histogram2d": [
           {
            "colorbar": {
             "outlinewidth": 0,
             "ticks": ""
            },
            "colorscale": [
             [
              0,
              "#0d0887"
             ],
             [
              0.1111111111111111,
              "#46039f"
             ],
             [
              0.2222222222222222,
              "#7201a8"
             ],
             [
              0.3333333333333333,
              "#9c179e"
             ],
             [
              0.4444444444444444,
              "#bd3786"
             ],
             [
              0.5555555555555556,
              "#d8576b"
             ],
             [
              0.6666666666666666,
              "#ed7953"
             ],
             [
              0.7777777777777778,
              "#fb9f3a"
             ],
             [
              0.8888888888888888,
              "#fdca26"
             ],
             [
              1,
              "#f0f921"
             ]
            ],
            "type": "histogram2d"
           }
          ],
          "histogram2dcontour": [
           {
            "colorbar": {
             "outlinewidth": 0,
             "ticks": ""
            },
            "colorscale": [
             [
              0,
              "#0d0887"
             ],
             [
              0.1111111111111111,
              "#46039f"
             ],
             [
              0.2222222222222222,
              "#7201a8"
             ],
             [
              0.3333333333333333,
              "#9c179e"
             ],
             [
              0.4444444444444444,
              "#bd3786"
             ],
             [
              0.5555555555555556,
              "#d8576b"
             ],
             [
              0.6666666666666666,
              "#ed7953"
             ],
             [
              0.7777777777777778,
              "#fb9f3a"
             ],
             [
              0.8888888888888888,
              "#fdca26"
             ],
             [
              1,
              "#f0f921"
             ]
            ],
            "type": "histogram2dcontour"
           }
          ],
          "mesh3d": [
           {
            "colorbar": {
             "outlinewidth": 0,
             "ticks": ""
            },
            "type": "mesh3d"
           }
          ],
          "parcoords": [
           {
            "line": {
             "colorbar": {
              "outlinewidth": 0,
              "ticks": ""
             }
            },
            "type": "parcoords"
           }
          ],
          "pie": [
           {
            "automargin": true,
            "type": "pie"
           }
          ],
          "scatter": [
           {
            "fillpattern": {
             "fillmode": "overlay",
             "size": 10,
             "solidity": 0.2
            },
            "type": "scatter"
           }
          ],
          "scatter3d": [
           {
            "line": {
             "colorbar": {
              "outlinewidth": 0,
              "ticks": ""
             }
            },
            "marker": {
             "colorbar": {
              "outlinewidth": 0,
              "ticks": ""
             }
            },
            "type": "scatter3d"
           }
          ],
          "scattercarpet": [
           {
            "marker": {
             "colorbar": {
              "outlinewidth": 0,
              "ticks": ""
             }
            },
            "type": "scattercarpet"
           }
          ],
          "scattergeo": [
           {
            "marker": {
             "colorbar": {
              "outlinewidth": 0,
              "ticks": ""
             }
            },
            "type": "scattergeo"
           }
          ],
          "scattergl": [
           {
            "marker": {
             "colorbar": {
              "outlinewidth": 0,
              "ticks": ""
             }
            },
            "type": "scattergl"
           }
          ],
          "scattermapbox": [
           {
            "marker": {
             "colorbar": {
              "outlinewidth": 0,
              "ticks": ""
             }
            },
            "type": "scattermapbox"
           }
          ],
          "scatterpolar": [
           {
            "marker": {
             "colorbar": {
              "outlinewidth": 0,
              "ticks": ""
             }
            },
            "type": "scatterpolar"
           }
          ],
          "scatterpolargl": [
           {
            "marker": {
             "colorbar": {
              "outlinewidth": 0,
              "ticks": ""
             }
            },
            "type": "scatterpolargl"
           }
          ],
          "scatterternary": [
           {
            "marker": {
             "colorbar": {
              "outlinewidth": 0,
              "ticks": ""
             }
            },
            "type": "scatterternary"
           }
          ],
          "surface": [
           {
            "colorbar": {
             "outlinewidth": 0,
             "ticks": ""
            },
            "colorscale": [
             [
              0,
              "#0d0887"
             ],
             [
              0.1111111111111111,
              "#46039f"
             ],
             [
              0.2222222222222222,
              "#7201a8"
             ],
             [
              0.3333333333333333,
              "#9c179e"
             ],
             [
              0.4444444444444444,
              "#bd3786"
             ],
             [
              0.5555555555555556,
              "#d8576b"
             ],
             [
              0.6666666666666666,
              "#ed7953"
             ],
             [
              0.7777777777777778,
              "#fb9f3a"
             ],
             [
              0.8888888888888888,
              "#fdca26"
             ],
             [
              1,
              "#f0f921"
             ]
            ],
            "type": "surface"
           }
          ],
          "table": [
           {
            "cells": {
             "fill": {
              "color": "#EBF0F8"
             },
             "line": {
              "color": "white"
             }
            },
            "header": {
             "fill": {
              "color": "#C8D4E3"
             },
             "line": {
              "color": "white"
             }
            },
            "type": "table"
           }
          ]
         },
         "layout": {
          "annotationdefaults": {
           "arrowcolor": "#2a3f5f",
           "arrowhead": 0,
           "arrowwidth": 1
          },
          "autotypenumbers": "strict",
          "coloraxis": {
           "colorbar": {
            "outlinewidth": 0,
            "ticks": ""
           }
          },
          "colorscale": {
           "diverging": [
            [
             0,
             "#8e0152"
            ],
            [
             0.1,
             "#c51b7d"
            ],
            [
             0.2,
             "#de77ae"
            ],
            [
             0.3,
             "#f1b6da"
            ],
            [
             0.4,
             "#fde0ef"
            ],
            [
             0.5,
             "#f7f7f7"
            ],
            [
             0.6,
             "#e6f5d0"
            ],
            [
             0.7,
             "#b8e186"
            ],
            [
             0.8,
             "#7fbc41"
            ],
            [
             0.9,
             "#4d9221"
            ],
            [
             1,
             "#276419"
            ]
           ],
           "sequential": [
            [
             0,
             "#0d0887"
            ],
            [
             0.1111111111111111,
             "#46039f"
            ],
            [
             0.2222222222222222,
             "#7201a8"
            ],
            [
             0.3333333333333333,
             "#9c179e"
            ],
            [
             0.4444444444444444,
             "#bd3786"
            ],
            [
             0.5555555555555556,
             "#d8576b"
            ],
            [
             0.6666666666666666,
             "#ed7953"
            ],
            [
             0.7777777777777778,
             "#fb9f3a"
            ],
            [
             0.8888888888888888,
             "#fdca26"
            ],
            [
             1,
             "#f0f921"
            ]
           ],
           "sequentialminus": [
            [
             0,
             "#0d0887"
            ],
            [
             0.1111111111111111,
             "#46039f"
            ],
            [
             0.2222222222222222,
             "#7201a8"
            ],
            [
             0.3333333333333333,
             "#9c179e"
            ],
            [
             0.4444444444444444,
             "#bd3786"
            ],
            [
             0.5555555555555556,
             "#d8576b"
            ],
            [
             0.6666666666666666,
             "#ed7953"
            ],
            [
             0.7777777777777778,
             "#fb9f3a"
            ],
            [
             0.8888888888888888,
             "#fdca26"
            ],
            [
             1,
             "#f0f921"
            ]
           ]
          },
          "colorway": [
           "#636efa",
           "#EF553B",
           "#00cc96",
           "#ab63fa",
           "#FFA15A",
           "#19d3f3",
           "#FF6692",
           "#B6E880",
           "#FF97FF",
           "#FECB52"
          ],
          "font": {
           "color": "#2a3f5f"
          },
          "geo": {
           "bgcolor": "white",
           "lakecolor": "white",
           "landcolor": "#E5ECF6",
           "showlakes": true,
           "showland": true,
           "subunitcolor": "white"
          },
          "hoverlabel": {
           "align": "left"
          },
          "hovermode": "closest",
          "mapbox": {
           "style": "light"
          },
          "paper_bgcolor": "white",
          "plot_bgcolor": "#E5ECF6",
          "polar": {
           "angularaxis": {
            "gridcolor": "white",
            "linecolor": "white",
            "ticks": ""
           },
           "bgcolor": "#E5ECF6",
           "radialaxis": {
            "gridcolor": "white",
            "linecolor": "white",
            "ticks": ""
           }
          },
          "scene": {
           "xaxis": {
            "backgroundcolor": "#E5ECF6",
            "gridcolor": "white",
            "gridwidth": 2,
            "linecolor": "white",
            "showbackground": true,
            "ticks": "",
            "zerolinecolor": "white"
           },
           "yaxis": {
            "backgroundcolor": "#E5ECF6",
            "gridcolor": "white",
            "gridwidth": 2,
            "linecolor": "white",
            "showbackground": true,
            "ticks": "",
            "zerolinecolor": "white"
           },
           "zaxis": {
            "backgroundcolor": "#E5ECF6",
            "gridcolor": "white",
            "gridwidth": 2,
            "linecolor": "white",
            "showbackground": true,
            "ticks": "",
            "zerolinecolor": "white"
           }
          },
          "shapedefaults": {
           "line": {
            "color": "#2a3f5f"
           }
          },
          "ternary": {
           "aaxis": {
            "gridcolor": "white",
            "linecolor": "white",
            "ticks": ""
           },
           "baxis": {
            "gridcolor": "white",
            "linecolor": "white",
            "ticks": ""
           },
           "bgcolor": "#E5ECF6",
           "caxis": {
            "gridcolor": "white",
            "linecolor": "white",
            "ticks": ""
           }
          },
          "title": {
           "x": 0.05
          },
          "xaxis": {
           "automargin": true,
           "gridcolor": "white",
           "linecolor": "white",
           "ticks": "",
           "title": {
            "standoff": 15
           },
           "zerolinecolor": "white",
           "zerolinewidth": 2
          },
          "yaxis": {
           "automargin": true,
           "gridcolor": "white",
           "linecolor": "white",
           "ticks": "",
           "title": {
            "standoff": 15
           },
           "zerolinecolor": "white",
           "zerolinewidth": 2
          }
         }
        }
       }
      }
     },
     "metadata": {},
     "output_type": "display_data"
    }
   ],
   "source": [
    "pinta_mapa(df)"
   ]
  },
  {
   "attachments": {},
   "cell_type": "markdown",
   "metadata": {},
   "source": [
    "## Zonas COVID\n",
    "Imagina que trabajas en el ayuntamiento de tu barrio/pueblo/ciudad, y por motivos del COVID tienes que identificar:\n",
    "1. Todas las zonas abiertas de uso común (zonas de barbacoas, fuentes de agua y parques infantiles (kindergarten)), para cerrarlas.\n",
    "2. Todos los hospitales y clínicas de la zona.\n",
    "\n",
    "Como no sabes muy bien qué puntos serán, utilizas la API de OpenStreetMap. Representa todo en un único mapa"
   ]
  },
  {
   "cell_type": "code",
   "execution_count": 14,
   "metadata": {},
   "outputs": [
    {
     "name": "stdout",
     "output_type": "stream",
     "text": [
      "<Response [200]>\n"
     ]
    },
    {
     "data": {
      "text/html": [
       "<div>\n",
       "<style scoped>\n",
       "    .dataframe tbody tr th:only-of-type {\n",
       "        vertical-align: middle;\n",
       "    }\n",
       "\n",
       "    .dataframe tbody tr th {\n",
       "        vertical-align: top;\n",
       "    }\n",
       "\n",
       "    .dataframe thead th {\n",
       "        text-align: right;\n",
       "    }\n",
       "</style>\n",
       "<table border=\"1\" class=\"dataframe\">\n",
       "  <thead>\n",
       "    <tr style=\"text-align: right;\">\n",
       "      <th></th>\n",
       "      <th>tipo</th>\n",
       "      <th>lat</th>\n",
       "      <th>lon</th>\n",
       "      <th>name</th>\n",
       "      <th>address</th>\n",
       "    </tr>\n",
       "  </thead>\n",
       "  <tbody>\n",
       "    <tr>\n",
       "      <th>0</th>\n",
       "      <td>drinking_water</td>\n",
       "      <td>40.413707</td>\n",
       "      <td>-3.695723</td>\n",
       "      <td>NO NAME</td>\n",
       "      <td>NO STREET 9999</td>\n",
       "    </tr>\n",
       "    <tr>\n",
       "      <th>1</th>\n",
       "      <td>drinking_water</td>\n",
       "      <td>40.412405</td>\n",
       "      <td>-3.691392</td>\n",
       "      <td>NO NAME</td>\n",
       "      <td>NO STREET 9999</td>\n",
       "    </tr>\n",
       "    <tr>\n",
       "      <th>2</th>\n",
       "      <td>drinking_water</td>\n",
       "      <td>40.413810</td>\n",
       "      <td>-3.709083</td>\n",
       "      <td>NO NAME</td>\n",
       "      <td>NO STREET 9999</td>\n",
       "    </tr>\n",
       "    <tr>\n",
       "      <th>3</th>\n",
       "      <td>drinking_water</td>\n",
       "      <td>40.444679</td>\n",
       "      <td>-3.708382</td>\n",
       "      <td>NO NAME</td>\n",
       "      <td>NO STREET 9999</td>\n",
       "    </tr>\n",
       "    <tr>\n",
       "      <th>4</th>\n",
       "      <td>drinking_water</td>\n",
       "      <td>40.439450</td>\n",
       "      <td>-3.691385</td>\n",
       "      <td>NO NAME</td>\n",
       "      <td>NO STREET 9999</td>\n",
       "    </tr>\n",
       "    <tr>\n",
       "      <th>...</th>\n",
       "      <td>...</td>\n",
       "      <td>...</td>\n",
       "      <td>...</td>\n",
       "      <td>...</td>\n",
       "      <td>...</td>\n",
       "    </tr>\n",
       "    <tr>\n",
       "      <th>248</th>\n",
       "      <td>kindergarten</td>\n",
       "      <td>40.447935</td>\n",
       "      <td>-3.704028</td>\n",
       "      <td>Chiquitín Cuatro Caminos</td>\n",
       "      <td>NO STREET 9999</td>\n",
       "    </tr>\n",
       "    <tr>\n",
       "      <th>249</th>\n",
       "      <td>kindergarten</td>\n",
       "      <td>40.434118</td>\n",
       "      <td>-3.709672</td>\n",
       "      <td>Escuela infantil municipal Fernando el Católico</td>\n",
       "      <td>Calle de Fernando el Católico 16B</td>\n",
       "    </tr>\n",
       "    <tr>\n",
       "      <th>250</th>\n",
       "      <td>kindergarten</td>\n",
       "      <td>40.424438</td>\n",
       "      <td>-3.706078</td>\n",
       "      <td>Family Moon</td>\n",
       "      <td>Calle de Minas 6</td>\n",
       "    </tr>\n",
       "    <tr>\n",
       "      <th>251</th>\n",
       "      <td>kindergarten</td>\n",
       "      <td>40.433793</td>\n",
       "      <td>-3.695049</td>\n",
       "      <td>St. Alice's nursery</td>\n",
       "      <td>Calle de Fernández de la Hoz 21</td>\n",
       "    </tr>\n",
       "    <tr>\n",
       "      <th>252</th>\n",
       "      <td>kindergarten</td>\n",
       "      <td>40.439107</td>\n",
       "      <td>-3.694977</td>\n",
       "      <td>TEO</td>\n",
       "      <td>NO STREET 9999</td>\n",
       "    </tr>\n",
       "  </tbody>\n",
       "</table>\n",
       "<p>253 rows × 5 columns</p>\n",
       "</div>"
      ],
      "text/plain": [
       "               tipo        lat       lon  \\\n",
       "0    drinking_water  40.413707 -3.695723   \n",
       "1    drinking_water  40.412405 -3.691392   \n",
       "2    drinking_water  40.413810 -3.709083   \n",
       "3    drinking_water  40.444679 -3.708382   \n",
       "4    drinking_water  40.439450 -3.691385   \n",
       "..              ...        ...       ...   \n",
       "248    kindergarten  40.447935 -3.704028   \n",
       "249    kindergarten  40.434118 -3.709672   \n",
       "250    kindergarten  40.424438 -3.706078   \n",
       "251    kindergarten  40.433793 -3.695049   \n",
       "252    kindergarten  40.439107 -3.694977   \n",
       "\n",
       "                                                name  \\\n",
       "0                                            NO NAME   \n",
       "1                                            NO NAME   \n",
       "2                                            NO NAME   \n",
       "3                                            NO NAME   \n",
       "4                                            NO NAME   \n",
       "..                                               ...   \n",
       "248                         Chiquitín Cuatro Caminos   \n",
       "249  Escuela infantil municipal Fernando el Católico   \n",
       "250                                      Family Moon   \n",
       "251                              St. Alice's nursery   \n",
       "252                                              TEO   \n",
       "\n",
       "                               address  \n",
       "0                       NO STREET 9999  \n",
       "1                       NO STREET 9999  \n",
       "2                       NO STREET 9999  \n",
       "3                       NO STREET 9999  \n",
       "4                       NO STREET 9999  \n",
       "..                                 ...  \n",
       "248                     NO STREET 9999  \n",
       "249  Calle de Fernando el Católico 16B  \n",
       "250                   Calle de Minas 6  \n",
       "251    Calle de Fernández de la Hoz 21  \n",
       "252                     NO STREET 9999  \n",
       "\n",
       "[253 rows x 5 columns]"
      ]
     },
     "execution_count": 14,
     "metadata": {},
     "output_type": "execute_result"
    }
   ],
   "source": [
    "overpass_query = \"\"\"\n",
    "[out:json];\n",
    "node[\"amenity\"=\"bbq\"]\n",
    "  (40.410505, -3.715351, 40.448860, -3.677615);\n",
    "out;\n",
    "node[\"amenity\"=\"drinking_water\"]\n",
    "  (40.410505, -3.715351, 40.448860, -3.677615);\n",
    "out;\n",
    "node[\"amenity\"=\"hospital\"]\n",
    "  (40.410505, -3.715351, 40.448860, -3.677615);\n",
    "out;\n",
    "node[\"amenity\"=\"clinic\"]\n",
    "  (40.410505, -3.715351, 40.448860, -3.677615);\n",
    "out;\n",
    "node[\"amenity\"=\"kindergarten\"]\n",
    "  (40.410505, -3.715351, 40.448860, -3.677615);\n",
    "out;\n",
    "\"\"\"\n",
    "response = requests.get(overpass_url, \n",
    "                        params={'data': overpass_query})\n",
    "print(response)\n",
    "data = response.json()\n",
    "df = json_to_df(data)\n",
    "df"
   ]
  },
  {
   "cell_type": "code",
   "execution_count": 15,
   "metadata": {},
   "outputs": [
    {
     "data": {
      "application/vnd.plotly.v1+json": {
       "config": {
        "plotlyServerURL": "https://plot.ly"
       },
       "data": [
        {
         "hovertemplate": "tipo=drinking_water<br>lat=%{lat}<br>lon=%{lon}<extra></extra>",
         "lat": [
          40.413707,
          40.4124046,
          40.4138099,
          40.4446795,
          40.4394497,
          40.4175585,
          40.4190697,
          40.4414624,
          40.4241648,
          40.4156411,
          40.4196587,
          40.4183443,
          40.4133699,
          40.4323957,
          40.4272963,
          40.4421112,
          40.4417065,
          40.4113959,
          40.416675,
          40.4256554,
          40.4326092,
          40.4467186,
          40.4120637,
          40.4172923,
          40.4141507,
          40.4127548,
          40.418147,
          40.4144412,
          40.4254296,
          40.4365645,
          40.4474268,
          40.4242466,
          40.4255618,
          40.4269941,
          40.4163972,
          40.4170109,
          40.4266777,
          40.4273745,
          40.4274655,
          40.4286719,
          40.4298933,
          40.4299981,
          40.4316925,
          40.4330578,
          40.4332579,
          40.4342261,
          40.4370207,
          40.437048,
          40.4391016,
          40.4204806,
          40.412007,
          40.4125638,
          40.4126639,
          40.4302997,
          40.432502,
          40.4369108,
          40.4389565,
          40.4404562,
          40.4425058,
          40.4376508,
          40.4397077,
          40.4238845,
          40.4159224,
          40.4287391,
          40.4157764,
          40.4430873,
          40.4448255,
          40.4444381,
          40.4395193,
          40.4151191,
          40.416734,
          40.4171448,
          40.418682,
          40.4198651,
          40.4206758,
          40.4204166,
          40.4197034,
          40.4186278,
          40.4139692,
          40.4116961,
          40.410734,
          40.4107577,
          40.4111617,
          40.4113795,
          40.4410554,
          40.4155502,
          40.4157864,
          40.4163956,
          40.4166424,
          40.4194627,
          40.4187977,
          40.4251134,
          40.417399,
          40.4182752,
          40.4122205,
          40.4474808,
          40.4229121,
          40.4260697,
          40.441602,
          40.4198138,
          40.4189037,
          40.4265967,
          40.421566,
          40.4127302,
          40.4107991,
          40.4427383,
          40.4465461,
          40.4488186,
          40.444502,
          40.4126323,
          40.4253945,
          40.4191171,
          40.4167334,
          40.4222486,
          40.4158923,
          40.433065,
          40.4189725,
          40.4231084,
          40.4166388,
          40.4173514,
          40.4148916,
          40.4398945,
          40.4218343,
          40.4405959,
          40.4403967,
          40.4409335,
          40.4314992,
          40.4330533,
          40.4228028,
          40.4231688,
          40.4226968,
          40.4113306,
          40.4330995,
          40.4317491,
          40.4367905,
          40.4393124,
          40.4153654,
          40.428558,
          40.4229721,
          40.4190296,
          40.4433228,
          40.4427931,
          40.4425783,
          40.4415204,
          40.4106377,
          40.4272144,
          40.417949,
          40.4257476,
          40.4182722,
          40.4146426,
          40.4166744,
          40.4458659,
          40.4472796,
          40.4144348,
          40.4204417,
          40.4130959,
          40.4323439,
          40.4155979,
          40.420072,
          40.410714,
          40.4325976,
          40.4125853,
          40.4230279,
          40.4166745,
          40.425757,
          40.4247719,
          40.4244229
         ],
         "legendgroup": "drinking_water",
         "lon": [
          -3.6957228,
          -3.6913919,
          -3.7090832,
          -3.7083824,
          -3.6913854,
          -3.7119284,
          -3.6811704,
          -3.6902285,
          -3.7018299,
          -3.6809721,
          -3.6866509,
          -3.6855094,
          -3.6814686,
          -3.6779632,
          -3.708589,
          -3.7054054,
          -3.6793004,
          -3.6970807,
          -3.7084485,
          -3.7120381,
          -3.7011039,
          -3.7137422,
          -3.6897489,
          -3.680829,
          -3.6827361,
          -3.6932535,
          -3.7091853,
          -3.6790489,
          -3.6922473,
          -3.6936664,
          -3.7009143,
          -3.6946022,
          -3.6931759,
          -3.7043967,
          -3.6886031,
          -3.6821419,
          -3.6899082,
          -3.6896984,
          -3.6900419,
          -3.6893863,
          -3.6894117,
          -3.6890579,
          -3.688921,
          -3.6790075,
          -3.6787728,
          -3.6887626,
          -3.6898017,
          -3.6903165,
          -3.6908466,
          -3.7137467,
          -3.7150266,
          -3.7151548,
          -3.7148758,
          -3.7073188,
          -3.6972637,
          -3.7009116,
          -3.7045013,
          -3.7069954,
          -3.7057137,
          -3.7147452,
          -3.704509,
          -3.6986234,
          -3.7114412,
          -3.7100813,
          -3.7086889,
          -3.7057602,
          -3.707679,
          -3.7093391,
          -3.6885459,
          -3.6790793,
          -3.6785096,
          -3.6792251,
          -3.6799125,
          -3.6802547,
          -3.6824338,
          -3.6842604,
          -3.6865706,
          -3.6880326,
          -3.6883757,
          -3.6867756,
          -3.6872272,
          -3.6832617,
          -3.680999,
          -3.6800558,
          -3.6942263,
          -3.684057,
          -3.6835184,
          -3.6814203,
          -3.680025,
          -3.6916265,
          -3.6865447,
          -3.6937099,
          -3.7070067,
          -3.7090056,
          -3.6904215,
          -3.7130246,
          -3.7103693,
          -3.6998901,
          -3.6891451,
          -3.6932399,
          -3.6975515,
          -3.68976,
          -3.6924562,
          -3.6937646,
          -3.7141721,
          -3.6807518,
          -3.704108,
          -3.7138241,
          -3.6971067,
          -3.707566,
          -3.7038973,
          -3.7032964,
          -3.7108125,
          -3.6996889,
          -3.7112054,
          -3.6854761,
          -3.6946031,
          -3.7008557,
          -3.6985032,
          -3.7012951,
          -3.6929558,
          -3.7012173,
          -3.7054907,
          -3.7039537,
          -3.7038411,
          -3.703915,
          -3.6837458,
          -3.6855246,
          -3.7134576,
          -3.7130221,
          -3.7127902,
          -3.7081828,
          -3.7117629,
          -3.7036214,
          -3.6994285,
          -3.6945223,
          -3.6969181,
          -3.6899848,
          -3.6931708,
          -3.696122,
          -3.7089975,
          -3.7086542,
          -3.7085214,
          -3.706898,
          -3.6980638,
          -3.7105117,
          -3.6795233,
          -3.7071832,
          -3.7071005,
          -3.7070535,
          -3.7019387,
          -3.6788731,
          -3.7036539,
          -3.7085231,
          -3.7130743,
          -3.6953882,
          -3.6779167,
          -3.7132735,
          -3.6957624,
          -3.7026086,
          -3.6914095,
          -3.6915831,
          -3.7147665,
          -3.7118926,
          -3.7093155,
          -3.6908492,
          -3.7106754
         ],
         "marker": {
          "color": "#636efa"
         },
         "mode": "markers",
         "name": "drinking_water",
         "showlegend": true,
         "subplot": "mapbox",
         "type": "scattermapbox"
        },
        {
         "hovertemplate": "tipo=hospital<br>lat=%{lat}<br>lon=%{lon}<extra></extra>",
         "lat": [
          40.4325782,
          40.4441592
         ],
         "legendgroup": "hospital",
         "lon": [
          -3.7086334,
          -3.7139113
         ],
         "marker": {
          "color": "#EF553B"
         },
         "mode": "markers",
         "name": "hospital",
         "showlegend": true,
         "subplot": "mapbox",
         "type": "scattermapbox"
        },
        {
         "hovertemplate": "tipo=clinic<br>lat=%{lat}<br>lon=%{lon}<extra></extra>",
         "lat": [
          40.4312348,
          40.4164906,
          40.4290209,
          40.4257079,
          40.4295088,
          40.4265395,
          40.4209634,
          40.4240722,
          40.4295818,
          40.43287,
          40.4229407,
          40.426509,
          40.4119611,
          40.4400853,
          40.4285766,
          40.4389029,
          40.4185018,
          40.4355626,
          40.4124121,
          40.4418027,
          40.4392594,
          40.4326037,
          40.4258473,
          40.4331995,
          40.4282594,
          40.4252203,
          40.4473201,
          40.4380418,
          40.422014,
          40.4406838,
          40.4296106,
          40.4304893,
          40.420659,
          40.4325217,
          40.4293682,
          40.4371184,
          40.420426,
          40.4440471,
          40.4310385,
          40.4376164,
          40.4334797,
          40.435736,
          40.4278048,
          40.4332822,
          40.4328451,
          40.4443554,
          40.4292126,
          40.4461603,
          40.4435047,
          40.4289236,
          40.4247295,
          40.4290231,
          40.4224036,
          40.427122,
          40.4382633,
          40.4227569,
          40.4217949,
          40.4309125
         ],
         "legendgroup": "clinic",
         "lon": [
          -3.7135908,
          -3.6989912,
          -3.6889198,
          -3.6887819,
          -3.7092051,
          -3.7072908,
          -3.704637,
          -3.708842,
          -3.7073977,
          -3.6960715,
          -3.7068543,
          -3.7061191,
          -3.6937885,
          -3.6791289,
          -3.6813351,
          -3.7071603,
          -3.6779675,
          -3.6842767,
          -3.6969161,
          -3.705018,
          -3.7063926,
          -3.7076807,
          -3.7121092,
          -3.6997843,
          -3.7012787,
          -3.7137655,
          -3.7034089,
          -3.7142712,
          -3.6798717,
          -3.6963958,
          -3.7136388,
          -3.7052845,
          -3.7014952,
          -3.7049464,
          -3.7035357,
          -3.6930873,
          -3.6973478,
          -3.6962407,
          -3.7013265,
          -3.6856058,
          -3.7063989,
          -3.7050883,
          -3.6824523,
          -3.6832523,
          -3.6802349,
          -3.7136928,
          -3.6879248,
          -3.6994409,
          -3.6841932,
          -3.7056179,
          -3.6981454,
          -3.6796307,
          -3.6926919,
          -3.6877165,
          -3.7098575,
          -3.7102199,
          -3.6862701,
          -3.6922439
         ],
         "marker": {
          "color": "#00cc96"
         },
         "mode": "markers",
         "name": "clinic",
         "showlegend": true,
         "subplot": "mapbox",
         "type": "scattermapbox"
        },
        {
         "hovertemplate": "tipo=kindergarten<br>lat=%{lat}<br>lon=%{lon}<extra></extra>",
         "lat": [
          40.4274181,
          40.4308428,
          40.4466061,
          40.4341757,
          40.4456395,
          40.4354905,
          40.4106956,
          40.4303389,
          40.4267611,
          40.4318731,
          40.4469484,
          40.4413667,
          40.4337608,
          40.4456958,
          40.4162497,
          40.4368726,
          40.4326855,
          40.4465348,
          40.4279992,
          40.4456464,
          40.4330671,
          40.4479351,
          40.4341181,
          40.4244376,
          40.4337925,
          40.439107
         ],
         "legendgroup": "kindergarten",
         "lon": [
          -3.7089933,
          -3.7060322,
          -3.6802667,
          -3.7149093,
          -3.7002434,
          -3.7091922,
          -3.7116612,
          -3.7078484,
          -3.7046693,
          -3.7013013,
          -3.686897,
          -3.7131223,
          -3.7076543,
          -3.6869668,
          -3.6984191,
          -3.7017626,
          -3.7017994,
          -3.6836107,
          -3.6995777,
          -3.7064174,
          -3.7126238,
          -3.704028,
          -3.7096719,
          -3.7060782,
          -3.6950493,
          -3.694977
         ],
         "marker": {
          "color": "#ab63fa"
         },
         "mode": "markers",
         "name": "kindergarten",
         "showlegend": true,
         "subplot": "mapbox",
         "type": "scattermapbox"
        }
       ],
       "layout": {
        "legend": {
         "title": {
          "text": "tipo"
         },
         "tracegroupgap": 0
        },
        "mapbox": {
         "accesstoken": "pk.eyJ1IjoiZGFvcnRpIiwiYSI6ImNrZnF6M3FlczA3cDEyem16YTNzZmV4M2EifQ.846iF0sMSAXv0kwkwUTYjg",
         "center": {
          "lat": 40.42769585849802,
          "lon": -3.6979861142292485
         },
         "domain": {
          "x": [
           0,
           1
          ],
          "y": [
           0,
           1
          ]
         },
         "zoom": 11
        },
        "margin": {
         "t": 60
        },
        "template": {
         "data": {
          "bar": [
           {
            "error_x": {
             "color": "#2a3f5f"
            },
            "error_y": {
             "color": "#2a3f5f"
            },
            "marker": {
             "line": {
              "color": "#E5ECF6",
              "width": 0.5
             },
             "pattern": {
              "fillmode": "overlay",
              "size": 10,
              "solidity": 0.2
             }
            },
            "type": "bar"
           }
          ],
          "barpolar": [
           {
            "marker": {
             "line": {
              "color": "#E5ECF6",
              "width": 0.5
             },
             "pattern": {
              "fillmode": "overlay",
              "size": 10,
              "solidity": 0.2
             }
            },
            "type": "barpolar"
           }
          ],
          "carpet": [
           {
            "aaxis": {
             "endlinecolor": "#2a3f5f",
             "gridcolor": "white",
             "linecolor": "white",
             "minorgridcolor": "white",
             "startlinecolor": "#2a3f5f"
            },
            "baxis": {
             "endlinecolor": "#2a3f5f",
             "gridcolor": "white",
             "linecolor": "white",
             "minorgridcolor": "white",
             "startlinecolor": "#2a3f5f"
            },
            "type": "carpet"
           }
          ],
          "choropleth": [
           {
            "colorbar": {
             "outlinewidth": 0,
             "ticks": ""
            },
            "type": "choropleth"
           }
          ],
          "contour": [
           {
            "colorbar": {
             "outlinewidth": 0,
             "ticks": ""
            },
            "colorscale": [
             [
              0,
              "#0d0887"
             ],
             [
              0.1111111111111111,
              "#46039f"
             ],
             [
              0.2222222222222222,
              "#7201a8"
             ],
             [
              0.3333333333333333,
              "#9c179e"
             ],
             [
              0.4444444444444444,
              "#bd3786"
             ],
             [
              0.5555555555555556,
              "#d8576b"
             ],
             [
              0.6666666666666666,
              "#ed7953"
             ],
             [
              0.7777777777777778,
              "#fb9f3a"
             ],
             [
              0.8888888888888888,
              "#fdca26"
             ],
             [
              1,
              "#f0f921"
             ]
            ],
            "type": "contour"
           }
          ],
          "contourcarpet": [
           {
            "colorbar": {
             "outlinewidth": 0,
             "ticks": ""
            },
            "type": "contourcarpet"
           }
          ],
          "heatmap": [
           {
            "colorbar": {
             "outlinewidth": 0,
             "ticks": ""
            },
            "colorscale": [
             [
              0,
              "#0d0887"
             ],
             [
              0.1111111111111111,
              "#46039f"
             ],
             [
              0.2222222222222222,
              "#7201a8"
             ],
             [
              0.3333333333333333,
              "#9c179e"
             ],
             [
              0.4444444444444444,
              "#bd3786"
             ],
             [
              0.5555555555555556,
              "#d8576b"
             ],
             [
              0.6666666666666666,
              "#ed7953"
             ],
             [
              0.7777777777777778,
              "#fb9f3a"
             ],
             [
              0.8888888888888888,
              "#fdca26"
             ],
             [
              1,
              "#f0f921"
             ]
            ],
            "type": "heatmap"
           }
          ],
          "heatmapgl": [
           {
            "colorbar": {
             "outlinewidth": 0,
             "ticks": ""
            },
            "colorscale": [
             [
              0,
              "#0d0887"
             ],
             [
              0.1111111111111111,
              "#46039f"
             ],
             [
              0.2222222222222222,
              "#7201a8"
             ],
             [
              0.3333333333333333,
              "#9c179e"
             ],
             [
              0.4444444444444444,
              "#bd3786"
             ],
             [
              0.5555555555555556,
              "#d8576b"
             ],
             [
              0.6666666666666666,
              "#ed7953"
             ],
             [
              0.7777777777777778,
              "#fb9f3a"
             ],
             [
              0.8888888888888888,
              "#fdca26"
             ],
             [
              1,
              "#f0f921"
             ]
            ],
            "type": "heatmapgl"
           }
          ],
          "histogram": [
           {
            "marker": {
             "pattern": {
              "fillmode": "overlay",
              "size": 10,
              "solidity": 0.2
             }
            },
            "type": "histogram"
           }
          ],
          "histogram2d": [
           {
            "colorbar": {
             "outlinewidth": 0,
             "ticks": ""
            },
            "colorscale": [
             [
              0,
              "#0d0887"
             ],
             [
              0.1111111111111111,
              "#46039f"
             ],
             [
              0.2222222222222222,
              "#7201a8"
             ],
             [
              0.3333333333333333,
              "#9c179e"
             ],
             [
              0.4444444444444444,
              "#bd3786"
             ],
             [
              0.5555555555555556,
              "#d8576b"
             ],
             [
              0.6666666666666666,
              "#ed7953"
             ],
             [
              0.7777777777777778,
              "#fb9f3a"
             ],
             [
              0.8888888888888888,
              "#fdca26"
             ],
             [
              1,
              "#f0f921"
             ]
            ],
            "type": "histogram2d"
           }
          ],
          "histogram2dcontour": [
           {
            "colorbar": {
             "outlinewidth": 0,
             "ticks": ""
            },
            "colorscale": [
             [
              0,
              "#0d0887"
             ],
             [
              0.1111111111111111,
              "#46039f"
             ],
             [
              0.2222222222222222,
              "#7201a8"
             ],
             [
              0.3333333333333333,
              "#9c179e"
             ],
             [
              0.4444444444444444,
              "#bd3786"
             ],
             [
              0.5555555555555556,
              "#d8576b"
             ],
             [
              0.6666666666666666,
              "#ed7953"
             ],
             [
              0.7777777777777778,
              "#fb9f3a"
             ],
             [
              0.8888888888888888,
              "#fdca26"
             ],
             [
              1,
              "#f0f921"
             ]
            ],
            "type": "histogram2dcontour"
           }
          ],
          "mesh3d": [
           {
            "colorbar": {
             "outlinewidth": 0,
             "ticks": ""
            },
            "type": "mesh3d"
           }
          ],
          "parcoords": [
           {
            "line": {
             "colorbar": {
              "outlinewidth": 0,
              "ticks": ""
             }
            },
            "type": "parcoords"
           }
          ],
          "pie": [
           {
            "automargin": true,
            "type": "pie"
           }
          ],
          "scatter": [
           {
            "fillpattern": {
             "fillmode": "overlay",
             "size": 10,
             "solidity": 0.2
            },
            "type": "scatter"
           }
          ],
          "scatter3d": [
           {
            "line": {
             "colorbar": {
              "outlinewidth": 0,
              "ticks": ""
             }
            },
            "marker": {
             "colorbar": {
              "outlinewidth": 0,
              "ticks": ""
             }
            },
            "type": "scatter3d"
           }
          ],
          "scattercarpet": [
           {
            "marker": {
             "colorbar": {
              "outlinewidth": 0,
              "ticks": ""
             }
            },
            "type": "scattercarpet"
           }
          ],
          "scattergeo": [
           {
            "marker": {
             "colorbar": {
              "outlinewidth": 0,
              "ticks": ""
             }
            },
            "type": "scattergeo"
           }
          ],
          "scattergl": [
           {
            "marker": {
             "colorbar": {
              "outlinewidth": 0,
              "ticks": ""
             }
            },
            "type": "scattergl"
           }
          ],
          "scattermapbox": [
           {
            "marker": {
             "colorbar": {
              "outlinewidth": 0,
              "ticks": ""
             }
            },
            "type": "scattermapbox"
           }
          ],
          "scatterpolar": [
           {
            "marker": {
             "colorbar": {
              "outlinewidth": 0,
              "ticks": ""
             }
            },
            "type": "scatterpolar"
           }
          ],
          "scatterpolargl": [
           {
            "marker": {
             "colorbar": {
              "outlinewidth": 0,
              "ticks": ""
             }
            },
            "type": "scatterpolargl"
           }
          ],
          "scatterternary": [
           {
            "marker": {
             "colorbar": {
              "outlinewidth": 0,
              "ticks": ""
             }
            },
            "type": "scatterternary"
           }
          ],
          "surface": [
           {
            "colorbar": {
             "outlinewidth": 0,
             "ticks": ""
            },
            "colorscale": [
             [
              0,
              "#0d0887"
             ],
             [
              0.1111111111111111,
              "#46039f"
             ],
             [
              0.2222222222222222,
              "#7201a8"
             ],
             [
              0.3333333333333333,
              "#9c179e"
             ],
             [
              0.4444444444444444,
              "#bd3786"
             ],
             [
              0.5555555555555556,
              "#d8576b"
             ],
             [
              0.6666666666666666,
              "#ed7953"
             ],
             [
              0.7777777777777778,
              "#fb9f3a"
             ],
             [
              0.8888888888888888,
              "#fdca26"
             ],
             [
              1,
              "#f0f921"
             ]
            ],
            "type": "surface"
           }
          ],
          "table": [
           {
            "cells": {
             "fill": {
              "color": "#EBF0F8"
             },
             "line": {
              "color": "white"
             }
            },
            "header": {
             "fill": {
              "color": "#C8D4E3"
             },
             "line": {
              "color": "white"
             }
            },
            "type": "table"
           }
          ]
         },
         "layout": {
          "annotationdefaults": {
           "arrowcolor": "#2a3f5f",
           "arrowhead": 0,
           "arrowwidth": 1
          },
          "autotypenumbers": "strict",
          "coloraxis": {
           "colorbar": {
            "outlinewidth": 0,
            "ticks": ""
           }
          },
          "colorscale": {
           "diverging": [
            [
             0,
             "#8e0152"
            ],
            [
             0.1,
             "#c51b7d"
            ],
            [
             0.2,
             "#de77ae"
            ],
            [
             0.3,
             "#f1b6da"
            ],
            [
             0.4,
             "#fde0ef"
            ],
            [
             0.5,
             "#f7f7f7"
            ],
            [
             0.6,
             "#e6f5d0"
            ],
            [
             0.7,
             "#b8e186"
            ],
            [
             0.8,
             "#7fbc41"
            ],
            [
             0.9,
             "#4d9221"
            ],
            [
             1,
             "#276419"
            ]
           ],
           "sequential": [
            [
             0,
             "#0d0887"
            ],
            [
             0.1111111111111111,
             "#46039f"
            ],
            [
             0.2222222222222222,
             "#7201a8"
            ],
            [
             0.3333333333333333,
             "#9c179e"
            ],
            [
             0.4444444444444444,
             "#bd3786"
            ],
            [
             0.5555555555555556,
             "#d8576b"
            ],
            [
             0.6666666666666666,
             "#ed7953"
            ],
            [
             0.7777777777777778,
             "#fb9f3a"
            ],
            [
             0.8888888888888888,
             "#fdca26"
            ],
            [
             1,
             "#f0f921"
            ]
           ],
           "sequentialminus": [
            [
             0,
             "#0d0887"
            ],
            [
             0.1111111111111111,
             "#46039f"
            ],
            [
             0.2222222222222222,
             "#7201a8"
            ],
            [
             0.3333333333333333,
             "#9c179e"
            ],
            [
             0.4444444444444444,
             "#bd3786"
            ],
            [
             0.5555555555555556,
             "#d8576b"
            ],
            [
             0.6666666666666666,
             "#ed7953"
            ],
            [
             0.7777777777777778,
             "#fb9f3a"
            ],
            [
             0.8888888888888888,
             "#fdca26"
            ],
            [
             1,
             "#f0f921"
            ]
           ]
          },
          "colorway": [
           "#636efa",
           "#EF553B",
           "#00cc96",
           "#ab63fa",
           "#FFA15A",
           "#19d3f3",
           "#FF6692",
           "#B6E880",
           "#FF97FF",
           "#FECB52"
          ],
          "font": {
           "color": "#2a3f5f"
          },
          "geo": {
           "bgcolor": "white",
           "lakecolor": "white",
           "landcolor": "#E5ECF6",
           "showlakes": true,
           "showland": true,
           "subunitcolor": "white"
          },
          "hoverlabel": {
           "align": "left"
          },
          "hovermode": "closest",
          "mapbox": {
           "style": "light"
          },
          "paper_bgcolor": "white",
          "plot_bgcolor": "#E5ECF6",
          "polar": {
           "angularaxis": {
            "gridcolor": "white",
            "linecolor": "white",
            "ticks": ""
           },
           "bgcolor": "#E5ECF6",
           "radialaxis": {
            "gridcolor": "white",
            "linecolor": "white",
            "ticks": ""
           }
          },
          "scene": {
           "xaxis": {
            "backgroundcolor": "#E5ECF6",
            "gridcolor": "white",
            "gridwidth": 2,
            "linecolor": "white",
            "showbackground": true,
            "ticks": "",
            "zerolinecolor": "white"
           },
           "yaxis": {
            "backgroundcolor": "#E5ECF6",
            "gridcolor": "white",
            "gridwidth": 2,
            "linecolor": "white",
            "showbackground": true,
            "ticks": "",
            "zerolinecolor": "white"
           },
           "zaxis": {
            "backgroundcolor": "#E5ECF6",
            "gridcolor": "white",
            "gridwidth": 2,
            "linecolor": "white",
            "showbackground": true,
            "ticks": "",
            "zerolinecolor": "white"
           }
          },
          "shapedefaults": {
           "line": {
            "color": "#2a3f5f"
           }
          },
          "ternary": {
           "aaxis": {
            "gridcolor": "white",
            "linecolor": "white",
            "ticks": ""
           },
           "baxis": {
            "gridcolor": "white",
            "linecolor": "white",
            "ticks": ""
           },
           "bgcolor": "#E5ECF6",
           "caxis": {
            "gridcolor": "white",
            "linecolor": "white",
            "ticks": ""
           }
          },
          "title": {
           "x": 0.05
          },
          "xaxis": {
           "automargin": true,
           "gridcolor": "white",
           "linecolor": "white",
           "ticks": "",
           "title": {
            "standoff": 15
           },
           "zerolinecolor": "white",
           "zerolinewidth": 2
          },
          "yaxis": {
           "automargin": true,
           "gridcolor": "white",
           "linecolor": "white",
           "ticks": "",
           "title": {
            "standoff": 15
           },
           "zerolinecolor": "white",
           "zerolinewidth": 2
          }
         }
        }
       }
      }
     },
     "metadata": {},
     "output_type": "display_data"
    }
   ],
   "source": [
    "pinta_mapa(df)"
   ]
  },
  {
   "attachments": {},
   "cell_type": "markdown",
   "metadata": {},
   "source": [
    "## Supermercados\n",
    "Para este ejemplo supondrás que trabajas en una cadena de supermercados en la que se está planteando construir un nuevo local en la provincia de Sevilla. Busca mediante la API de Overpass todos los supermercados de la provincia para poder comprobar en qué nucleos urbanos habría poca competencia.\n",
    "\n",
    "En este caso hay que buscar por área, no por cuadrícula! Investiga en la documentación/Stackoverflow cómo se haría eso."
   ]
  },
  {
   "cell_type": "code",
   "execution_count": 16,
   "metadata": {},
   "outputs": [
    {
     "name": "stdout",
     "output_type": "stream",
     "text": [
      "<Response [200]>\n"
     ]
    },
    {
     "data": {
      "text/html": [
       "<div>\n",
       "<style scoped>\n",
       "    .dataframe tbody tr th:only-of-type {\n",
       "        vertical-align: middle;\n",
       "    }\n",
       "\n",
       "    .dataframe tbody tr th {\n",
       "        vertical-align: top;\n",
       "    }\n",
       "\n",
       "    .dataframe thead th {\n",
       "        text-align: right;\n",
       "    }\n",
       "</style>\n",
       "<table border=\"1\" class=\"dataframe\">\n",
       "  <thead>\n",
       "    <tr style=\"text-align: right;\">\n",
       "      <th></th>\n",
       "      <th>tipo</th>\n",
       "      <th>lat</th>\n",
       "      <th>lon</th>\n",
       "      <th>name</th>\n",
       "      <th>address</th>\n",
       "    </tr>\n",
       "  </thead>\n",
       "  <tbody>\n",
       "    <tr>\n",
       "      <th>0</th>\n",
       "      <td>None</td>\n",
       "      <td>37.373002</td>\n",
       "      <td>-6.047204</td>\n",
       "      <td>MAS</td>\n",
       "      <td>NO STREET 9999</td>\n",
       "    </tr>\n",
       "    <tr>\n",
       "      <th>1</th>\n",
       "      <td>None</td>\n",
       "      <td>37.390016</td>\n",
       "      <td>-5.973769</td>\n",
       "      <td>Maxi Dia</td>\n",
       "      <td>NO STREET 9999</td>\n",
       "    </tr>\n",
       "    <tr>\n",
       "      <th>2</th>\n",
       "      <td>None</td>\n",
       "      <td>36.994532</td>\n",
       "      <td>-5.572320</td>\n",
       "      <td>Dia</td>\n",
       "      <td>NO STREET 9999</td>\n",
       "    </tr>\n",
       "    <tr>\n",
       "      <th>3</th>\n",
       "      <td>None</td>\n",
       "      <td>37.406364</td>\n",
       "      <td>-5.976342</td>\n",
       "      <td>El Jamón</td>\n",
       "      <td>NO STREET 9999</td>\n",
       "    </tr>\n",
       "    <tr>\n",
       "      <th>4</th>\n",
       "      <td>None</td>\n",
       "      <td>37.406508</td>\n",
       "      <td>-5.973342</td>\n",
       "      <td>Valdejimena</td>\n",
       "      <td>Avenida de San Juan de la Salle 9999</td>\n",
       "    </tr>\n",
       "    <tr>\n",
       "      <th>...</th>\n",
       "      <td>...</td>\n",
       "      <td>...</td>\n",
       "      <td>...</td>\n",
       "      <td>...</td>\n",
       "      <td>...</td>\n",
       "    </tr>\n",
       "    <tr>\n",
       "      <th>535</th>\n",
       "      <td>None</td>\n",
       "      <td>NaN</td>\n",
       "      <td>NaN</td>\n",
       "      <td>Superco</td>\n",
       "      <td>Calle Alfonso Braojos Garrido 9999</td>\n",
       "    </tr>\n",
       "    <tr>\n",
       "      <th>536</th>\n",
       "      <td>None</td>\n",
       "      <td>NaN</td>\n",
       "      <td>NaN</td>\n",
       "      <td>Cash Fresh</td>\n",
       "      <td>NO STREET 9999</td>\n",
       "    </tr>\n",
       "    <tr>\n",
       "      <th>537</th>\n",
       "      <td>None</td>\n",
       "      <td>NaN</td>\n",
       "      <td>NaN</td>\n",
       "      <td>NO NAME</td>\n",
       "      <td>NO STREET 9999</td>\n",
       "    </tr>\n",
       "    <tr>\n",
       "      <th>538</th>\n",
       "      <td>None</td>\n",
       "      <td>NaN</td>\n",
       "      <td>NaN</td>\n",
       "      <td>Dia</td>\n",
       "      <td>NO STREET 9999</td>\n",
       "    </tr>\n",
       "    <tr>\n",
       "      <th>539</th>\n",
       "      <td>None</td>\n",
       "      <td>NaN</td>\n",
       "      <td>NaN</td>\n",
       "      <td>Cash Fresh</td>\n",
       "      <td>NO STREET 9999</td>\n",
       "    </tr>\n",
       "  </tbody>\n",
       "</table>\n",
       "<p>540 rows × 5 columns</p>\n",
       "</div>"
      ],
      "text/plain": [
       "     tipo        lat       lon         name  \\\n",
       "0    None  37.373002 -6.047204          MAS   \n",
       "1    None  37.390016 -5.973769     Maxi Dia   \n",
       "2    None  36.994532 -5.572320          Dia   \n",
       "3    None  37.406364 -5.976342     El Jamón   \n",
       "4    None  37.406508 -5.973342  Valdejimena   \n",
       "..    ...        ...       ...          ...   \n",
       "535  None        NaN       NaN      Superco   \n",
       "536  None        NaN       NaN   Cash Fresh   \n",
       "537  None        NaN       NaN      NO NAME   \n",
       "538  None        NaN       NaN          Dia   \n",
       "539  None        NaN       NaN   Cash Fresh   \n",
       "\n",
       "                                  address  \n",
       "0                          NO STREET 9999  \n",
       "1                          NO STREET 9999  \n",
       "2                          NO STREET 9999  \n",
       "3                          NO STREET 9999  \n",
       "4    Avenida de San Juan de la Salle 9999  \n",
       "..                                    ...  \n",
       "535    Calle Alfonso Braojos Garrido 9999  \n",
       "536                        NO STREET 9999  \n",
       "537                        NO STREET 9999  \n",
       "538                        NO STREET 9999  \n",
       "539                        NO STREET 9999  \n",
       "\n",
       "[540 rows x 5 columns]"
      ]
     },
     "execution_count": 16,
     "metadata": {},
     "output_type": "execute_result"
    }
   ],
   "source": [
    "overpass_query = \"\"\"\n",
    "[out:json];\n",
    "area[name=\"Sevilla\"];\n",
    "nwr[shop=supermarket](area);\n",
    "out center;\n",
    "\"\"\"\n",
    "response = requests.get(overpass_url, \n",
    "                        params={'data': overpass_query})\n",
    "print(response)\n",
    "data = response.json()\n",
    "df = json_to_df(data)\n",
    "df"
   ]
  },
  {
   "cell_type": "code",
   "execution_count": 17,
   "metadata": {},
   "outputs": [],
   "source": [
    "df['tipo'] = df['tipo'].fillna(\"supermarket\")\n",
    "df = df.dropna()"
   ]
  },
  {
   "cell_type": "code",
   "execution_count": 18,
   "metadata": {},
   "outputs": [
    {
     "data": {
      "application/vnd.plotly.v1+json": {
       "config": {
        "plotlyServerURL": "https://plot.ly"
       },
       "data": [
        {
         "hovertemplate": "tipo=supermarket<br>lat=%{lat}<br>lon=%{lon}<extra></extra>",
         "lat": [
          37.3730016,
          37.3900156,
          36.9945325,
          37.4063636,
          37.4065076,
          37.4068889,
          37.381381,
          37.3492941,
          37.3931413,
          37.3916239,
          37.281765,
          37.3945948,
          37.3928078,
          37.3968266,
          37.39283,
          37.4000193,
          37.4636269,
          37.3877763,
          37.3782118,
          37.3784637,
          37.4223309,
          37.4210312,
          37.6592193,
          37.4158443,
          37.408912,
          37.4162977,
          37.4322927,
          37.4265448,
          37.3993597,
          37.4032095,
          37.4040568,
          37.3767341,
          37.3758354,
          37.3709299,
          37.3475816,
          37.3650152,
          37.3666867,
          37.3941226,
          37.3746749,
          37.3821828,
          37.3765331,
          37.3762135,
          37.3828281,
          37.4906658,
          37.2929933,
          37.4004138,
          37.4022714,
          37.382216,
          37.3750846,
          37.3838793,
          37.3758889,
          37.41043,
          37.3995123,
          37.4010345,
          37.4117722,
          37.4021436,
          37.3958654,
          37.3732438,
          37.3770745,
          37.3921822,
          37.373167,
          37.395969,
          37.3993031,
          37.3661575,
          37.3716058,
          37.3612925,
          37.390219,
          37.4019062,
          37.2697298,
          37.344986,
          37.2756379,
          37.4007084,
          37.1744795,
          37.4615531,
          37.1876727,
          37.1851484,
          37.1895563,
          37.1797124,
          37.3207532,
          37.285365,
          37.2855656,
          37.3255608,
          37.2906251,
          37.3888642,
          37.3878814,
          37.3823229,
          37.2661629,
          37.3327558,
          37.3882714,
          37.295735,
          37.3376348,
          37.3322365,
          37.394668,
          37.387336,
          37.37798,
          37.3501025,
          37.3842002,
          37.3418089,
          37.3828833,
          37.3774228,
          37.3838552,
          37.3939616,
          37.4066907,
          37.3542265,
          37.3778989,
          37.3439885,
          37.384986,
          37.3784614,
          37.4245402,
          37.3511902,
          37.3845859,
          37.3829724,
          37.3926834,
          37.487511,
          37.2871942,
          37.1615124,
          37.4084798,
          37.3852201,
          37.3387597,
          37.3416599,
          37.3385438,
          37.3876859,
          37.3755246,
          37.3417027,
          37.5433022,
          37.3732443,
          37.3585028,
          37.4639055,
          37.3720492,
          37.5452087,
          37.2902401,
          37.3984032,
          37.328376,
          37.3684704,
          37.5161622,
          37.3827647,
          37.3972073,
          37.3986384,
          37.9314768,
          37.4012555,
          37.388112,
          37.3897145,
          37.284377,
          37.3007621,
          37.5395984,
          37.5304428,
          37.5379071,
          37.351903,
          37.2962155,
          37.2949076,
          37.2894918,
          37.3846396,
          37.3845658,
          37.3878832,
          37.3901385,
          37.935879,
          37.3390588,
          37.2889914,
          37.3704267,
          37.3709517,
          37.3723487,
          37.3718211,
          37.3764664,
          37.377278,
          37.2315496,
          37.2374432,
          37.2374048,
          37.3588696,
          37.3563452,
          37.3757882,
          37.3947584,
          37.3785976,
          37.378052,
          37.2517534,
          37.3979165,
          37.1288919,
          37.1263749,
          37.1278811,
          37.5442913,
          37.5416931,
          37.3755652,
          37.4109179,
          37.3800415,
          37.3793471,
          37.3528597,
          37.4836776,
          37.4844523,
          37.3596854,
          37.3835149,
          37.3741291,
          37.3826562,
          37.4108539,
          37.9428359,
          37.2238977,
          37.385883,
          37.6601041,
          37.3101139,
          37.3798043,
          37.2783941,
          37.4494613,
          37.6609324,
          37.3720803,
          37.3736999,
          37.3824855,
          37.4247797,
          37.3774904,
          37.3042312,
          37.3897096,
          37.3858133,
          37.3023998,
          37.2824923,
          37.3761087,
          37.3874865,
          37.3536782,
          37.3880464,
          37.100331,
          37.3726194,
          37.3718625,
          37.3040479,
          37.3819894,
          37.3890463,
          37.3585589,
          37.3593174,
          4.2685437,
          4.2645309,
          4.2642887,
          4.2635972,
          37.365246,
          37.355629,
          37.3742039,
          37.3773855,
          37.3123385,
          37.4148171,
          37.3932795,
          37.3972674,
          37.3905812,
          37.381633,
          37.3223888,
          37.2832311,
          37.3917556,
          37.3858695,
          37.3855691,
          37.337093,
          37.3252963,
          37.3849155,
          37.3945828,
          37.5365141,
          37.2221232,
          37.3798531,
          37.3828993,
          37.545211,
          37.7807611,
          37.7789366,
          37.3662625,
          37.3800582,
          37.4325717,
          37.4717331,
          37.372653,
          37.4011565,
          37.3605097,
          37.3792072,
          37.381944,
          37.3812806,
          37.3856825,
          37.3708759,
          37.6598589,
          37.7066017,
          37.5737316,
          37.3817904,
          37.4381841,
          37.3729319,
          37.4065108,
          37.3716578,
          37.5447672,
          37.5447161,
          37.4751307,
          37.4643008,
          36.9796885,
          37.3886902,
          37.3795609,
          37.3542239,
          37.3748125,
          37.3791269,
          37.3766656,
          37.3751536,
          37.3777005,
          37.378475,
          37.3828297,
          37.3753009,
          37.3751423,
          37.3819024,
          37.3817406,
          37.3875216,
          37.2858944,
          37.5367864,
          37.5284996,
          37.5350109,
          37.407151,
          37.3709124,
          37.3712266,
          37.3809175,
          37.3934557,
          37.1285468,
          37.3447542,
          37.3412032,
          37.3762284,
          37.2943823,
          37.4186604,
          37.5155549,
          37.3828681,
          37.284439,
          37.2864226,
          37.2861961,
          37.3783874,
          37.5701031,
          37.5676648,
          37.568163,
          37.3998008,
          37.339932,
          37.3845923,
          37.3654498,
          37.3776589,
          37.5765505,
          37.6610648,
          37.388089,
          37.6777821,
          37.4022297,
          37.877409,
          37.3360801,
          37.1985907,
          37.6541918,
          37.3878694,
          37.3937347,
          37.062686,
          37.348162,
          37.3863398,
          37.3722828,
          37.3441038,
          37.3849547,
          37.3939738,
          37.3383715,
          37.3633528,
          37.3768372,
          37.1292,
          37.5116153,
          37.513835,
          37.3807465,
          37.9325297,
          38.092342,
          37.2920056,
          37.1167597,
          37.382793,
          37.3902983,
          37.1551598,
          37.3891129,
          37.3857283,
          36.8562667,
          37.3668858,
          37.2375211,
          37.3817099,
          37.3913028,
          37.1264158,
          37.3952359,
          37.3977957,
          37.5889173,
          37.5895587,
          37.5816832,
          37.5835437,
          37.2896739,
          37.2880475,
          37.4017173,
          37.2460565,
          37.403037,
          37.4250416,
          37.348477,
          37.5462041,
          37.4040577,
          37.2787995,
          37.5233639,
          37.3998747,
          37.2948811
         ],
         "legendgroup": "supermarket",
         "lon": [
          -6.0472036,
          -5.9737693,
          -5.5723199,
          -5.9763418,
          -5.9733419,
          -5.9724546,
          -5.9794179,
          -5.9768997,
          -5.9815793,
          -5.9813217,
          -5.9369929,
          -5.9910877,
          -5.9863711,
          -5.9906521,
          -5.9835362,
          -5.9856329,
          -5.6474422,
          -5.9819761,
          -6.0120047,
          -6.0119015,
          -5.9613759,
          -5.9637284,
          -5.5271327,
          -5.9700072,
          -5.9769987,
          -5.9644557,
          -5.9793319,
          -5.9860088,
          -5.9779561,
          -5.9683925,
          -5.9654044,
          -5.9803391,
          -5.9763155,
          -5.9789718,
          -5.9804517,
          -5.9790562,
          -5.975481,
          -5.9572429,
          -5.9677669,
          -5.9659946,
          -5.969255,
          -5.9689733,
          -5.9654853,
          -5.9461751,
          -5.9230804,
          -5.925213,
          -5.9268237,
          -5.9532198,
          -5.9538345,
          -5.9469451,
          -5.9545486,
          -5.9250194,
          -5.95276,
          -5.9406317,
          -5.9196117,
          -5.9206454,
          -5.9241546,
          -6.0446424,
          -6.0456304,
          -6.0310949,
          -6.0300594,
          -5.978107,
          -5.9710998,
          -5.9683973,
          -5.9566624,
          -5.9601058,
          -5.9894762,
          -5.9919191,
          -5.9362868,
          -5.932839,
          -5.9277721,
          -5.9270066,
          -5.7767863,
          -6.0095892,
          -5.7877631,
          -5.7736967,
          -5.7780879,
          -5.7962499,
          -6.072243,
          -5.9102831,
          -5.9146873,
          -5.9339584,
          -5.9245229,
          -6.0020476,
          -5.9844847,
          -5.9654876,
          -5.9213596,
          -5.9693451,
          -5.9607582,
          -5.9117565,
          -5.827671,
          -5.834486,
          -5.997403,
          -5.9849974,
          -5.997585,
          -6.0518262,
          -6.0613371,
          -6.0674063,
          -5.9536265,
          -5.9472911,
          -5.9514647,
          -5.9956693,
          -5.9730014,
          -5.8580908,
          -6.0669422,
          -5.9754025,
          -5.9812677,
          -5.9412792,
          -5.9849356,
          -6.0250197,
          -6.0059643,
          -6.0060357,
          -5.9818026,
          -5.9352853,
          -5.9433609,
          -5.9252046,
          -5.910971,
          -5.9772574,
          -5.8401204,
          -5.8334524,
          -5.9266725,
          -5.9673225,
          -6.0045754,
          -5.8303426,
          -5.0762451,
          -5.9952049,
          -5.9859219,
          -5.6447327,
          -5.9620406,
          -6.0566873,
          -5.9258418,
          -5.9991195,
          -5.8532728,
          -6.0791734,
          -5.9813724,
          -6.0030198,
          -6.0335377,
          -6.0322142,
          -5.7590353,
          -6.0336533,
          -5.982929,
          -5.99916,
          -5.9267402,
          -4.8833645,
          -5.0880186,
          -5.0856797,
          -5.0728107,
          -5.8454073,
          -6.0530087,
          -6.0556159,
          -6.0526707,
          -6.0103841,
          -6.0134182,
          -6.0801886,
          -5.9706711,
          -5.7598055,
          -5.9300443,
          -5.9269918,
          -4.959488,
          -4.9577282,
          -4.9609931,
          -4.9592467,
          -4.9436485,
          -4.9463952,
          -5.0979443,
          -5.1140827,
          -5.1143778,
          -5.9859998,
          -5.9857084,
          -6.0046336,
          -6.0013408,
          -5.9726165,
          -5.9726701,
          -4.916402,
          -5.9979908,
          -5.4527503,
          -5.4502532,
          -5.4546207,
          -5.0817373,
          -5.0803299,
          -5.9994109,
          -5.9253627,
          -6.0040513,
          -6.0047183,
          -6.0475875,
          -5.9471195,
          -5.9475486,
          -6.3278422,
          -6.0771612,
          -6.0320738,
          -6.0834494,
          -5.9254298,
          -5.7606609,
          -5.3126409,
          -6.0274989,
          -5.5303545,
          -6.1067959,
          -6.0836775,
          -5.9332385,
          -4.8823975,
          -5.5267357,
          -6.0724424,
          -6.0697293,
          -6.0096031,
          -5.9850727,
          -6.0129859,
          -6.3046051,
          -5.9921167,
          -6.0743354,
          -6.2976206,
          -5.9211799,
          -5.9474761,
          -5.9727302,
          -6.0574429,
          -6.0018637,
          -4.9845295,
          -5.9969106,
          -6.0354853,
          -6.297249,
          -6.0039737,
          -6.080157,
          -5.9781164,
          -5.9783584,
          -75.9346416,
          -75.9348948,
          -75.9339817,
          -75.9340334,
          -4.85114,
          -4.985669,
          -6.0028403,
          -5.973638,
          -5.8602342,
          -6.1614621,
          -5.716306,
          -5.7126393,
          -5.979949,
          -6.0847287,
          -6.06612,
          -5.9313921,
          -5.9804426,
          -6.055347,
          -6.0475562,
          -5.8456912,
          -5.8538032,
          -6.0549346,
          -5.9969169,
          -5.0732017,
          -5.8160429,
          -5.999686,
          -5.9745421,
          -5.0787518,
          -5.3889559,
          -5.3868392,
          -5.9988958,
          -5.9795246,
          -6.0504183,
          -5.6396686,
          -5.9959523,
          -5.9937657,
          -6.0410394,
          -6.0075123,
          -6.0039569,
          -6.0039747,
          -6.0079664,
          -5.9769946,
          -5.5336856,
          -5.350012,
          -5.9153841,
          -6.0095526,
          -6.0405927,
          -5.9586408,
          -5.9897152,
          -5.9822434,
          -5.076954,
          -5.0775816,
          -5.6465003,
          -5.3438793,
          -5.938488,
          -6.0084614,
          -5.9188368,
          -5.9763565,
          -6.0000997,
          -5.9990942,
          -6.0038452,
          -5.9983526,
          -5.9984998,
          -5.9993465,
          -6.003598,
          -5.998974,
          -5.998694,
          -6.001493,
          -6.0013333,
          -6.0532792,
          -5.9157327,
          -6.1584518,
          -6.1528978,
          -6.153677,
          -5.9609781,
          -5.9507914,
          -5.9509086,
          -5.973515,
          -5.9965176,
          -5.45486,
          -6.0456497,
          -6.0597904,
          -5.9702723,
          -4.7614862,
          -5.974322,
          -6.2660091,
          -6.0133269,
          -5.9096936,
          -5.9397626,
          -5.9372898,
          -5.9458035,
          -5.4256739,
          -5.4275485,
          -5.4304417,
          -5.9916412,
          -6.0621686,
          -6.0687689,
          -5.9832585,
          -5.9400413,
          -6.1051449,
          -5.5237533,
          -6.337125,
          -5.9856765,
          -5.9775511,
          -5.6218859,
          -6.0253835,
          -4.7797709,
          -5.7114816,
          -5.9745354,
          -5.9650252,
          -5.8057198,
          -6.0385945,
          -6.0079746,
          -6.0013942,
          -5.9893559,
          -5.9613663,
          -5.9926949,
          -5.9711921,
          -6.0436519,
          -5.9740448,
          -5.4558243,
          -6.0257096,
          -6.0248803,
          -5.9660787,
          -5.7591412,
          -5.8197698,
          -4.8783666,
          -5.4541944,
          -6.0034225,
          -5.9970744,
          -5.9248987,
          -5.724898,
          -5.9509205,
          -6.0363361,
          -4.8530425,
          -5.1147409,
          -5.9950427,
          -6.0096021,
          -5.4526637,
          -6.0011722,
          -5.9976974,
          -5.9714288,
          -5.9718825,
          -5.9667695,
          -5.965908,
          -5.4937788,
          -5.5043691,
          -5.9940559,
          -6.3068166,
          -5.9836115,
          -5.9700125,
          -6.0426716,
          -6.0563659,
          -6.0384668,
          -6.057487,
          -6.2696245,
          -5.9804996,
          -5.9228686
         ],
         "marker": {
          "color": "#636efa"
         },
         "mode": "markers",
         "name": "supermarket",
         "showlegend": true,
         "subplot": "mapbox",
         "type": "scattermapbox"
        }
       ],
       "layout": {
        "legend": {
         "title": {
          "text": "tipo"
         },
         "tracegroupgap": 0
        },
        "mapbox": {
         "accesstoken": "pk.eyJ1IjoiZGFvcnRpIiwiYSI6ImNrZnF6M3FlczA3cDEyem16YTNzZmV4M2EifQ.846iF0sMSAXv0kwkwUTYjg",
         "center": {
          "lat": 37.040100694225714,
          "lon": -6.602244700524935
         },
         "domain": {
          "x": [
           0,
           1
          ],
          "y": [
           0,
           1
          ]
         },
         "zoom": 11
        },
        "margin": {
         "t": 60
        },
        "template": {
         "data": {
          "bar": [
           {
            "error_x": {
             "color": "#2a3f5f"
            },
            "error_y": {
             "color": "#2a3f5f"
            },
            "marker": {
             "line": {
              "color": "#E5ECF6",
              "width": 0.5
             },
             "pattern": {
              "fillmode": "overlay",
              "size": 10,
              "solidity": 0.2
             }
            },
            "type": "bar"
           }
          ],
          "barpolar": [
           {
            "marker": {
             "line": {
              "color": "#E5ECF6",
              "width": 0.5
             },
             "pattern": {
              "fillmode": "overlay",
              "size": 10,
              "solidity": 0.2
             }
            },
            "type": "barpolar"
           }
          ],
          "carpet": [
           {
            "aaxis": {
             "endlinecolor": "#2a3f5f",
             "gridcolor": "white",
             "linecolor": "white",
             "minorgridcolor": "white",
             "startlinecolor": "#2a3f5f"
            },
            "baxis": {
             "endlinecolor": "#2a3f5f",
             "gridcolor": "white",
             "linecolor": "white",
             "minorgridcolor": "white",
             "startlinecolor": "#2a3f5f"
            },
            "type": "carpet"
           }
          ],
          "choropleth": [
           {
            "colorbar": {
             "outlinewidth": 0,
             "ticks": ""
            },
            "type": "choropleth"
           }
          ],
          "contour": [
           {
            "colorbar": {
             "outlinewidth": 0,
             "ticks": ""
            },
            "colorscale": [
             [
              0,
              "#0d0887"
             ],
             [
              0.1111111111111111,
              "#46039f"
             ],
             [
              0.2222222222222222,
              "#7201a8"
             ],
             [
              0.3333333333333333,
              "#9c179e"
             ],
             [
              0.4444444444444444,
              "#bd3786"
             ],
             [
              0.5555555555555556,
              "#d8576b"
             ],
             [
              0.6666666666666666,
              "#ed7953"
             ],
             [
              0.7777777777777778,
              "#fb9f3a"
             ],
             [
              0.8888888888888888,
              "#fdca26"
             ],
             [
              1,
              "#f0f921"
             ]
            ],
            "type": "contour"
           }
          ],
          "contourcarpet": [
           {
            "colorbar": {
             "outlinewidth": 0,
             "ticks": ""
            },
            "type": "contourcarpet"
           }
          ],
          "heatmap": [
           {
            "colorbar": {
             "outlinewidth": 0,
             "ticks": ""
            },
            "colorscale": [
             [
              0,
              "#0d0887"
             ],
             [
              0.1111111111111111,
              "#46039f"
             ],
             [
              0.2222222222222222,
              "#7201a8"
             ],
             [
              0.3333333333333333,
              "#9c179e"
             ],
             [
              0.4444444444444444,
              "#bd3786"
             ],
             [
              0.5555555555555556,
              "#d8576b"
             ],
             [
              0.6666666666666666,
              "#ed7953"
             ],
             [
              0.7777777777777778,
              "#fb9f3a"
             ],
             [
              0.8888888888888888,
              "#fdca26"
             ],
             [
              1,
              "#f0f921"
             ]
            ],
            "type": "heatmap"
           }
          ],
          "heatmapgl": [
           {
            "colorbar": {
             "outlinewidth": 0,
             "ticks": ""
            },
            "colorscale": [
             [
              0,
              "#0d0887"
             ],
             [
              0.1111111111111111,
              "#46039f"
             ],
             [
              0.2222222222222222,
              "#7201a8"
             ],
             [
              0.3333333333333333,
              "#9c179e"
             ],
             [
              0.4444444444444444,
              "#bd3786"
             ],
             [
              0.5555555555555556,
              "#d8576b"
             ],
             [
              0.6666666666666666,
              "#ed7953"
             ],
             [
              0.7777777777777778,
              "#fb9f3a"
             ],
             [
              0.8888888888888888,
              "#fdca26"
             ],
             [
              1,
              "#f0f921"
             ]
            ],
            "type": "heatmapgl"
           }
          ],
          "histogram": [
           {
            "marker": {
             "pattern": {
              "fillmode": "overlay",
              "size": 10,
              "solidity": 0.2
             }
            },
            "type": "histogram"
           }
          ],
          "histogram2d": [
           {
            "colorbar": {
             "outlinewidth": 0,
             "ticks": ""
            },
            "colorscale": [
             [
              0,
              "#0d0887"
             ],
             [
              0.1111111111111111,
              "#46039f"
             ],
             [
              0.2222222222222222,
              "#7201a8"
             ],
             [
              0.3333333333333333,
              "#9c179e"
             ],
             [
              0.4444444444444444,
              "#bd3786"
             ],
             [
              0.5555555555555556,
              "#d8576b"
             ],
             [
              0.6666666666666666,
              "#ed7953"
             ],
             [
              0.7777777777777778,
              "#fb9f3a"
             ],
             [
              0.8888888888888888,
              "#fdca26"
             ],
             [
              1,
              "#f0f921"
             ]
            ],
            "type": "histogram2d"
           }
          ],
          "histogram2dcontour": [
           {
            "colorbar": {
             "outlinewidth": 0,
             "ticks": ""
            },
            "colorscale": [
             [
              0,
              "#0d0887"
             ],
             [
              0.1111111111111111,
              "#46039f"
             ],
             [
              0.2222222222222222,
              "#7201a8"
             ],
             [
              0.3333333333333333,
              "#9c179e"
             ],
             [
              0.4444444444444444,
              "#bd3786"
             ],
             [
              0.5555555555555556,
              "#d8576b"
             ],
             [
              0.6666666666666666,
              "#ed7953"
             ],
             [
              0.7777777777777778,
              "#fb9f3a"
             ],
             [
              0.8888888888888888,
              "#fdca26"
             ],
             [
              1,
              "#f0f921"
             ]
            ],
            "type": "histogram2dcontour"
           }
          ],
          "mesh3d": [
           {
            "colorbar": {
             "outlinewidth": 0,
             "ticks": ""
            },
            "type": "mesh3d"
           }
          ],
          "parcoords": [
           {
            "line": {
             "colorbar": {
              "outlinewidth": 0,
              "ticks": ""
             }
            },
            "type": "parcoords"
           }
          ],
          "pie": [
           {
            "automargin": true,
            "type": "pie"
           }
          ],
          "scatter": [
           {
            "fillpattern": {
             "fillmode": "overlay",
             "size": 10,
             "solidity": 0.2
            },
            "type": "scatter"
           }
          ],
          "scatter3d": [
           {
            "line": {
             "colorbar": {
              "outlinewidth": 0,
              "ticks": ""
             }
            },
            "marker": {
             "colorbar": {
              "outlinewidth": 0,
              "ticks": ""
             }
            },
            "type": "scatter3d"
           }
          ],
          "scattercarpet": [
           {
            "marker": {
             "colorbar": {
              "outlinewidth": 0,
              "ticks": ""
             }
            },
            "type": "scattercarpet"
           }
          ],
          "scattergeo": [
           {
            "marker": {
             "colorbar": {
              "outlinewidth": 0,
              "ticks": ""
             }
            },
            "type": "scattergeo"
           }
          ],
          "scattergl": [
           {
            "marker": {
             "colorbar": {
              "outlinewidth": 0,
              "ticks": ""
             }
            },
            "type": "scattergl"
           }
          ],
          "scattermapbox": [
           {
            "marker": {
             "colorbar": {
              "outlinewidth": 0,
              "ticks": ""
             }
            },
            "type": "scattermapbox"
           }
          ],
          "scatterpolar": [
           {
            "marker": {
             "colorbar": {
              "outlinewidth": 0,
              "ticks": ""
             }
            },
            "type": "scatterpolar"
           }
          ],
          "scatterpolargl": [
           {
            "marker": {
             "colorbar": {
              "outlinewidth": 0,
              "ticks": ""
             }
            },
            "type": "scatterpolargl"
           }
          ],
          "scatterternary": [
           {
            "marker": {
             "colorbar": {
              "outlinewidth": 0,
              "ticks": ""
             }
            },
            "type": "scatterternary"
           }
          ],
          "surface": [
           {
            "colorbar": {
             "outlinewidth": 0,
             "ticks": ""
            },
            "colorscale": [
             [
              0,
              "#0d0887"
             ],
             [
              0.1111111111111111,
              "#46039f"
             ],
             [
              0.2222222222222222,
              "#7201a8"
             ],
             [
              0.3333333333333333,
              "#9c179e"
             ],
             [
              0.4444444444444444,
              "#bd3786"
             ],
             [
              0.5555555555555556,
              "#d8576b"
             ],
             [
              0.6666666666666666,
              "#ed7953"
             ],
             [
              0.7777777777777778,
              "#fb9f3a"
             ],
             [
              0.8888888888888888,
              "#fdca26"
             ],
             [
              1,
              "#f0f921"
             ]
            ],
            "type": "surface"
           }
          ],
          "table": [
           {
            "cells": {
             "fill": {
              "color": "#EBF0F8"
             },
             "line": {
              "color": "white"
             }
            },
            "header": {
             "fill": {
              "color": "#C8D4E3"
             },
             "line": {
              "color": "white"
             }
            },
            "type": "table"
           }
          ]
         },
         "layout": {
          "annotationdefaults": {
           "arrowcolor": "#2a3f5f",
           "arrowhead": 0,
           "arrowwidth": 1
          },
          "autotypenumbers": "strict",
          "coloraxis": {
           "colorbar": {
            "outlinewidth": 0,
            "ticks": ""
           }
          },
          "colorscale": {
           "diverging": [
            [
             0,
             "#8e0152"
            ],
            [
             0.1,
             "#c51b7d"
            ],
            [
             0.2,
             "#de77ae"
            ],
            [
             0.3,
             "#f1b6da"
            ],
            [
             0.4,
             "#fde0ef"
            ],
            [
             0.5,
             "#f7f7f7"
            ],
            [
             0.6,
             "#e6f5d0"
            ],
            [
             0.7,
             "#b8e186"
            ],
            [
             0.8,
             "#7fbc41"
            ],
            [
             0.9,
             "#4d9221"
            ],
            [
             1,
             "#276419"
            ]
           ],
           "sequential": [
            [
             0,
             "#0d0887"
            ],
            [
             0.1111111111111111,
             "#46039f"
            ],
            [
             0.2222222222222222,
             "#7201a8"
            ],
            [
             0.3333333333333333,
             "#9c179e"
            ],
            [
             0.4444444444444444,
             "#bd3786"
            ],
            [
             0.5555555555555556,
             "#d8576b"
            ],
            [
             0.6666666666666666,
             "#ed7953"
            ],
            [
             0.7777777777777778,
             "#fb9f3a"
            ],
            [
             0.8888888888888888,
             "#fdca26"
            ],
            [
             1,
             "#f0f921"
            ]
           ],
           "sequentialminus": [
            [
             0,
             "#0d0887"
            ],
            [
             0.1111111111111111,
             "#46039f"
            ],
            [
             0.2222222222222222,
             "#7201a8"
            ],
            [
             0.3333333333333333,
             "#9c179e"
            ],
            [
             0.4444444444444444,
             "#bd3786"
            ],
            [
             0.5555555555555556,
             "#d8576b"
            ],
            [
             0.6666666666666666,
             "#ed7953"
            ],
            [
             0.7777777777777778,
             "#fb9f3a"
            ],
            [
             0.8888888888888888,
             "#fdca26"
            ],
            [
             1,
             "#f0f921"
            ]
           ]
          },
          "colorway": [
           "#636efa",
           "#EF553B",
           "#00cc96",
           "#ab63fa",
           "#FFA15A",
           "#19d3f3",
           "#FF6692",
           "#B6E880",
           "#FF97FF",
           "#FECB52"
          ],
          "font": {
           "color": "#2a3f5f"
          },
          "geo": {
           "bgcolor": "white",
           "lakecolor": "white",
           "landcolor": "#E5ECF6",
           "showlakes": true,
           "showland": true,
           "subunitcolor": "white"
          },
          "hoverlabel": {
           "align": "left"
          },
          "hovermode": "closest",
          "mapbox": {
           "style": "light"
          },
          "paper_bgcolor": "white",
          "plot_bgcolor": "#E5ECF6",
          "polar": {
           "angularaxis": {
            "gridcolor": "white",
            "linecolor": "white",
            "ticks": ""
           },
           "bgcolor": "#E5ECF6",
           "radialaxis": {
            "gridcolor": "white",
            "linecolor": "white",
            "ticks": ""
           }
          },
          "scene": {
           "xaxis": {
            "backgroundcolor": "#E5ECF6",
            "gridcolor": "white",
            "gridwidth": 2,
            "linecolor": "white",
            "showbackground": true,
            "ticks": "",
            "zerolinecolor": "white"
           },
           "yaxis": {
            "backgroundcolor": "#E5ECF6",
            "gridcolor": "white",
            "gridwidth": 2,
            "linecolor": "white",
            "showbackground": true,
            "ticks": "",
            "zerolinecolor": "white"
           },
           "zaxis": {
            "backgroundcolor": "#E5ECF6",
            "gridcolor": "white",
            "gridwidth": 2,
            "linecolor": "white",
            "showbackground": true,
            "ticks": "",
            "zerolinecolor": "white"
           }
          },
          "shapedefaults": {
           "line": {
            "color": "#2a3f5f"
           }
          },
          "ternary": {
           "aaxis": {
            "gridcolor": "white",
            "linecolor": "white",
            "ticks": ""
           },
           "baxis": {
            "gridcolor": "white",
            "linecolor": "white",
            "ticks": ""
           },
           "bgcolor": "#E5ECF6",
           "caxis": {
            "gridcolor": "white",
            "linecolor": "white",
            "ticks": ""
           }
          },
          "title": {
           "x": 0.05
          },
          "xaxis": {
           "automargin": true,
           "gridcolor": "white",
           "linecolor": "white",
           "ticks": "",
           "title": {
            "standoff": 15
           },
           "zerolinecolor": "white",
           "zerolinewidth": 2
          },
          "yaxis": {
           "automargin": true,
           "gridcolor": "white",
           "linecolor": "white",
           "ticks": "",
           "title": {
            "standoff": 15
           },
           "zerolinecolor": "white",
           "zerolinewidth": 2
          }
         }
        }
       }
      }
     },
     "metadata": {},
     "output_type": "display_data"
    }
   ],
   "source": [
    "pinta_mapa(df)"
   ]
  },
  {
   "attachments": {},
   "cell_type": "markdown",
   "metadata": {},
   "source": [
    "## Etiqueta en el mapa\n",
    "Busca la manera de modificar la función `pinta_mapa()`, de tal manera que cuando pases el ratón por encima de cada punto, aparezca el nombre de cada nodo. Por ejemplo, que en el último apartado aparezcan los nombres de los supermercados."
   ]
  },
  {
   "cell_type": "code",
   "execution_count": 19,
   "metadata": {},
   "outputs": [
    {
     "data": {
      "application/vnd.plotly.v1+json": {
       "config": {
        "plotlyServerURL": "https://plot.ly"
       },
       "data": [
        {
         "hovertemplate": "name=%{text}<br>lat=%{lat}<br>lon=%{lon}<extra></extra>",
         "lat": [
          37.3730016,
          37.3900156,
          36.9945325,
          37.4063636,
          37.4065076,
          37.4068889,
          37.381381,
          37.3492941,
          37.3931413,
          37.3916239,
          37.281765,
          37.3945948,
          37.3928078,
          37.3968266,
          37.39283,
          37.4000193,
          37.4636269,
          37.3877763,
          37.3782118,
          37.3784637,
          37.4223309,
          37.4210312,
          37.6592193,
          37.4158443,
          37.408912,
          37.4162977,
          37.4322927,
          37.4265448,
          37.3993597,
          37.4032095,
          37.4040568,
          37.3767341,
          37.3758354,
          37.3709299,
          37.3475816,
          37.3650152,
          37.3666867,
          37.3941226,
          37.3746749,
          37.3821828,
          37.3765331,
          37.3762135,
          37.3828281,
          37.4906658,
          37.2929933,
          37.4004138,
          37.4022714,
          37.382216,
          37.3750846,
          37.3838793,
          37.3758889,
          37.41043,
          37.3995123,
          37.4010345,
          37.4117722,
          37.4021436,
          37.3958654,
          37.3732438,
          37.3770745,
          37.3921822,
          37.373167,
          37.395969,
          37.3993031,
          37.3661575,
          37.3716058,
          37.3612925,
          37.390219,
          37.4019062,
          37.2697298,
          37.344986,
          37.2756379,
          37.4007084,
          37.1744795,
          37.4615531,
          37.1876727,
          37.1851484,
          37.1895563,
          37.1797124,
          37.3207532,
          37.285365,
          37.2855656,
          37.3255608,
          37.2906251,
          37.3888642,
          37.3878814,
          37.3823229,
          37.2661629,
          37.3327558,
          37.3882714,
          37.295735,
          37.3376348,
          37.3322365,
          37.394668,
          37.387336,
          37.37798,
          37.3501025,
          37.3842002,
          37.3418089,
          37.3828833,
          37.3774228,
          37.3838552,
          37.3939616,
          37.4066907,
          37.3542265,
          37.3778989,
          37.3439885,
          37.384986,
          37.3784614,
          37.4245402,
          37.3511902,
          37.3845859,
          37.3829724,
          37.3926834,
          37.487511,
          37.2871942,
          37.1615124,
          37.4084798,
          37.3852201,
          37.3387597,
          37.3416599,
          37.3385438,
          37.3876859,
          37.3755246,
          37.3417027,
          37.5433022,
          37.3732443,
          37.3585028,
          37.4639055,
          37.3720492,
          37.5452087,
          37.2902401,
          37.3984032,
          37.328376,
          37.3684704,
          37.5161622,
          37.3827647,
          37.3972073,
          37.3986384,
          37.9314768,
          37.4012555,
          37.388112,
          37.3897145,
          37.284377,
          37.3007621,
          37.5395984,
          37.5304428,
          37.5379071,
          37.351903,
          37.2962155,
          37.2949076,
          37.2894918,
          37.3846396,
          37.3845658,
          37.3878832,
          37.3901385,
          37.935879,
          37.3390588,
          37.2889914,
          37.3704267,
          37.3709517,
          37.3723487,
          37.3718211,
          37.3764664,
          37.377278,
          37.2315496,
          37.2374432,
          37.2374048,
          37.3588696,
          37.3563452,
          37.3757882,
          37.3947584,
          37.3785976,
          37.378052,
          37.2517534,
          37.3979165,
          37.1288919,
          37.1263749,
          37.1278811,
          37.5442913,
          37.5416931,
          37.3755652,
          37.4109179,
          37.3800415,
          37.3793471,
          37.3528597,
          37.4836776,
          37.4844523,
          37.3596854,
          37.3835149,
          37.3741291,
          37.3826562,
          37.4108539,
          37.9428359,
          37.2238977,
          37.385883,
          37.6601041,
          37.3101139,
          37.3798043,
          37.2783941,
          37.4494613,
          37.6609324,
          37.3720803,
          37.3736999,
          37.3824855,
          37.4247797,
          37.3774904,
          37.3042312,
          37.3897096,
          37.3858133,
          37.3023998,
          37.2824923,
          37.3761087,
          37.3874865,
          37.3536782,
          37.3880464,
          37.100331,
          37.3726194,
          37.3718625,
          37.3040479,
          37.3819894,
          37.3890463,
          37.3585589,
          37.3593174,
          4.2685437,
          4.2645309,
          4.2642887,
          4.2635972,
          37.365246,
          37.355629,
          37.3742039,
          37.3773855,
          37.3123385,
          37.4148171,
          37.3932795,
          37.3972674,
          37.3905812,
          37.381633,
          37.3223888,
          37.2832311,
          37.3917556,
          37.3858695,
          37.3855691,
          37.337093,
          37.3252963,
          37.3849155,
          37.3945828,
          37.5365141,
          37.2221232,
          37.3798531,
          37.3828993,
          37.545211,
          37.7807611,
          37.7789366,
          37.3662625,
          37.3800582,
          37.4325717,
          37.4717331,
          37.372653,
          37.4011565,
          37.3605097,
          37.3792072,
          37.381944,
          37.3812806,
          37.3856825,
          37.3708759,
          37.6598589,
          37.7066017,
          37.5737316,
          37.3817904,
          37.4381841,
          37.3729319,
          37.4065108,
          37.3716578,
          37.5447672,
          37.5447161,
          37.4751307,
          37.4643008,
          36.9796885,
          37.3886902,
          37.3795609,
          37.3542239,
          37.3748125,
          37.3791269,
          37.3766656,
          37.3751536,
          37.3777005,
          37.378475,
          37.3828297,
          37.3753009,
          37.3751423,
          37.3819024,
          37.3817406,
          37.3875216,
          37.2858944,
          37.5367864,
          37.5284996,
          37.5350109,
          37.407151,
          37.3709124,
          37.3712266,
          37.3809175,
          37.3934557,
          37.1285468,
          37.3447542,
          37.3412032,
          37.3762284,
          37.2943823,
          37.4186604,
          37.5155549,
          37.3828681,
          37.284439,
          37.2864226,
          37.2861961,
          37.3783874,
          37.5701031,
          37.5676648,
          37.568163,
          37.3998008,
          37.339932,
          37.3845923,
          37.3654498,
          37.3776589,
          37.5765505,
          37.6610648,
          37.388089,
          37.6777821,
          37.4022297,
          37.877409,
          37.3360801,
          37.1985907,
          37.6541918,
          37.3878694,
          37.3937347,
          37.062686,
          37.348162,
          37.3863398,
          37.3722828,
          37.3441038,
          37.3849547,
          37.3939738,
          37.3383715,
          37.3633528,
          37.3768372,
          37.1292,
          37.5116153,
          37.513835,
          37.3807465,
          37.9325297,
          38.092342,
          37.2920056,
          37.1167597,
          37.382793,
          37.3902983,
          37.1551598,
          37.3891129,
          37.3857283,
          36.8562667,
          37.3668858,
          37.2375211,
          37.3817099,
          37.3913028,
          37.1264158,
          37.3952359,
          37.3977957,
          37.5889173,
          37.5895587,
          37.5816832,
          37.5835437,
          37.2896739,
          37.2880475,
          37.4017173,
          37.2460565,
          37.403037,
          37.4250416,
          37.348477,
          37.5462041,
          37.4040577,
          37.2787995,
          37.5233639,
          37.3998747,
          37.2948811
         ],
         "legendgroup": "",
         "lon": [
          -6.0472036,
          -5.9737693,
          -5.5723199,
          -5.9763418,
          -5.9733419,
          -5.9724546,
          -5.9794179,
          -5.9768997,
          -5.9815793,
          -5.9813217,
          -5.9369929,
          -5.9910877,
          -5.9863711,
          -5.9906521,
          -5.9835362,
          -5.9856329,
          -5.6474422,
          -5.9819761,
          -6.0120047,
          -6.0119015,
          -5.9613759,
          -5.9637284,
          -5.5271327,
          -5.9700072,
          -5.9769987,
          -5.9644557,
          -5.9793319,
          -5.9860088,
          -5.9779561,
          -5.9683925,
          -5.9654044,
          -5.9803391,
          -5.9763155,
          -5.9789718,
          -5.9804517,
          -5.9790562,
          -5.975481,
          -5.9572429,
          -5.9677669,
          -5.9659946,
          -5.969255,
          -5.9689733,
          -5.9654853,
          -5.9461751,
          -5.9230804,
          -5.925213,
          -5.9268237,
          -5.9532198,
          -5.9538345,
          -5.9469451,
          -5.9545486,
          -5.9250194,
          -5.95276,
          -5.9406317,
          -5.9196117,
          -5.9206454,
          -5.9241546,
          -6.0446424,
          -6.0456304,
          -6.0310949,
          -6.0300594,
          -5.978107,
          -5.9710998,
          -5.9683973,
          -5.9566624,
          -5.9601058,
          -5.9894762,
          -5.9919191,
          -5.9362868,
          -5.932839,
          -5.9277721,
          -5.9270066,
          -5.7767863,
          -6.0095892,
          -5.7877631,
          -5.7736967,
          -5.7780879,
          -5.7962499,
          -6.072243,
          -5.9102831,
          -5.9146873,
          -5.9339584,
          -5.9245229,
          -6.0020476,
          -5.9844847,
          -5.9654876,
          -5.9213596,
          -5.9693451,
          -5.9607582,
          -5.9117565,
          -5.827671,
          -5.834486,
          -5.997403,
          -5.9849974,
          -5.997585,
          -6.0518262,
          -6.0613371,
          -6.0674063,
          -5.9536265,
          -5.9472911,
          -5.9514647,
          -5.9956693,
          -5.9730014,
          -5.8580908,
          -6.0669422,
          -5.9754025,
          -5.9812677,
          -5.9412792,
          -5.9849356,
          -6.0250197,
          -6.0059643,
          -6.0060357,
          -5.9818026,
          -5.9352853,
          -5.9433609,
          -5.9252046,
          -5.910971,
          -5.9772574,
          -5.8401204,
          -5.8334524,
          -5.9266725,
          -5.9673225,
          -6.0045754,
          -5.8303426,
          -5.0762451,
          -5.9952049,
          -5.9859219,
          -5.6447327,
          -5.9620406,
          -6.0566873,
          -5.9258418,
          -5.9991195,
          -5.8532728,
          -6.0791734,
          -5.9813724,
          -6.0030198,
          -6.0335377,
          -6.0322142,
          -5.7590353,
          -6.0336533,
          -5.982929,
          -5.99916,
          -5.9267402,
          -4.8833645,
          -5.0880186,
          -5.0856797,
          -5.0728107,
          -5.8454073,
          -6.0530087,
          -6.0556159,
          -6.0526707,
          -6.0103841,
          -6.0134182,
          -6.0801886,
          -5.9706711,
          -5.7598055,
          -5.9300443,
          -5.9269918,
          -4.959488,
          -4.9577282,
          -4.9609931,
          -4.9592467,
          -4.9436485,
          -4.9463952,
          -5.0979443,
          -5.1140827,
          -5.1143778,
          -5.9859998,
          -5.9857084,
          -6.0046336,
          -6.0013408,
          -5.9726165,
          -5.9726701,
          -4.916402,
          -5.9979908,
          -5.4527503,
          -5.4502532,
          -5.4546207,
          -5.0817373,
          -5.0803299,
          -5.9994109,
          -5.9253627,
          -6.0040513,
          -6.0047183,
          -6.0475875,
          -5.9471195,
          -5.9475486,
          -6.3278422,
          -6.0771612,
          -6.0320738,
          -6.0834494,
          -5.9254298,
          -5.7606609,
          -5.3126409,
          -6.0274989,
          -5.5303545,
          -6.1067959,
          -6.0836775,
          -5.9332385,
          -4.8823975,
          -5.5267357,
          -6.0724424,
          -6.0697293,
          -6.0096031,
          -5.9850727,
          -6.0129859,
          -6.3046051,
          -5.9921167,
          -6.0743354,
          -6.2976206,
          -5.9211799,
          -5.9474761,
          -5.9727302,
          -6.0574429,
          -6.0018637,
          -4.9845295,
          -5.9969106,
          -6.0354853,
          -6.297249,
          -6.0039737,
          -6.080157,
          -5.9781164,
          -5.9783584,
          -75.9346416,
          -75.9348948,
          -75.9339817,
          -75.9340334,
          -4.85114,
          -4.985669,
          -6.0028403,
          -5.973638,
          -5.8602342,
          -6.1614621,
          -5.716306,
          -5.7126393,
          -5.979949,
          -6.0847287,
          -6.06612,
          -5.9313921,
          -5.9804426,
          -6.055347,
          -6.0475562,
          -5.8456912,
          -5.8538032,
          -6.0549346,
          -5.9969169,
          -5.0732017,
          -5.8160429,
          -5.999686,
          -5.9745421,
          -5.0787518,
          -5.3889559,
          -5.3868392,
          -5.9988958,
          -5.9795246,
          -6.0504183,
          -5.6396686,
          -5.9959523,
          -5.9937657,
          -6.0410394,
          -6.0075123,
          -6.0039569,
          -6.0039747,
          -6.0079664,
          -5.9769946,
          -5.5336856,
          -5.350012,
          -5.9153841,
          -6.0095526,
          -6.0405927,
          -5.9586408,
          -5.9897152,
          -5.9822434,
          -5.076954,
          -5.0775816,
          -5.6465003,
          -5.3438793,
          -5.938488,
          -6.0084614,
          -5.9188368,
          -5.9763565,
          -6.0000997,
          -5.9990942,
          -6.0038452,
          -5.9983526,
          -5.9984998,
          -5.9993465,
          -6.003598,
          -5.998974,
          -5.998694,
          -6.001493,
          -6.0013333,
          -6.0532792,
          -5.9157327,
          -6.1584518,
          -6.1528978,
          -6.153677,
          -5.9609781,
          -5.9507914,
          -5.9509086,
          -5.973515,
          -5.9965176,
          -5.45486,
          -6.0456497,
          -6.0597904,
          -5.9702723,
          -4.7614862,
          -5.974322,
          -6.2660091,
          -6.0133269,
          -5.9096936,
          -5.9397626,
          -5.9372898,
          -5.9458035,
          -5.4256739,
          -5.4275485,
          -5.4304417,
          -5.9916412,
          -6.0621686,
          -6.0687689,
          -5.9832585,
          -5.9400413,
          -6.1051449,
          -5.5237533,
          -6.337125,
          -5.9856765,
          -5.9775511,
          -5.6218859,
          -6.0253835,
          -4.7797709,
          -5.7114816,
          -5.9745354,
          -5.9650252,
          -5.8057198,
          -6.0385945,
          -6.0079746,
          -6.0013942,
          -5.9893559,
          -5.9613663,
          -5.9926949,
          -5.9711921,
          -6.0436519,
          -5.9740448,
          -5.4558243,
          -6.0257096,
          -6.0248803,
          -5.9660787,
          -5.7591412,
          -5.8197698,
          -4.8783666,
          -5.4541944,
          -6.0034225,
          -5.9970744,
          -5.9248987,
          -5.724898,
          -5.9509205,
          -6.0363361,
          -4.8530425,
          -5.1147409,
          -5.9950427,
          -6.0096021,
          -5.4526637,
          -6.0011722,
          -5.9976974,
          -5.9714288,
          -5.9718825,
          -5.9667695,
          -5.965908,
          -5.4937788,
          -5.5043691,
          -5.9940559,
          -6.3068166,
          -5.9836115,
          -5.9700125,
          -6.0426716,
          -6.0563659,
          -6.0384668,
          -6.057487,
          -6.2696245,
          -5.9804996,
          -5.9228686
         ],
         "marker": {
          "color": "#636efa"
         },
         "mode": "markers+text",
         "name": "",
         "showlegend": false,
         "subplot": "mapbox",
         "text": [
          "MAS",
          "Maxi Dia",
          "Dia",
          "El Jamón",
          "Valdejimena",
          "Dia",
          "MAS",
          "Mercadona",
          "Supersol",
          "NO NAME",
          "Dia",
          "El Jamón",
          "Masymas",
          "Maxi Dia",
          "Dia Market",
          "Dia Market",
          "Mercadona",
          "Maxi Dia",
          "El Jamón",
          "Dia Market",
          "NO NAME",
          "NO NAME",
          "Mercadona",
          "NO NAME",
          "NO NAME",
          "NO NAME",
          "NO NAME",
          "NO NAME",
          "Mercadona",
          "NO NAME",
          "NO NAME",
          "NO NAME",
          "Supercor",
          "Supermercados Mas",
          "El Jamón",
          "Mercadona",
          "El Jamón",
          "Maxi Dia",
          "Maxi Dia",
          "OpenCor",
          "M.A.S.",
          "El Jamón",
          "NO NAME",
          "Dia",
          "Mercadona",
          "Mercadona",
          "Dia",
          "Supersol",
          "Dia",
          "NO NAME",
          "El Jamón",
          "NO NAME",
          "Covirán",
          "NO NAME",
          "NO NAME",
          "Cash Fresh",
          "NO NAME",
          "Mercadona",
          "Mas",
          "Carrefour",
          "Hipercor",
          "Supersol",
          "NO NAME",
          "El Jamón",
          "Dia",
          "NO NAME",
          "Dia",
          "MAS",
          "Covirán",
          "M.A.S.",
          "Codi",
          "Cash",
          "Mercadona",
          "Maxi Dia",
          "Mercadona",
          "Hipersol",
          "Codi",
          "Supermercado Juani",
          "Mas",
          "Codi",
          "Codi",
          "Mas Olivares",
          "Codi",
          "MAS&Go",
          "El Jamón",
          "Supemercados El Jamón",
          "Bebidas Sur",
          "Lidl",
          "Hipercor",
          "Cash - Hnos López González",
          "Dia",
          "Caliser",
          "Dia",
          "Mas",
          "Supersol",
          "Mercadona",
          "ALDI",
          "Eroski",
          "NO NAME",
          "Dia",
          "Cash fresh",
          "Hiper Oriente",
          "MAS",
          "Mercadona",
          "Lidl",
          "Supermercado MAS",
          "Supermercado MAS",
          "Cash Fresh",
          "Supermcado \"M.A.S.\"",
          "Mercadona",
          "El Jamón",
          "MAS",
          "Carrefour Market",
          "Mercadona",
          "Covirán",
          "Hermanos Páez Martín",
          "Alcampo",
          "Mas",
          "Supermercado M.A.S",
          "Mercadona",
          "Mercadona",
          "Supermercado",
          "Supermercado MAS",
          "Lidl",
          "San Enrique",
          "Supermercados MAS",
          "Supersol",
          "Miguel Angel",
          "Mercadona",
          "MASS Supermercados",
          "Covirán",
          "La Ortiga",
          "NO NAME",
          "Supermercados Mas",
          "NO NAME",
          "Maskom",
          "Mercadona",
          "Supermercado Victoriano",
          "Eroski",
          "Dia",
          "Spar",
          "Supermercados MAS",
          "Covirán",
          "Mercadona",
          "Mercadona",
          "Carrefour",
          "ALDI",
          "Maxi Dia",
          "Lidl",
          "Dia",
          "Mercadona",
          "Dia",
          "Dia",
          "Supermercado Proxim",
          "NO NAME",
          "Dia Market",
          "Codi",
          "Covirán",
          "NO NAME",
          "NO NAME",
          "Eroski",
          "NO NAME",
          "NO NAME",
          "NO NAME",
          "Eroski",
          "Mercadona",
          "Lidl",
          "MAS&Go",
          "El Jamón",
          "El Jamón",
          "Supermrecados Mas",
          "La Coriana",
          "El Toni",
          "Dia",
          "Carrefour express",
          "Dia",
          "Lidl",
          "Urbano Center",
          "San Enrique",
          "Covirán",
          "Lidl",
          "El Jamón",
          "El Jamón",
          "Cash Fresh",
          "Supermercado MAS",
          "NO NAME",
          "NO NAME",
          "Badia",
          "MAS",
          "Dia",
          "Maxi Dia",
          "Perfumeria Ana",
          "Cash Fresh",
          "Dia",
          "Maxi Dia",
          "Dia",
          "Dia",
          "Supeco",
          "Cash Catalino Supherme",
          "Minimarket",
          "Nicasio",
          "Alimentación YEN",
          "Hiper Frutas y Pescado Aljarafe",
          "El Jamón",
          "Supersol",
          "Autoservicio Rosa",
          "Covirán",
          "Mas",
          "El Jamón",
          "Dia",
          "Codi",
          "Jamón",
          "Super Oriental",
          "Alimentation biologique",
          "Mas",
          "NO NAME",
          "Dia",
          "Mercadona",
          "Covirán",
          "Supermercado Ecológico.Herboteca",
          "Supermercado Noah",
          "Mas",
          "El Jamón",
          "Autoservicio la miranda",
          "Merkacentro",
          "Ara",
          "D1",
          "Dia",
          "Alsara",
          "NO NAME",
          "El Colmado de Pimpi",
          "Mercadona",
          "NO NAME",
          "Supermercado Paz",
          "Mercadona",
          "NO NAME",
          "El Molino de Gines",
          "Maxi Dia",
          "Codi",
          "ALDI",
          "Codi",
          "Mercadona",
          "Dia",
          "ALDI",
          "Covirán",
          "MAS&Go",
          "Lidl",
          "Ayala",
          "Mercadona",
          "Dia",
          "Dia",
          "Covirán",
          "Covirán",
          "ALDI",
          "Dia",
          "Cash Fresh",
          "El Jamón",
          "Supermercado Lin",
          "Supermercado Alameda",
          "Suma",
          "El Jamón",
          "Supermercado Ecológico Herboteca",
          "Supermercado MAS",
          "Mezcla - Productos Ecológicos",
          "Dia",
          "Cash Fresh",
          "cash peñaflor",
          "NO NAME",
          "Suma",
          "Supermercado Bazar",
          "El Jamón",
          "Mercadona",
          "Mas&Go",
          "San Enrique",
          "EL POLVILLO",
          "SuperCarmela",
          "NO NAME",
          "Super Carmela",
          "Dia",
          "NO NAME",
          "Supersol",
          "MAS&Go",
          "MAS & go",
          "MAS",
          "MAS",
          "Dia",
          "ALDI",
          "Primaprix",
          "Covirán",
          "MAS",
          "Dia Market",
          "Supermercados La Cesta",
          "Spar",
          "El Jamón",
          "Nietas de Maruja",
          "La Esquina Ibérica",
          "El Burrito",
          "Mercadrink",
          "Dia Market",
          "Supersol",
          "supermercado sur",
          "El Corte Ingles",
          "Family Cash",
          "Covirán",
          "Supermercados MAS",
          "Alimentación Mei Bazar",
          "Supermercado Jeromito",
          "Carrefour",
          "Dia",
          "Cash Fresh",
          "NO NAME",
          "Cash Fresh",
          "Codi",
          "NO NAME",
          "Supermercado Carmela",
          "Covirán",
          "Supermercado Carmela",
          "Doña Aceituna",
          "Alsara express",
          "Súper de Gines",
          "CASH FRESH",
          "Dia",
          "Supermercado",
          "Panadería Mati",
          "Supermercado Martín",
          "Covirán",
          "Dia",
          "Supercarmela",
          "Suma",
          "Dia",
          "Dia",
          "NO NAME",
          "Supermercado DIA",
          "Super Carmela",
          "Gran vida eco tienda",
          "Carrefour Expres",
          "Spar",
          "Mercadona",
          "CensoredShop",
          "Carrefour Express",
          "Tienda Supercor Stop & Go",
          "Family Cash",
          "Dia",
          "Mercadona",
          "NO NAME",
          "Tienda Pepa",
          "CashFresh",
          "Plaza de Abastos",
          "Mercado Municipal",
          "Mercado de Abastos",
          "Ccarnicería Trini",
          "Dia",
          "El Corte Inglés",
          "Maxi Dia",
          "Supermercado Sánchez",
          "Dia",
          "Autoservicio Juani",
          "Autoservicio Pepi",
          "El Jamón",
          "Dia",
          "Dia",
          "Precados S.L",
          "NO NAME",
          "NO NAME",
          "Supermercado Spar Burguillos",
          "Supermercado Las Niñas",
          "Supermercado Eroski",
          "Supermercados Dia",
          "Covirán",
          "Carripas",
          "Carrefour Express",
          "El Canito Supermercado",
          "Supermercado Eva",
          "NO NAME",
          "Supermercados El Jamón",
          "Dia",
          "Mercadona",
          "Supermercados Barco Coviran",
          "Covirán",
          "ALDI",
          "Autoservicio La Ganchoza (Covirán)"
         ],
         "type": "scattermapbox"
        }
       ],
       "layout": {
        "legend": {
         "tracegroupgap": 0
        },
        "mapbox": {
         "accesstoken": "pk.eyJ1IjoiZGFvcnRpIiwiYSI6ImNrZnF6M3FlczA3cDEyem16YTNzZmV4M2EifQ.846iF0sMSAXv0kwkwUTYjg",
         "center": {
          "lat": 37.040100694225714,
          "lon": -6.602244700524935
         },
         "domain": {
          "x": [
           0,
           1
          ],
          "y": [
           0,
           1
          ]
         },
         "zoom": 11
        },
        "margin": {
         "t": 60
        },
        "template": {
         "data": {
          "bar": [
           {
            "error_x": {
             "color": "#2a3f5f"
            },
            "error_y": {
             "color": "#2a3f5f"
            },
            "marker": {
             "line": {
              "color": "#E5ECF6",
              "width": 0.5
             },
             "pattern": {
              "fillmode": "overlay",
              "size": 10,
              "solidity": 0.2
             }
            },
            "type": "bar"
           }
          ],
          "barpolar": [
           {
            "marker": {
             "line": {
              "color": "#E5ECF6",
              "width": 0.5
             },
             "pattern": {
              "fillmode": "overlay",
              "size": 10,
              "solidity": 0.2
             }
            },
            "type": "barpolar"
           }
          ],
          "carpet": [
           {
            "aaxis": {
             "endlinecolor": "#2a3f5f",
             "gridcolor": "white",
             "linecolor": "white",
             "minorgridcolor": "white",
             "startlinecolor": "#2a3f5f"
            },
            "baxis": {
             "endlinecolor": "#2a3f5f",
             "gridcolor": "white",
             "linecolor": "white",
             "minorgridcolor": "white",
             "startlinecolor": "#2a3f5f"
            },
            "type": "carpet"
           }
          ],
          "choropleth": [
           {
            "colorbar": {
             "outlinewidth": 0,
             "ticks": ""
            },
            "type": "choropleth"
           }
          ],
          "contour": [
           {
            "colorbar": {
             "outlinewidth": 0,
             "ticks": ""
            },
            "colorscale": [
             [
              0,
              "#0d0887"
             ],
             [
              0.1111111111111111,
              "#46039f"
             ],
             [
              0.2222222222222222,
              "#7201a8"
             ],
             [
              0.3333333333333333,
              "#9c179e"
             ],
             [
              0.4444444444444444,
              "#bd3786"
             ],
             [
              0.5555555555555556,
              "#d8576b"
             ],
             [
              0.6666666666666666,
              "#ed7953"
             ],
             [
              0.7777777777777778,
              "#fb9f3a"
             ],
             [
              0.8888888888888888,
              "#fdca26"
             ],
             [
              1,
              "#f0f921"
             ]
            ],
            "type": "contour"
           }
          ],
          "contourcarpet": [
           {
            "colorbar": {
             "outlinewidth": 0,
             "ticks": ""
            },
            "type": "contourcarpet"
           }
          ],
          "heatmap": [
           {
            "colorbar": {
             "outlinewidth": 0,
             "ticks": ""
            },
            "colorscale": [
             [
              0,
              "#0d0887"
             ],
             [
              0.1111111111111111,
              "#46039f"
             ],
             [
              0.2222222222222222,
              "#7201a8"
             ],
             [
              0.3333333333333333,
              "#9c179e"
             ],
             [
              0.4444444444444444,
              "#bd3786"
             ],
             [
              0.5555555555555556,
              "#d8576b"
             ],
             [
              0.6666666666666666,
              "#ed7953"
             ],
             [
              0.7777777777777778,
              "#fb9f3a"
             ],
             [
              0.8888888888888888,
              "#fdca26"
             ],
             [
              1,
              "#f0f921"
             ]
            ],
            "type": "heatmap"
           }
          ],
          "heatmapgl": [
           {
            "colorbar": {
             "outlinewidth": 0,
             "ticks": ""
            },
            "colorscale": [
             [
              0,
              "#0d0887"
             ],
             [
              0.1111111111111111,
              "#46039f"
             ],
             [
              0.2222222222222222,
              "#7201a8"
             ],
             [
              0.3333333333333333,
              "#9c179e"
             ],
             [
              0.4444444444444444,
              "#bd3786"
             ],
             [
              0.5555555555555556,
              "#d8576b"
             ],
             [
              0.6666666666666666,
              "#ed7953"
             ],
             [
              0.7777777777777778,
              "#fb9f3a"
             ],
             [
              0.8888888888888888,
              "#fdca26"
             ],
             [
              1,
              "#f0f921"
             ]
            ],
            "type": "heatmapgl"
           }
          ],
          "histogram": [
           {
            "marker": {
             "pattern": {
              "fillmode": "overlay",
              "size": 10,
              "solidity": 0.2
             }
            },
            "type": "histogram"
           }
          ],
          "histogram2d": [
           {
            "colorbar": {
             "outlinewidth": 0,
             "ticks": ""
            },
            "colorscale": [
             [
              0,
              "#0d0887"
             ],
             [
              0.1111111111111111,
              "#46039f"
             ],
             [
              0.2222222222222222,
              "#7201a8"
             ],
             [
              0.3333333333333333,
              "#9c179e"
             ],
             [
              0.4444444444444444,
              "#bd3786"
             ],
             [
              0.5555555555555556,
              "#d8576b"
             ],
             [
              0.6666666666666666,
              "#ed7953"
             ],
             [
              0.7777777777777778,
              "#fb9f3a"
             ],
             [
              0.8888888888888888,
              "#fdca26"
             ],
             [
              1,
              "#f0f921"
             ]
            ],
            "type": "histogram2d"
           }
          ],
          "histogram2dcontour": [
           {
            "colorbar": {
             "outlinewidth": 0,
             "ticks": ""
            },
            "colorscale": [
             [
              0,
              "#0d0887"
             ],
             [
              0.1111111111111111,
              "#46039f"
             ],
             [
              0.2222222222222222,
              "#7201a8"
             ],
             [
              0.3333333333333333,
              "#9c179e"
             ],
             [
              0.4444444444444444,
              "#bd3786"
             ],
             [
              0.5555555555555556,
              "#d8576b"
             ],
             [
              0.6666666666666666,
              "#ed7953"
             ],
             [
              0.7777777777777778,
              "#fb9f3a"
             ],
             [
              0.8888888888888888,
              "#fdca26"
             ],
             [
              1,
              "#f0f921"
             ]
            ],
            "type": "histogram2dcontour"
           }
          ],
          "mesh3d": [
           {
            "colorbar": {
             "outlinewidth": 0,
             "ticks": ""
            },
            "type": "mesh3d"
           }
          ],
          "parcoords": [
           {
            "line": {
             "colorbar": {
              "outlinewidth": 0,
              "ticks": ""
             }
            },
            "type": "parcoords"
           }
          ],
          "pie": [
           {
            "automargin": true,
            "type": "pie"
           }
          ],
          "scatter": [
           {
            "fillpattern": {
             "fillmode": "overlay",
             "size": 10,
             "solidity": 0.2
            },
            "type": "scatter"
           }
          ],
          "scatter3d": [
           {
            "line": {
             "colorbar": {
              "outlinewidth": 0,
              "ticks": ""
             }
            },
            "marker": {
             "colorbar": {
              "outlinewidth": 0,
              "ticks": ""
             }
            },
            "type": "scatter3d"
           }
          ],
          "scattercarpet": [
           {
            "marker": {
             "colorbar": {
              "outlinewidth": 0,
              "ticks": ""
             }
            },
            "type": "scattercarpet"
           }
          ],
          "scattergeo": [
           {
            "marker": {
             "colorbar": {
              "outlinewidth": 0,
              "ticks": ""
             }
            },
            "type": "scattergeo"
           }
          ],
          "scattergl": [
           {
            "marker": {
             "colorbar": {
              "outlinewidth": 0,
              "ticks": ""
             }
            },
            "type": "scattergl"
           }
          ],
          "scattermapbox": [
           {
            "marker": {
             "colorbar": {
              "outlinewidth": 0,
              "ticks": ""
             }
            },
            "type": "scattermapbox"
           }
          ],
          "scatterpolar": [
           {
            "marker": {
             "colorbar": {
              "outlinewidth": 0,
              "ticks": ""
             }
            },
            "type": "scatterpolar"
           }
          ],
          "scatterpolargl": [
           {
            "marker": {
             "colorbar": {
              "outlinewidth": 0,
              "ticks": ""
             }
            },
            "type": "scatterpolargl"
           }
          ],
          "scatterternary": [
           {
            "marker": {
             "colorbar": {
              "outlinewidth": 0,
              "ticks": ""
             }
            },
            "type": "scatterternary"
           }
          ],
          "surface": [
           {
            "colorbar": {
             "outlinewidth": 0,
             "ticks": ""
            },
            "colorscale": [
             [
              0,
              "#0d0887"
             ],
             [
              0.1111111111111111,
              "#46039f"
             ],
             [
              0.2222222222222222,
              "#7201a8"
             ],
             [
              0.3333333333333333,
              "#9c179e"
             ],
             [
              0.4444444444444444,
              "#bd3786"
             ],
             [
              0.5555555555555556,
              "#d8576b"
             ],
             [
              0.6666666666666666,
              "#ed7953"
             ],
             [
              0.7777777777777778,
              "#fb9f3a"
             ],
             [
              0.8888888888888888,
              "#fdca26"
             ],
             [
              1,
              "#f0f921"
             ]
            ],
            "type": "surface"
           }
          ],
          "table": [
           {
            "cells": {
             "fill": {
              "color": "#EBF0F8"
             },
             "line": {
              "color": "white"
             }
            },
            "header": {
             "fill": {
              "color": "#C8D4E3"
             },
             "line": {
              "color": "white"
             }
            },
            "type": "table"
           }
          ]
         },
         "layout": {
          "annotationdefaults": {
           "arrowcolor": "#2a3f5f",
           "arrowhead": 0,
           "arrowwidth": 1
          },
          "autotypenumbers": "strict",
          "coloraxis": {
           "colorbar": {
            "outlinewidth": 0,
            "ticks": ""
           }
          },
          "colorscale": {
           "diverging": [
            [
             0,
             "#8e0152"
            ],
            [
             0.1,
             "#c51b7d"
            ],
            [
             0.2,
             "#de77ae"
            ],
            [
             0.3,
             "#f1b6da"
            ],
            [
             0.4,
             "#fde0ef"
            ],
            [
             0.5,
             "#f7f7f7"
            ],
            [
             0.6,
             "#e6f5d0"
            ],
            [
             0.7,
             "#b8e186"
            ],
            [
             0.8,
             "#7fbc41"
            ],
            [
             0.9,
             "#4d9221"
            ],
            [
             1,
             "#276419"
            ]
           ],
           "sequential": [
            [
             0,
             "#0d0887"
            ],
            [
             0.1111111111111111,
             "#46039f"
            ],
            [
             0.2222222222222222,
             "#7201a8"
            ],
            [
             0.3333333333333333,
             "#9c179e"
            ],
            [
             0.4444444444444444,
             "#bd3786"
            ],
            [
             0.5555555555555556,
             "#d8576b"
            ],
            [
             0.6666666666666666,
             "#ed7953"
            ],
            [
             0.7777777777777778,
             "#fb9f3a"
            ],
            [
             0.8888888888888888,
             "#fdca26"
            ],
            [
             1,
             "#f0f921"
            ]
           ],
           "sequentialminus": [
            [
             0,
             "#0d0887"
            ],
            [
             0.1111111111111111,
             "#46039f"
            ],
            [
             0.2222222222222222,
             "#7201a8"
            ],
            [
             0.3333333333333333,
             "#9c179e"
            ],
            [
             0.4444444444444444,
             "#bd3786"
            ],
            [
             0.5555555555555556,
             "#d8576b"
            ],
            [
             0.6666666666666666,
             "#ed7953"
            ],
            [
             0.7777777777777778,
             "#fb9f3a"
            ],
            [
             0.8888888888888888,
             "#fdca26"
            ],
            [
             1,
             "#f0f921"
            ]
           ]
          },
          "colorway": [
           "#636efa",
           "#EF553B",
           "#00cc96",
           "#ab63fa",
           "#FFA15A",
           "#19d3f3",
           "#FF6692",
           "#B6E880",
           "#FF97FF",
           "#FECB52"
          ],
          "font": {
           "color": "#2a3f5f"
          },
          "geo": {
           "bgcolor": "white",
           "lakecolor": "white",
           "landcolor": "#E5ECF6",
           "showlakes": true,
           "showland": true,
           "subunitcolor": "white"
          },
          "hoverlabel": {
           "align": "left"
          },
          "hovermode": "closest",
          "mapbox": {
           "style": "light"
          },
          "paper_bgcolor": "white",
          "plot_bgcolor": "#E5ECF6",
          "polar": {
           "angularaxis": {
            "gridcolor": "white",
            "linecolor": "white",
            "ticks": ""
           },
           "bgcolor": "#E5ECF6",
           "radialaxis": {
            "gridcolor": "white",
            "linecolor": "white",
            "ticks": ""
           }
          },
          "scene": {
           "xaxis": {
            "backgroundcolor": "#E5ECF6",
            "gridcolor": "white",
            "gridwidth": 2,
            "linecolor": "white",
            "showbackground": true,
            "ticks": "",
            "zerolinecolor": "white"
           },
           "yaxis": {
            "backgroundcolor": "#E5ECF6",
            "gridcolor": "white",
            "gridwidth": 2,
            "linecolor": "white",
            "showbackground": true,
            "ticks": "",
            "zerolinecolor": "white"
           },
           "zaxis": {
            "backgroundcolor": "#E5ECF6",
            "gridcolor": "white",
            "gridwidth": 2,
            "linecolor": "white",
            "showbackground": true,
            "ticks": "",
            "zerolinecolor": "white"
           }
          },
          "shapedefaults": {
           "line": {
            "color": "#2a3f5f"
           }
          },
          "ternary": {
           "aaxis": {
            "gridcolor": "white",
            "linecolor": "white",
            "ticks": ""
           },
           "baxis": {
            "gridcolor": "white",
            "linecolor": "white",
            "ticks": ""
           },
           "bgcolor": "#E5ECF6",
           "caxis": {
            "gridcolor": "white",
            "linecolor": "white",
            "ticks": ""
           }
          },
          "title": {
           "x": 0.05
          },
          "xaxis": {
           "automargin": true,
           "gridcolor": "white",
           "linecolor": "white",
           "ticks": "",
           "title": {
            "standoff": 15
           },
           "zerolinecolor": "white",
           "zerolinewidth": 2
          },
          "yaxis": {
           "automargin": true,
           "gridcolor": "white",
           "linecolor": "white",
           "ticks": "",
           "title": {
            "standoff": 15
           },
           "zerolinecolor": "white",
           "zerolinewidth": 2
          }
         }
        }
       }
      }
     },
     "metadata": {},
     "output_type": "display_data"
    }
   ],
   "source": [
    "def pinta_mapa(df):\n",
    "    fig = px.scatter_mapbox(df,\n",
    "                            lat=\"lat\",\n",
    "                            lon=\"lon\",\n",
    "                            text = \"name\",\n",
    "                      color_continuous_scale=px.colors.cyclical.IceFire, size_max=15, zoom=11)\n",
    "    fig.update_layout(\n",
    "        mapbox=dict(\n",
    "            accesstoken=mapbox_access_token\n",
    "        )\n",
    "    )\n",
    "\n",
    "    fig.show()\n",
    "pinta_mapa(df)"
   ]
  }
 ],
 "metadata": {
  "kernelspec": {
   "display_name": "Python 3",
   "language": "python",
   "name": "python3"
  },
  "language_info": {
   "codemirror_mode": {
    "name": "ipython",
    "version": 3
   },
   "file_extension": ".py",
   "mimetype": "text/x-python",
   "name": "python",
   "nbconvert_exporter": "python",
   "pygments_lexer": "ipython3",
   "version": "3.12.3"
  },
  "vscode": {
   "interpreter": {
    "hash": "252189e587d1e2aeba4a06e91fa71896c7a7f6e22e918b9407c7cde4ef2d5985"
   }
  }
 },
 "nbformat": 4,
 "nbformat_minor": 4
}

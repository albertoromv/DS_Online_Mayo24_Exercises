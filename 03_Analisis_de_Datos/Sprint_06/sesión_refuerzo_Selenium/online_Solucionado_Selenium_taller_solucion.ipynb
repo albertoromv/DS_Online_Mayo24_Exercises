{
 "cells": [
  {
   "cell_type": "markdown",
   "metadata": {
    "pycharm": {
     "name": "#%% md\n"
    }
   },
   "source": [
    "# Web Scraping con Selenium\n",
    "\n",
    "##### Vamos a ver como acceder a una web creando un bot con la librería Selenium que interactuará con la página\n"
   ]
  },
  {
   "cell_type": "markdown",
   "metadata": {
    "pycharm": {
     "name": "#%% md\n"
    }
   },
   "source": [
    "## 1. Instalación de librerías\n",
    "\n",
    "Tenemos que usar las librerías Selenium y Webdriver_manager. Vamos a instalarlas:"
   ]
  },
  {
   "cell_type": "code",
   "execution_count": 1,
   "metadata": {
    "collapsed": false,
    "jupyter": {
     "outputs_hidden": false
    },
    "pycharm": {
     "name": "#%%\n"
    }
   },
   "outputs": [],
   "source": [
    "#!pip install selenium\n",
    "#!pip install webdriver_manager"
   ]
  },
  {
   "cell_type": "markdown",
   "metadata": {
    "pycharm": {
     "name": "#%% md\n"
    }
   },
   "source": [
    "## 2. Importación de las librerías"
   ]
  },
  {
   "cell_type": "code",
   "execution_count": 2,
   "metadata": {},
   "outputs": [],
   "source": [
    "from selenium.webdriver.support.ui import WebDriverWait           \n",
    "from selenium.webdriver.support import expected_conditions as EC"
   ]
  },
  {
   "cell_type": "code",
   "execution_count": 3,
   "metadata": {
    "collapsed": false,
    "jupyter": {
     "outputs_hidden": false
    },
    "pycharm": {
     "name": "#%%\n"
    }
   },
   "outputs": [],
   "source": [
    "#Para la manipulación de datos\n",
    "import pandas as pd\n",
    "\n",
    "#Servicio y driver de Chrome de Selenium\n",
    "from selenium import webdriver\n",
    "from selenium.webdriver.chrome.service import Service\n",
    "from webdriver_manager.chrome import ChromeDriverManager\n",
    "\n",
    "#Las opciones que vamos a tener para buscar elementos\n",
    "from selenium.webdriver.common.by import By\n",
    "\n",
    "#Para cuando queramos mandar pulsaciones de teclado\n",
    "from selenium.webdriver.common.keys import Keys\n",
    "\n",
    "#Hacemos que espere\n",
    "import time\n"
   ]
  },
  {
   "cell_type": "markdown",
   "metadata": {
    "pycharm": {
     "name": "#%% md\n"
    }
   },
   "source": [
    "## 3. Instalación del webdriver\n",
    "\n",
    "El webdriver es lo que nos va a permitir conectarnos con el navegador. Lo instalamos:"
   ]
  },
  {
   "cell_type": "code",
   "execution_count": 4,
   "metadata": {
    "collapsed": false,
    "jupyter": {
     "outputs_hidden": false
    },
    "pycharm": {
     "name": "#%%\n"
    }
   },
   "outputs": [],
   "source": [
    "service = Service(ChromeDriverManager().install())\n",
    "driver = webdriver.Chrome(service=service)"
   ]
  },
  {
   "cell_type": "markdown",
   "metadata": {
    "pycharm": {
     "name": "#%% md\n"
    }
   },
   "source": [
    "## 4. Abrir web\n",
    "Abrimos la web en el driver ya podemos navegar y acceder a los elementos de la página"
   ]
  },
  {
   "cell_type": "code",
   "execution_count": 5,
   "metadata": {
    "collapsed": false,
    "jupyter": {
     "outputs_hidden": false
    },
    "pycharm": {
     "is_executing": true,
     "name": "#%%\n"
    }
   },
   "outputs": [],
   "source": [
    "url = \"https://www.filmaffinity.com\"\n",
    "driver.get(url)"
   ]
  },
  {
   "cell_type": "markdown",
   "metadata": {
    "pycharm": {
     "name": "#%% md\n"
    }
   },
   "source": [
    "## 5. Scrapeo\n",
    "Empezamos lo interesante:"
   ]
  },
  {
   "cell_type": "markdown",
   "metadata": {
    "pycharm": {
     "name": "#%% md\n"
    }
   },
   "source": [
    "Podemos acceder a elementos en la página de varias maneras:\n",
    "- Nombre de la etiqueta\n",
    "- Atributo: Clase\n",
    "- Atributo: ID\n",
    "- Atributo: Name\n",
    "- Selector: Xpath\n",
    "- Selector: CSS Selector\n",
    "\n",
    "Para ello vamos a usar el driver que hemos creado y el By."
   ]
  },
  {
   "cell_type": "markdown",
   "metadata": {
    "pycharm": {
     "name": "#%% md\n"
    }
   },
   "source": [
    "##### Beginner Selenium Cheatsheet:\n",
    "Sacar un elemento:\n",
    "- element = driver.find_element(by, value)\n",
    "\n",
    "Sacar varios elementos:\n",
    "- element = driver.find_elements(by, value)\n",
    "\n",
    "Sacar atributos:\n",
    "- attribute = element.--el atributo--\n",
    "- attribute = element.get_attribute(--el atributo--)\n",
    "\n",
    "Hacer click:\n",
    "- element.click()\n",
    "\n",
    "Teclear:\n",
    "- element.send_keys()\n",
    "\n",
    "Gestión de pestañas:\n",
    "- driver.switch_to.window(driver.window_handles[-1])\n",
    "- driver.get(url)\n",
    "- driver.close()"
   ]
  },
  {
   "cell_type": "markdown",
   "metadata": {
    "pycharm": {
     "name": "#%% md\n"
    }
   },
   "source": [
    "Vemos que hay un popup pidiendo que aceptemos las cookies. ¡Vamos a aceptarlo!"
   ]
  },
  {
   "cell_type": "code",
   "execution_count": 6,
   "metadata": {},
   "outputs": [
    {
     "name": "stdout",
     "output_type": "stream",
     "text": [
      "<class 'list'>\n",
      "socios\n",
      "MÁS OPCIONES\n",
      "NO ACEPTO\n",
      "ACEPTO\n",
      "ACEPTO\n",
      "ACEPTO\n"
     ]
    }
   ],
   "source": [
    "# Encontrar elementos por etiqueta html\n",
    "elements_by_tag = driver.find_elements(By.TAG_NAME, 'button')\n",
    "print(type(elements_by_tag))\n",
    "\n",
    "for i in elements_by_tag:\n",
    "    print(i.text)\n",
    "\n",
    "\n",
    "# Encontrar elementos por clase\n",
    "element_by_class_name = driver.find_element(By.CLASS_NAME,'css-xlut8b')\n",
    "print(element_by_class_name.find_element(By.TAG_NAME, 'span').text)\n",
    "\n",
    "# Encontrar elementos por XPATH\n",
    "element_by_xpath = driver.find_element(By.XPATH,'//*[@id=\"qc-cmp2-ui\"]/div[2]/div/button[3]')\n",
    "print(element_by_xpath.text)\n"
   ]
  },
  {
   "cell_type": "markdown",
   "metadata": {},
   "source": [
    "### Dos formas de obtener todos los botones"
   ]
  },
  {
   "cell_type": "markdown",
   "metadata": {},
   "source": [
    "Recorriendo la lista"
   ]
  },
  {
   "cell_type": "code",
   "execution_count": 7,
   "metadata": {},
   "outputs": [
    {
     "name": "stdout",
     "output_type": "stream",
     "text": [
      "socios\n",
      "MÁS OPCIONES\n",
      "NO ACEPTO\n",
      "ACEPTO\n"
     ]
    }
   ],
   "source": [
    "for i in elements_by_tag:\n",
    "    print(i.text)"
   ]
  },
  {
   "cell_type": "markdown",
   "metadata": {},
   "source": [
    "Recorriendo los índices"
   ]
  },
  {
   "cell_type": "code",
   "execution_count": 8,
   "metadata": {},
   "outputs": [
    {
     "name": "stdout",
     "output_type": "stream",
     "text": [
      "4\n",
      "socios\n",
      "MÁS OPCIONES\n",
      "NO ACEPTO\n",
      "ACEPTO\n"
     ]
    }
   ],
   "source": [
    "print(len(elements_by_tag))\n",
    "for i in range(len(elements_by_tag)):\n",
    "    print(elements_by_tag[i].text)"
   ]
  },
  {
   "cell_type": "code",
   "execution_count": 9,
   "metadata": {
    "collapsed": false,
    "jupyter": {
     "outputs_hidden": false
    },
    "pycharm": {
     "name": "#%%\n"
    }
   },
   "outputs": [
    {
     "name": "stdout",
     "output_type": "stream",
     "text": [
      "Etiqueta: button\n",
      "Texto de la etiqueta: ACEPTO\n",
      "Atributo mode: primary\n",
      "Atributo size: large\n"
     ]
    }
   ],
   "source": [
    "#Primero, seleccionamos el botón\n",
    "accept = driver.find_element(By.CLASS_NAME, 'css-xlut8b')\n",
    "\n",
    "#Nos aseguramos de que es el botón que estamos buscando\n",
    "\n",
    "print(\"Etiqueta: {}\".format(accept.tag_name))\n",
    "print(\"Texto de la etiqueta: {}\".format(accept.text))\n",
    "print(\"Atributo mode: {}\".format(accept.get_attribute('mode')))\n",
    "print(\"Atributo size: {}\".format(accept.get_attribute('size')))\n",
    "\n",
    "#Hacemos click\n",
    "accept.click()"
   ]
  },
  {
   "cell_type": "markdown",
   "metadata": {
    "pycharm": {
     "name": "#%% md\n"
    }
   },
   "source": [
    "Hacemos la búsqueda de una película"
   ]
  },
  {
   "cell_type": "code",
   "execution_count": 10,
   "metadata": {},
   "outputs": [
    {
     "data": {
      "text/plain": [
       "<selenium.webdriver.remote.webelement.WebElement (session=\"1c5d2d96dd149ff3033453cb433c8680\", element=\"f.938C83996CBEA4C1231C056342B9F3B6.d.AFA31CFE539002A75FACC734FA5AA788.e.9\")>"
      ]
     },
     "execution_count": 10,
     "metadata": {},
     "output_type": "execute_result"
    }
   ],
   "source": [
    "#Búsqueda por etiqueta\n",
    "search = driver.find_element(By.TAG_NAME, 'input')\n",
    "search"
   ]
  },
  {
   "cell_type": "code",
   "execution_count": 11,
   "metadata": {},
   "outputs": [
    {
     "data": {
      "text/plain": [
       "<selenium.webdriver.remote.webelement.WebElement (session=\"1c5d2d96dd149ff3033453cb433c8680\", element=\"f.938C83996CBEA4C1231C056342B9F3B6.d.AFA31CFE539002A75FACC734FA5AA788.e.9\")>"
      ]
     },
     "execution_count": 11,
     "metadata": {},
     "output_type": "execute_result"
    }
   ],
   "source": [
    "#Búsqueda por ID. Buscamos la barra de navegación de la página web\n",
    "search = driver.find_element(By.ID, 'top-search-input-2')\n",
    "search"
   ]
  },
  {
   "cell_type": "code",
   "execution_count": 12,
   "metadata": {},
   "outputs": [],
   "source": [
    "#Teclea contenido dentro de la barra.\n",
    "search.send_keys('Oblivion')"
   ]
  },
  {
   "cell_type": "code",
   "execution_count": 13,
   "metadata": {},
   "outputs": [],
   "source": [
    "# limpiar la barra de búsqueda\n",
    "search.clear()"
   ]
  },
  {
   "cell_type": "code",
   "execution_count": 14,
   "metadata": {},
   "outputs": [
    {
     "data": {
      "text/plain": [
       "True"
      ]
     },
     "execution_count": 14,
     "metadata": {},
     "output_type": "execute_result"
    }
   ],
   "source": [
    "#Para asegurarnos, podemos hacer una captura del elemento\n",
    "search.screenshot('buscador.png')"
   ]
  },
  {
   "cell_type": "code",
   "execution_count": 15,
   "metadata": {
    "collapsed": false,
    "jupyter": {
     "outputs_hidden": false
    },
    "pycharm": {
     "name": "#%%\n"
    }
   },
   "outputs": [],
   "source": [
    "#Introducimos el nombre de la película a buscar\n",
    "search.send_keys('Oblivion')\n",
    "\n",
    "#Espera 5 segundos\n",
    "time.sleep(5)\n",
    "\n",
    "#Pulsamos intro\n",
    "search.send_keys(Keys.ENTER)\n"
   ]
  },
  {
   "cell_type": "markdown",
   "metadata": {
    "pycharm": {
     "name": "#%% md\n"
    }
   },
   "source": [
    "Entramos en el primer resultado"
   ]
  },
  {
   "cell_type": "code",
   "execution_count": 16,
   "metadata": {
    "collapsed": false,
    "jupyter": {
     "outputs_hidden": false
    },
    "pycharm": {
     "name": "#%%\n"
    }
   },
   "outputs": [
    {
     "data": {
      "text/plain": [
       "<selenium.webdriver.remote.webelement.WebElement (session=\"1c5d2d96dd149ff3033453cb433c8680\", element=\"f.938C83996CBEA4C1231C056342B9F3B6.d.A9613A3D237A95F498566F63444BB063.e.51\")>"
      ]
     },
     "execution_count": 16,
     "metadata": {},
     "output_type": "execute_result"
    }
   ],
   "source": [
    "#Accedemos al bloque que vemos que se repite. Podemos sacar la lista...\n",
    "movie = driver.find_elements(By.CLASS_NAME, 'se-it')[0]\n",
    "\n",
    "\n",
    "#...o podemos directamente el primer resultado\n",
    "movie = driver.find_element(By.CLASS_NAME, 'se-it')\n",
    "movie"
   ]
  },
  {
   "cell_type": "code",
   "execution_count": 17,
   "metadata": {},
   "outputs": [],
   "source": [
    "#Accedemos mediante un selector CSS al elemento a, que contiene el enlace (texto)\n",
    "url = movie.find_element(By.CSS_SELECTOR, 'div.mc-title a')\n",
    "'div.mc-title a'\n",
    "'div.mc-info-container a'\n",
    "#Accedemos mediante un selector CSS al elemento a, que contiene el enlace (texto) desde el padre\n",
    "url = movie.find_element(By.CSS_SELECTOR, 'div.mc-info-container a')\n"
   ]
  },
  {
   "cell_type": "code",
   "execution_count": 18,
   "metadata": {},
   "outputs": [
    {
     "data": {
      "text/plain": [
       "'Oblivion'"
      ]
     },
     "execution_count": 18,
     "metadata": {},
     "output_type": "execute_result"
    }
   ],
   "source": [
    "#Accedemos mediante la clase al elemento a, que contiene el enlace (texto)\n",
    "url_titulo = movie.find_element(By.CLASS_NAME, 'mc-title')\n",
    "url=url_titulo.find_element(By.TAG_NAME, 'a')\n",
    "url.text"
   ]
  },
  {
   "cell_type": "code",
   "execution_count": 19,
   "metadata": {},
   "outputs": [],
   "source": [
    "url_poster = movie.find_element(by=By.CLASS_NAME, value='mc-poster')\n",
    "url = url_poster.find_element(By.TAG_NAME, value=\"a\")"
   ]
  },
  {
   "cell_type": "code",
   "execution_count": 20,
   "metadata": {},
   "outputs": [
    {
     "name": "stdout",
     "output_type": "stream",
     "text": [
      "https://www.filmaffinity.com/es/film618375.html\n"
     ]
    }
   ],
   "source": [
    "#Guardamos el enlace\n",
    "link = url.get_attribute('href')\n",
    "print(link)"
   ]
  },
  {
   "cell_type": "code",
   "execution_count": 21,
   "metadata": {},
   "outputs": [],
   "source": [
    "url_poster.click()"
   ]
  },
  {
   "cell_type": "code",
   "execution_count": 22,
   "metadata": {},
   "outputs": [],
   "source": [
    "#Volver\n",
    "#driver.back()"
   ]
  },
  {
   "cell_type": "markdown",
   "metadata": {
    "pycharm": {
     "name": "#%% md\n"
    }
   },
   "source": [
    "Vamos a sacar los datos principales de la película:"
   ]
  },
  {
   "cell_type": "code",
   "execution_count": 23,
   "metadata": {
    "collapsed": false,
    "jupyter": {
     "outputs_hidden": false
    },
    "pycharm": {
     "name": "#%%\n"
    }
   },
   "outputs": [
    {
     "name": "stdout",
     "output_type": "stream",
     "text": [
      "Título original - Oblivion\n",
      "Año - 2013\n",
      "Duración - 126 min.\n",
      "País -  Estados Unidos\n",
      "Dirección - Joseph Kosinski\n",
      "Guion - Joseph Kosinski, Michael Arndt, Karl Gajdusek. Cómic: Joseph Kosinski, Arvid Nelson\n",
      "Reparto - Tom Cruise\n",
      "Andrea Riseborough\n",
      "Olga Kurylenko\n",
      "Morgan Freeman\n",
      "Nikolaj Coster-Waldau\n",
      "Zoe Bell\n",
      "Música - Anthony Gonzalez, M83, Joseph Trapanese\n",
      "Fotografía - Claudio Miranda\n",
      "Compañías - Universal Pictures, Chernin Entertainment, Relativity Studios, Monolith Pictures, Radical Studios\n",
      "Género - Ciencia ficción. Intriga | Futuro postapocalíptico. Distopía. Cómic\n",
      "Sinopsis - Año 2073. Hace más de 60 años la Tierra fue atacada; se ganó la guerra, pero la mitad del planeta quedó destruido, y todos los seres humanos fueron evacuados. Jack Harper (Tom Cruise), un antiguo marine, es uno de los últimos hombres que la habitan. Es un ingeniero de Drones que participa en una operación para extraer los recursos vitales del planeta. Su misión consiste en patrullar diariamente los cielos. Un día, rescata a una desconocida de una nave espacial y, entonces, se ve obligado a replantearse sus convicciones más profundas. (FILMAFFINITY)\n"
     ]
    }
   ],
   "source": [
    "data = driver.find_element(By.CLASS_NAME, 'movie-info')\n",
    "dts = data.find_elements(By.TAG_NAME, 'dt')\n",
    "dds = data.find_elements(By.TAG_NAME, 'dd')\n",
    "\n",
    "#len(dts) == len(dds)\n",
    "movie_dict = dict()\n",
    "for i in range(len(dts)):\n",
    "    movie_dict[dts[i].text] = dds[i].text\n",
    "    print(f\"{dts[i].text} - {dds[i].text}\")"
   ]
  },
  {
   "cell_type": "code",
   "execution_count": 24,
   "metadata": {},
   "outputs": [
    {
     "data": {
      "text/plain": [
       "{'Título original': 'Oblivion',\n",
       " 'Año': '2013',\n",
       " 'Duración': '126 min.',\n",
       " 'País': ' Estados Unidos',\n",
       " 'Dirección': 'Joseph Kosinski',\n",
       " 'Guion': 'Joseph Kosinski, Michael Arndt, Karl Gajdusek. Cómic: Joseph Kosinski, Arvid Nelson',\n",
       " 'Reparto': 'Tom Cruise\\nAndrea Riseborough\\nOlga Kurylenko\\nMorgan Freeman\\nNikolaj Coster-Waldau\\nZoe Bell',\n",
       " 'Música': 'Anthony Gonzalez, M83, Joseph Trapanese',\n",
       " 'Fotografía': 'Claudio Miranda',\n",
       " 'Compañías': 'Universal Pictures, Chernin Entertainment, Relativity Studios, Monolith Pictures, Radical Studios',\n",
       " 'Género': 'Ciencia ficción. Intriga | Futuro postapocalíptico. Distopía. Cómic',\n",
       " 'Sinopsis': 'Año 2073. Hace más de 60 años la Tierra fue atacada; se ganó la guerra, pero la mitad del planeta quedó destruido, y todos los seres humanos fueron evacuados. Jack Harper (Tom Cruise), un antiguo marine, es uno de los últimos hombres que la habitan. Es un ingeniero de Drones que participa en una operación para extraer los recursos vitales del planeta. Su misión consiste en patrullar diariamente los cielos. Un día, rescata a una desconocida de una nave espacial y, entonces, se ve obligado a replantearse sus convicciones más profundas. (FILMAFFINITY)'}"
      ]
     },
     "execution_count": 24,
     "metadata": {},
     "output_type": "execute_result"
    }
   ],
   "source": [
    "movie_dict"
   ]
  },
  {
   "cell_type": "markdown",
   "metadata": {},
   "source": [
    "#### Creamos un dataframe"
   ]
  },
  {
   "cell_type": "code",
   "execution_count": 25,
   "metadata": {},
   "outputs": [],
   "source": [
    "df= pd.DataFrame([movie_dict]) #es decir, mediante una lista de diccionarios (1 diccionario)\n"
   ]
  },
  {
   "cell_type": "code",
   "execution_count": 26,
   "metadata": {},
   "outputs": [
    {
     "data": {
      "text/html": [
       "<div>\n",
       "<style scoped>\n",
       "    .dataframe tbody tr th:only-of-type {\n",
       "        vertical-align: middle;\n",
       "    }\n",
       "\n",
       "    .dataframe tbody tr th {\n",
       "        vertical-align: top;\n",
       "    }\n",
       "\n",
       "    .dataframe thead th {\n",
       "        text-align: right;\n",
       "    }\n",
       "</style>\n",
       "<table border=\"1\" class=\"dataframe\">\n",
       "  <thead>\n",
       "    <tr style=\"text-align: right;\">\n",
       "      <th></th>\n",
       "      <th>Título original</th>\n",
       "      <th>Año</th>\n",
       "      <th>Duración</th>\n",
       "      <th>País</th>\n",
       "      <th>Dirección</th>\n",
       "      <th>Guion</th>\n",
       "      <th>Reparto</th>\n",
       "      <th>Música</th>\n",
       "      <th>Fotografía</th>\n",
       "      <th>Compañías</th>\n",
       "      <th>Género</th>\n",
       "      <th>Sinopsis</th>\n",
       "    </tr>\n",
       "  </thead>\n",
       "  <tbody>\n",
       "    <tr>\n",
       "      <th>0</th>\n",
       "      <td>Oblivion</td>\n",
       "      <td>2013</td>\n",
       "      <td>126 min.</td>\n",
       "      <td>Estados Unidos</td>\n",
       "      <td>Joseph Kosinski</td>\n",
       "      <td>Joseph Kosinski, Michael Arndt, Karl Gajdusek....</td>\n",
       "      <td>Tom Cruise\\nAndrea Riseborough\\nOlga Kurylenko...</td>\n",
       "      <td>Anthony Gonzalez, M83, Joseph Trapanese</td>\n",
       "      <td>Claudio Miranda</td>\n",
       "      <td>Universal Pictures, Chernin Entertainment, Rel...</td>\n",
       "      <td>Ciencia ficción. Intriga | Futuro postapocalíp...</td>\n",
       "      <td>Año 2073. Hace más de 60 años la Tierra fue at...</td>\n",
       "    </tr>\n",
       "  </tbody>\n",
       "</table>\n",
       "</div>"
      ],
      "text/plain": [
       "  Título original   Año  Duración             País        Dirección  \\\n",
       "0        Oblivion  2013  126 min.   Estados Unidos  Joseph Kosinski   \n",
       "\n",
       "                                               Guion  \\\n",
       "0  Joseph Kosinski, Michael Arndt, Karl Gajdusek....   \n",
       "\n",
       "                                             Reparto  \\\n",
       "0  Tom Cruise\\nAndrea Riseborough\\nOlga Kurylenko...   \n",
       "\n",
       "                                    Música       Fotografía  \\\n",
       "0  Anthony Gonzalez, M83, Joseph Trapanese  Claudio Miranda   \n",
       "\n",
       "                                           Compañías  \\\n",
       "0  Universal Pictures, Chernin Entertainment, Rel...   \n",
       "\n",
       "                                              Género  \\\n",
       "0  Ciencia ficción. Intriga | Futuro postapocalíp...   \n",
       "\n",
       "                                            Sinopsis  \n",
       "0  Año 2073. Hace más de 60 años la Tierra fue at...  "
      ]
     },
     "execution_count": 26,
     "metadata": {},
     "output_type": "execute_result"
    }
   ],
   "source": [
    "df"
   ]
  },
  {
   "cell_type": "markdown",
   "metadata": {},
   "source": [
    "#### EXTRA"
   ]
  },
  {
   "cell_type": "markdown",
   "metadata": {},
   "source": [
    "Abrir nueva ventana:"
   ]
  },
  {
   "cell_type": "code",
   "execution_count": 27,
   "metadata": {},
   "outputs": [],
   "source": [
    "driver.execute_script('window.open(\"\");')"
   ]
  },
  {
   "cell_type": "markdown",
   "metadata": {},
   "source": [
    "Movernos a otra ventana"
   ]
  },
  {
   "cell_type": "code",
   "execution_count": 28,
   "metadata": {},
   "outputs": [],
   "source": [
    "driver.switch_to.window(driver.window_handles[-1])"
   ]
  },
  {
   "cell_type": "markdown",
   "metadata": {},
   "source": [
    "Cerrar ventana"
   ]
  },
  {
   "cell_type": "code",
   "execution_count": 29,
   "metadata": {},
   "outputs": [],
   "source": [
    "driver.close()"
   ]
  }
 ],
 "metadata": {
  "kernelspec": {
   "display_name": "Python 3 (ipykernel)",
   "language": "python",
   "name": "python3"
  },
  "language_info": {
   "codemirror_mode": {
    "name": "ipython",
    "version": 3
   },
   "file_extension": ".py",
   "mimetype": "text/x-python",
   "name": "python",
   "nbconvert_exporter": "python",
   "pygments_lexer": "ipython3",
   "version": "3.12.3"
  },
  "vscode": {
   "interpreter": {
    "hash": "252189e587d1e2aeba4a06e91fa71896c7a7f6e22e918b9407c7cde4ef2d5985"
   }
  }
 },
 "nbformat": 4,
 "nbformat_minor": 4
}
